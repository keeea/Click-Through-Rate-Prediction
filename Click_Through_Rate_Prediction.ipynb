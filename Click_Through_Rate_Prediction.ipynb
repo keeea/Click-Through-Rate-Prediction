{
  "cells": [
    {
      "cell_type": "markdown",
      "metadata": {
        "id": "RE6Rwycc67Xi"
      },
      "source": [
        "# Click-Through Rate Prediction"
      ]
    },
    {
      "cell_type": "code",
      "execution_count": 9,
      "metadata": {
        "id": "2uyisB6B67Xj"
      },
      "outputs": [],
      "source": [
        "import numpy as np\n",
        "import random\n",
        "n = 40428967  #total number of records in the clickstream data \n",
        "sample_size = 1000000\n",
        "skip_values = sorted(random.sample(range(1,n), n-sample_size)) \n",
        "\n",
        "types_train = {\n",
        "    'id': np.dtype(int),\n",
        "    'click': np.dtype(int),\n",
        "    'hour': np.dtype(int),\n",
        "    'C1': np.dtype(int),\n",
        "    'banner_pos': np.dtype(int),\n",
        "    'site_id': np.dtype(str),\n",
        "    'site_domain': np.dtype(str), \n",
        "    'site_category': np.dtype(str),\n",
        "    'app_id': np.dtype(str),\n",
        "    'app_domain': np.dtype(str),\n",
        "    'app_category': np.dtype(str),\n",
        "    'device_id': np.dtype(str),\n",
        "    'device_ip': np.dtype(str),\n",
        "    'device_model': np.dtype(str),\n",
        "    'device_type': np.dtype(int),\n",
        "    'device_conn_type': np.dtype(int),\n",
        "    'C14': np.dtype(int),\n",
        "    'C15': np.dtype(int),\n",
        "    'C16': np.dtype(int),\n",
        "    'C17': np.dtype(int),\n",
        "    'C18': np.dtype(int),\n",
        "    'C19': np.dtype(int),\n",
        "    'C20': np.dtype(int),\n",
        "    'C21':np.dtype(int)\n",
        "}\n",
        "\n",
        "types_test = {\n",
        "    'id': np.dtype(int),\n",
        "    'hour': np.dtype(int),\n",
        "    'C1': np.dtype(int),\n",
        "    'banner_pos': np.dtype(int),\n",
        "    'site_id': np.dtype(str),\n",
        "    'site_domain': np.dtype(str), \n",
        "    'site_category': np.dtype(str),\n",
        "    'app_id': np.dtype(str),\n",
        "    'app_domain': np.dtype(str),\n",
        "    'app_category': np.dtype(str),\n",
        "    'device_id': np.dtype(str),\n",
        "    'device_ip': np.dtype(str),\n",
        "    'device_model': np.dtype(str),\n",
        "    'device_type': np.dtype(int),\n",
        "    'device_conn_type': np.dtype(int),\n",
        "    'C14': np.dtype(int),\n",
        "    'C15': np.dtype(int),\n",
        "    'C16': np.dtype(int),\n",
        "    'C17': np.dtype(int),\n",
        "    'C18': np.dtype(int),\n",
        "    'C19': np.dtype(int),\n",
        "    'C20': np.dtype(int),\n",
        "    'C21':np.dtype(int)\n",
        "}"
      ]
    },
    {
      "cell_type": "code",
      "execution_count": 10,
      "metadata": {
        "colab": {
          "base_uri": "https://localhost:8080/",
          "height": 422
        },
        "id": "REdm42Wh67Xl",
        "outputId": "9a0a9ce2-1834-4ba0-e2bb-e9c56cf3c563"
      },
      "outputs": [
        {
          "output_type": "stream",
          "name": "stderr",
          "text": [
            "/usr/local/lib/python3.7/dist-packages/ipykernel_launcher.py:4: FutureWarning: The pandas.datetime class is deprecated and will be removed from pandas in a future version. Import from datetime module instead.\n",
            "  after removing the cwd from sys.path.\n"
          ]
        },
        {
          "output_type": "execute_result",
          "data": {
            "text/plain": [
              "                     id  click       hour    C1  banner_pos   site_id  \\\n",
              "0  10000169349117863715      0 2014-10-21  1005           0  1fbe01fe   \n",
              "1  10000949271186029916      1 2014-10-21  1005           0  1fbe01fe   \n",
              "2  10006490708516192015      1 2014-10-21  1005           0  1fbe01fe   \n",
              "3  10009190848778773294      0 2014-10-21  1005           1  5ee41ff2   \n",
              "4  10017640116993553715      0 2014-10-21  1005           0  1fbe01fe   \n",
              "\n",
              "  site_domain site_category    app_id app_domain  ... device_type  \\\n",
              "0    f3845767      28905ebd  ecad2386   7801e8d9  ...           1   \n",
              "1    f3845767      28905ebd  ecad2386   7801e8d9  ...           1   \n",
              "2    f3845767      28905ebd  ecad2386   7801e8d9  ...           1   \n",
              "3    17d996e6      f028772b  ecad2386   7801e8d9  ...           1   \n",
              "4    f3845767      28905ebd  ecad2386   7801e8d9  ...           1   \n",
              "\n",
              "  device_conn_type    C14  C15  C16   C17  C18  C19     C20  C21  \n",
              "0                0  15704  320   50  1722    0   35  100084   79  \n",
              "1                2  15707  320   50  1722    0   35      -1   79  \n",
              "2                0  15708  320   50  1722    0   35  100083   79  \n",
              "3                0  16920  320   50  1899    0  431      -1  117  \n",
              "4                0  15707  320   50  1722    0   35  100084   79  \n",
              "\n",
              "[5 rows x 24 columns]"
            ],
            "text/html": [
              "\n",
              "  <div id=\"df-d8e54a15-8141-4a7d-8911-db61df4cc5cc\">\n",
              "    <div class=\"colab-df-container\">\n",
              "      <div>\n",
              "<style scoped>\n",
              "    .dataframe tbody tr th:only-of-type {\n",
              "        vertical-align: middle;\n",
              "    }\n",
              "\n",
              "    .dataframe tbody tr th {\n",
              "        vertical-align: top;\n",
              "    }\n",
              "\n",
              "    .dataframe thead th {\n",
              "        text-align: right;\n",
              "    }\n",
              "</style>\n",
              "<table border=\"1\" class=\"dataframe\">\n",
              "  <thead>\n",
              "    <tr style=\"text-align: right;\">\n",
              "      <th></th>\n",
              "      <th>id</th>\n",
              "      <th>click</th>\n",
              "      <th>hour</th>\n",
              "      <th>C1</th>\n",
              "      <th>banner_pos</th>\n",
              "      <th>site_id</th>\n",
              "      <th>site_domain</th>\n",
              "      <th>site_category</th>\n",
              "      <th>app_id</th>\n",
              "      <th>app_domain</th>\n",
              "      <th>...</th>\n",
              "      <th>device_type</th>\n",
              "      <th>device_conn_type</th>\n",
              "      <th>C14</th>\n",
              "      <th>C15</th>\n",
              "      <th>C16</th>\n",
              "      <th>C17</th>\n",
              "      <th>C18</th>\n",
              "      <th>C19</th>\n",
              "      <th>C20</th>\n",
              "      <th>C21</th>\n",
              "    </tr>\n",
              "  </thead>\n",
              "  <tbody>\n",
              "    <tr>\n",
              "      <th>0</th>\n",
              "      <td>10000169349117863715</td>\n",
              "      <td>0</td>\n",
              "      <td>2014-10-21</td>\n",
              "      <td>1005</td>\n",
              "      <td>0</td>\n",
              "      <td>1fbe01fe</td>\n",
              "      <td>f3845767</td>\n",
              "      <td>28905ebd</td>\n",
              "      <td>ecad2386</td>\n",
              "      <td>7801e8d9</td>\n",
              "      <td>...</td>\n",
              "      <td>1</td>\n",
              "      <td>0</td>\n",
              "      <td>15704</td>\n",
              "      <td>320</td>\n",
              "      <td>50</td>\n",
              "      <td>1722</td>\n",
              "      <td>0</td>\n",
              "      <td>35</td>\n",
              "      <td>100084</td>\n",
              "      <td>79</td>\n",
              "    </tr>\n",
              "    <tr>\n",
              "      <th>1</th>\n",
              "      <td>10000949271186029916</td>\n",
              "      <td>1</td>\n",
              "      <td>2014-10-21</td>\n",
              "      <td>1005</td>\n",
              "      <td>0</td>\n",
              "      <td>1fbe01fe</td>\n",
              "      <td>f3845767</td>\n",
              "      <td>28905ebd</td>\n",
              "      <td>ecad2386</td>\n",
              "      <td>7801e8d9</td>\n",
              "      <td>...</td>\n",
              "      <td>1</td>\n",
              "      <td>2</td>\n",
              "      <td>15707</td>\n",
              "      <td>320</td>\n",
              "      <td>50</td>\n",
              "      <td>1722</td>\n",
              "      <td>0</td>\n",
              "      <td>35</td>\n",
              "      <td>-1</td>\n",
              "      <td>79</td>\n",
              "    </tr>\n",
              "    <tr>\n",
              "      <th>2</th>\n",
              "      <td>10006490708516192015</td>\n",
              "      <td>1</td>\n",
              "      <td>2014-10-21</td>\n",
              "      <td>1005</td>\n",
              "      <td>0</td>\n",
              "      <td>1fbe01fe</td>\n",
              "      <td>f3845767</td>\n",
              "      <td>28905ebd</td>\n",
              "      <td>ecad2386</td>\n",
              "      <td>7801e8d9</td>\n",
              "      <td>...</td>\n",
              "      <td>1</td>\n",
              "      <td>0</td>\n",
              "      <td>15708</td>\n",
              "      <td>320</td>\n",
              "      <td>50</td>\n",
              "      <td>1722</td>\n",
              "      <td>0</td>\n",
              "      <td>35</td>\n",
              "      <td>100083</td>\n",
              "      <td>79</td>\n",
              "    </tr>\n",
              "    <tr>\n",
              "      <th>3</th>\n",
              "      <td>10009190848778773294</td>\n",
              "      <td>0</td>\n",
              "      <td>2014-10-21</td>\n",
              "      <td>1005</td>\n",
              "      <td>1</td>\n",
              "      <td>5ee41ff2</td>\n",
              "      <td>17d996e6</td>\n",
              "      <td>f028772b</td>\n",
              "      <td>ecad2386</td>\n",
              "      <td>7801e8d9</td>\n",
              "      <td>...</td>\n",
              "      <td>1</td>\n",
              "      <td>0</td>\n",
              "      <td>16920</td>\n",
              "      <td>320</td>\n",
              "      <td>50</td>\n",
              "      <td>1899</td>\n",
              "      <td>0</td>\n",
              "      <td>431</td>\n",
              "      <td>-1</td>\n",
              "      <td>117</td>\n",
              "    </tr>\n",
              "    <tr>\n",
              "      <th>4</th>\n",
              "      <td>10017640116993553715</td>\n",
              "      <td>0</td>\n",
              "      <td>2014-10-21</td>\n",
              "      <td>1005</td>\n",
              "      <td>0</td>\n",
              "      <td>1fbe01fe</td>\n",
              "      <td>f3845767</td>\n",
              "      <td>28905ebd</td>\n",
              "      <td>ecad2386</td>\n",
              "      <td>7801e8d9</td>\n",
              "      <td>...</td>\n",
              "      <td>1</td>\n",
              "      <td>0</td>\n",
              "      <td>15707</td>\n",
              "      <td>320</td>\n",
              "      <td>50</td>\n",
              "      <td>1722</td>\n",
              "      <td>0</td>\n",
              "      <td>35</td>\n",
              "      <td>100084</td>\n",
              "      <td>79</td>\n",
              "    </tr>\n",
              "  </tbody>\n",
              "</table>\n",
              "<p>5 rows × 24 columns</p>\n",
              "</div>\n",
              "      <button class=\"colab-df-convert\" onclick=\"convertToInteractive('df-d8e54a15-8141-4a7d-8911-db61df4cc5cc')\"\n",
              "              title=\"Convert this dataframe to an interactive table.\"\n",
              "              style=\"display:none;\">\n",
              "        \n",
              "  <svg xmlns=\"http://www.w3.org/2000/svg\" height=\"24px\"viewBox=\"0 0 24 24\"\n",
              "       width=\"24px\">\n",
              "    <path d=\"M0 0h24v24H0V0z\" fill=\"none\"/>\n",
              "    <path d=\"M18.56 5.44l.94 2.06.94-2.06 2.06-.94-2.06-.94-.94-2.06-.94 2.06-2.06.94zm-11 1L8.5 8.5l.94-2.06 2.06-.94-2.06-.94L8.5 2.5l-.94 2.06-2.06.94zm10 10l.94 2.06.94-2.06 2.06-.94-2.06-.94-.94-2.06-.94 2.06-2.06.94z\"/><path d=\"M17.41 7.96l-1.37-1.37c-.4-.4-.92-.59-1.43-.59-.52 0-1.04.2-1.43.59L10.3 9.45l-7.72 7.72c-.78.78-.78 2.05 0 2.83L4 21.41c.39.39.9.59 1.41.59.51 0 1.02-.2 1.41-.59l7.78-7.78 2.81-2.81c.8-.78.8-2.07 0-2.86zM5.41 20L4 18.59l7.72-7.72 1.47 1.35L5.41 20z\"/>\n",
              "  </svg>\n",
              "      </button>\n",
              "      \n",
              "  <style>\n",
              "    .colab-df-container {\n",
              "      display:flex;\n",
              "      flex-wrap:wrap;\n",
              "      gap: 12px;\n",
              "    }\n",
              "\n",
              "    .colab-df-convert {\n",
              "      background-color: #E8F0FE;\n",
              "      border: none;\n",
              "      border-radius: 50%;\n",
              "      cursor: pointer;\n",
              "      display: none;\n",
              "      fill: #1967D2;\n",
              "      height: 32px;\n",
              "      padding: 0 0 0 0;\n",
              "      width: 32px;\n",
              "    }\n",
              "\n",
              "    .colab-df-convert:hover {\n",
              "      background-color: #E2EBFA;\n",
              "      box-shadow: 0px 1px 2px rgba(60, 64, 67, 0.3), 0px 1px 3px 1px rgba(60, 64, 67, 0.15);\n",
              "      fill: #174EA6;\n",
              "    }\n",
              "\n",
              "    [theme=dark] .colab-df-convert {\n",
              "      background-color: #3B4455;\n",
              "      fill: #D2E3FC;\n",
              "    }\n",
              "\n",
              "    [theme=dark] .colab-df-convert:hover {\n",
              "      background-color: #434B5C;\n",
              "      box-shadow: 0px 1px 3px 1px rgba(0, 0, 0, 0.15);\n",
              "      filter: drop-shadow(0px 1px 2px rgba(0, 0, 0, 0.3));\n",
              "      fill: #FFFFFF;\n",
              "    }\n",
              "  </style>\n",
              "\n",
              "      <script>\n",
              "        const buttonEl =\n",
              "          document.querySelector('#df-d8e54a15-8141-4a7d-8911-db61df4cc5cc button.colab-df-convert');\n",
              "        buttonEl.style.display =\n",
              "          google.colab.kernel.accessAllowed ? 'block' : 'none';\n",
              "\n",
              "        async function convertToInteractive(key) {\n",
              "          const element = document.querySelector('#df-d8e54a15-8141-4a7d-8911-db61df4cc5cc');\n",
              "          const dataTable =\n",
              "            await google.colab.kernel.invokeFunction('convertToInteractive',\n",
              "                                                     [key], {});\n",
              "          if (!dataTable) return;\n",
              "\n",
              "          const docLinkHtml = 'Like what you see? Visit the ' +\n",
              "            '<a target=\"_blank\" href=https://colab.research.google.com/notebooks/data_table.ipynb>data table notebook</a>'\n",
              "            + ' to learn more about interactive tables.';\n",
              "          element.innerHTML = '';\n",
              "          dataTable['output_type'] = 'display_data';\n",
              "          await google.colab.output.renderOutput(dataTable, element);\n",
              "          const docLink = document.createElement('div');\n",
              "          docLink.innerHTML = docLinkHtml;\n",
              "          element.appendChild(docLink);\n",
              "        }\n",
              "      </script>\n",
              "    </div>\n",
              "  </div>\n",
              "  "
            ]
          },
          "metadata": {},
          "execution_count": 10
        }
      ],
      "source": [
        "import pandas as pd\n",
        "import gzip\n",
        "\n",
        "parse_date = lambda val : pd.datetime.strptime(val, '%y%m%d%H')\n",
        "\n",
        "with gzip.open('train.gz') as f:\n",
        "    train = pd.read_csv(f, parse_dates = ['hour'], date_parser = parse_date, dtype=types_train, skiprows = skip_values)\n",
        "\n",
        "train.head()"
      ]
    },
    {
      "cell_type": "code",
      "execution_count": 11,
      "metadata": {
        "colab": {
          "base_uri": "https://localhost:8080/"
        },
        "id": "6_0UodPp67Xm",
        "outputId": "93a7bbfa-37a3-42cd-96be-c12e71d17f0b"
      },
      "outputs": [
        {
          "output_type": "execute_result",
          "data": {
            "text/plain": [
              "(1000000, 24)"
            ]
          },
          "metadata": {},
          "execution_count": 11
        }
      ],
      "source": [
        "train.shape"
      ]
    },
    {
      "cell_type": "code",
      "execution_count": 12,
      "metadata": {
        "colab": {
          "base_uri": "https://localhost:8080/"
        },
        "id": "tFmmYm2567Xm",
        "outputId": "a3438e96-c230-4f21-a3f3-b6b84a82609f"
      },
      "outputs": [
        {
          "output_type": "execute_result",
          "data": {
            "text/plain": [
              "id                          uint64\n",
              "click                        int64\n",
              "hour                datetime64[ns]\n",
              "C1                           int64\n",
              "banner_pos                   int64\n",
              "site_id                     object\n",
              "site_domain                 object\n",
              "site_category               object\n",
              "app_id                      object\n",
              "app_domain                  object\n",
              "app_category                object\n",
              "device_id                   object\n",
              "device_ip                   object\n",
              "device_model                object\n",
              "device_type                  int64\n",
              "device_conn_type             int64\n",
              "C14                          int64\n",
              "C15                          int64\n",
              "C16                          int64\n",
              "C17                          int64\n",
              "C18                          int64\n",
              "C19                          int64\n",
              "C20                          int64\n",
              "C21                          int64\n",
              "dtype: object"
            ]
          },
          "metadata": {},
          "execution_count": 12
        }
      ],
      "source": [
        "train.dtypes"
      ]
    },
    {
      "cell_type": "markdown",
      "metadata": {
        "id": "Rpw2GXkm67Xm"
      },
      "source": [
        "Target feature -> click\n",
        "\n",
        "site features -> site_id, site_domain, site_category\n",
        "\n",
        "app feature -> app_id, app_domain, app_category\n",
        "\n",
        "device feature -> device_id, device_ip, device_model, device_type, device_conn_type\n",
        "\n",
        "anonymized categorical features -> C14-C21"
      ]
    },
    {
      "cell_type": "code",
      "execution_count": 13,
      "metadata": {
        "colab": {
          "base_uri": "https://localhost:8080/"
        },
        "id": "tMk8FZh367Xm",
        "outputId": "dd37b977-1aa3-46a6-d479-c9fc8328dd03"
      },
      "outputs": [
        {
          "output_type": "execute_result",
          "data": {
            "text/plain": [
              "0    830004\n",
              "1    169996\n",
              "Name: click, dtype: int64"
            ]
          },
          "metadata": {},
          "execution_count": 13
        }
      ],
      "source": [
        "train['click'].value_counts()"
      ]
    },
    {
      "cell_type": "code",
      "execution_count": 14,
      "metadata": {
        "colab": {
          "base_uri": "https://localhost:8080/",
          "height": 279
        },
        "id": "fckxPPV967Xn",
        "outputId": "a8a1581b-c98b-4783-e061-b06c55c7d295"
      },
      "outputs": [
        {
          "output_type": "display_data",
          "data": {
            "text/plain": [
              "<Figure size 432x288 with 1 Axes>"
            ],
            "image/png": "[encoded data removed]"
          },
          "metadata": {
            "needs_background": "light"
          }
        }
      ],
      "source": [
        "import seaborn as sns\n",
        "import matplotlib.pyplot as plt\n",
        "\n",
        "sns.countplot(x='click',data=train, palette='hls')\n",
        "plt.show();"
      ]
    },
    {
      "cell_type": "code",
      "execution_count": 15,
      "metadata": {
        "colab": {
          "base_uri": "https://localhost:8080/"
        },
        "id": "dcuot_5P67Xn",
        "outputId": "77da149e-64f8-4e71-c4fb-8b37596d2b51"
      },
      "outputs": [
        {
          "output_type": "execute_result",
          "data": {
            "text/plain": [
              "0    0.830004\n",
              "1    0.169996\n",
              "Name: click, dtype: float64"
            ]
          },
          "metadata": {},
          "execution_count": 15
        }
      ],
      "source": [
        "train['click'].value_counts()/len(train)"
      ]
    },
    {
      "cell_type": "markdown",
      "metadata": {
        "id": "Hal0jxrW67Xn"
      },
      "source": [
        "Click through rate is approx. 17%, and approx. 83% is not clicked. "
      ]
    },
    {
      "cell_type": "code",
      "execution_count": 16,
      "metadata": {
        "colab": {
          "base_uri": "https://localhost:8080/"
        },
        "id": "tCELgJzh67Xn",
        "outputId": "8e42e8bd-d2b9-4730-e0b1-eb22e3cf47fd"
      },
      "outputs": [
        {
          "output_type": "stream",
          "name": "stderr",
          "text": [
            "/usr/local/lib/python3.7/dist-packages/ipykernel_launcher.py:1: FutureWarning: Treating datetime data as categorical rather than numeric in `.describe` is deprecated and will be removed in a future version of pandas. Specify `datetime_is_numeric=True` to silence this warning and adopt the future behavior now.\n",
            "  \"\"\"Entry point for launching an IPython kernel.\n"
          ]
        },
        {
          "output_type": "execute_result",
          "data": {
            "text/plain": [
              "count                 1000000\n",
              "unique                    240\n",
              "top       2014-10-22 09:00:00\n",
              "freq                    11243\n",
              "first     2014-10-21 00:00:00\n",
              "last      2014-10-30 23:00:00\n",
              "Name: hour, dtype: object"
            ]
          },
          "metadata": {},
          "execution_count": 16
        }
      ],
      "source": [
        "train.hour.describe()"
      ]
    },
    {
      "cell_type": "markdown",
      "metadata": {
        "id": "DtqFvmAV67Xn"
      },
      "source": [
        "The data covers 10 days of click streams data from 2014-10-21 to 2014-10-30, that is 240 hours."
      ]
    },
    {
      "cell_type": "code",
      "execution_count": 17,
      "metadata": {
        "colab": {
          "base_uri": "https://localhost:8080/",
          "height": 427
        },
        "id": "mF0NPf_x67Xo",
        "outputId": "c058e322-988f-46d0-cf5b-65c64868d962"
      },
      "outputs": [
        {
          "output_type": "display_data",
          "data": {
            "text/plain": [
              "<Figure size 864x432 with 1 Axes>"
            ],
            "image/png": "[encoded data removed]"
          },
          "metadata": {
            "needs_background": "light"
          }
        }
      ],
      "source": [
        "train.groupby('hour').agg({'click':'sum'}).plot(figsize=(12,6))\n",
        "plt.ylabel('Number of clicks')\n",
        "plt.title('Number of clicks by hour');"
      ]
    },
    {
      "cell_type": "markdown",
      "metadata": {
        "id": "IcvhN9ym67Xo"
      },
      "source": [
        "The hourly clicks pattern looks pretty similar every day. However, there were a couple of peak hours, one is sometime in the mid of the day on Oct 22, and another is sometime in the mid of the day on Oct 28. And one off-peak hour is close to mid-night on Oct 24."
      ]
    },
    {
      "cell_type": "markdown",
      "metadata": {
        "id": "O8WYn72m67Xo"
      },
      "source": [
        "###  Feature engineering for date time features\n",
        "\n",
        "#### Hour\n",
        "\n",
        "Extract hour from date time feature."
      ]
    },
    {
      "cell_type": "code",
      "execution_count": 18,
      "metadata": {
        "colab": {
          "base_uri": "https://localhost:8080/",
          "height": 405
        },
        "id": "fq9aiXZK67Xo",
        "outputId": "dce09725-6171-46e7-da57-259f2b3520f6"
      },
      "outputs": [
        {
          "output_type": "display_data",
          "data": {
            "text/plain": [
              "<Figure size 864x432 with 1 Axes>"
            ],
            "image/png": "[encoded data removed]"
          },
          "metadata": {
            "needs_background": "light"
          }
        }
      ],
      "source": [
        "train['hour_of_day'] = train.hour.apply(lambda x: x.hour)\n",
        "train.groupby('hour_of_day').agg({'click':'sum'}).plot(figsize=(12,6))\n",
        "plt.ylabel('Number of clicks')\n",
        "plt.title('click trends by hour of day');"
      ]
    },
    {
      "cell_type": "markdown",
      "metadata": {
        "id": "XQOnhXfc67Xp"
      },
      "source": [
        "In general, the highest number of clicks is at hour 13 and 14 (1pm and 2pm), and the least number of clicks is at hour 0 (mid-night). It seems a useful feature for roughly estimation."
      ]
    },
    {
      "cell_type": "code",
      "execution_count": 19,
      "metadata": {
        "colab": {
          "base_uri": "https://localhost:8080/",
          "height": 289
        },
        "id": "8Sz4FM_z67Xp",
        "outputId": "fc051b0d-3d91-46b8-854f-dc9718757005"
      },
      "outputs": [
        {
          "output_type": "execute_result",
          "data": {
            "text/plain": [
              "                     id  click       hour    C1  banner_pos   site_id  \\\n",
              "0  10000169349117863715      0 2014-10-21  1005           0  1fbe01fe   \n",
              "1  10000949271186029916      1 2014-10-21  1005           0  1fbe01fe   \n",
              "2  10006490708516192015      1 2014-10-21  1005           0  1fbe01fe   \n",
              "\n",
              "  site_domain site_category    app_id app_domain  ... device_conn_type    C14  \\\n",
              "0    f3845767      28905ebd  ecad2386   7801e8d9  ...                0  15704   \n",
              "1    f3845767      28905ebd  ecad2386   7801e8d9  ...                2  15707   \n",
              "2    f3845767      28905ebd  ecad2386   7801e8d9  ...                0  15708   \n",
              "\n",
              "   C15 C16   C17  C18  C19     C20  C21  hour_of_day  \n",
              "0  320  50  1722    0   35  100084   79            0  \n",
              "1  320  50  1722    0   35      -1   79            0  \n",
              "2  320  50  1722    0   35  100083   79            0  \n",
              "\n",
              "[3 rows x 25 columns]"
            ],
            "text/html": [
              "\n",
              "  <div id=\"df-98dc8a44-b915-403d-8e04-ee29553fa66a\">\n",
              "    <div class=\"colab-df-container\">\n",
              "      <div>\n",
              "<style scoped>\n",
              "    .dataframe tbody tr th:only-of-type {\n",
              "        vertical-align: middle;\n",
              "    }\n",
              "\n",
              "    .dataframe tbody tr th {\n",
              "        vertical-align: top;\n",
              "    }\n",
              "\n",
              "    .dataframe thead th {\n",
              "        text-align: right;\n",
              "    }\n",
              "</style>\n",
              "<table border=\"1\" class=\"dataframe\">\n",
              "  <thead>\n",
              "    <tr style=\"text-align: right;\">\n",
              "      <th></th>\n",
              "      <th>id</th>\n",
              "      <th>click</th>\n",
              "      <th>hour</th>\n",
              "      <th>C1</th>\n",
              "      <th>banner_pos</th>\n",
              "      <th>site_id</th>\n",
              "      <th>site_domain</th>\n",
              "      <th>site_category</th>\n",
              "      <th>app_id</th>\n",
              "      <th>app_domain</th>\n",
              "      <th>...</th>\n",
              "      <th>device_conn_type</th>\n",
              "      <th>C14</th>\n",
              "      <th>C15</th>\n",
              "      <th>C16</th>\n",
              "      <th>C17</th>\n",
              "      <th>C18</th>\n",
              "      <th>C19</th>\n",
              "      <th>C20</th>\n",
              "      <th>C21</th>\n",
              "      <th>hour_of_day</th>\n",
              "    </tr>\n",
              "  </thead>\n",
              "  <tbody>\n",
              "    <tr>\n",
              "      <th>0</th>\n",
              "      <td>10000169349117863715</td>\n",
              "      <td>0</td>\n",
              "      <td>2014-10-21</td>\n",
              "      <td>1005</td>\n",
              "      <td>0</td>\n",
              "      <td>1fbe01fe</td>\n",
              "      <td>f3845767</td>\n",
              "      <td>28905ebd</td>\n",
              "      <td>ecad2386</td>\n",
              "      <td>7801e8d9</td>\n",
              "      <td>...</td>\n",
              "      <td>0</td>\n",
              "      <td>15704</td>\n",
              "      <td>320</td>\n",
              "      <td>50</td>\n",
              "      <td>1722</td>\n",
              "      <td>0</td>\n",
              "      <td>35</td>\n",
              "      <td>100084</td>\n",
              "      <td>79</td>\n",
              "      <td>0</td>\n",
              "    </tr>\n",
              "    <tr>\n",
              "      <th>1</th>\n",
              "      <td>10000949271186029916</td>\n",
              "      <td>1</td>\n",
              "      <td>2014-10-21</td>\n",
              "      <td>1005</td>\n",
              "      <td>0</td>\n",
              "      <td>1fbe01fe</td>\n",
              "      <td>f3845767</td>\n",
              "      <td>28905ebd</td>\n",
              "      <td>ecad2386</td>\n",
              "      <td>7801e8d9</td>\n",
              "      <td>...</td>\n",
              "      <td>2</td>\n",
              "      <td>15707</td>\n",
              "      <td>320</td>\n",
              "      <td>50</td>\n",
              "      <td>1722</td>\n",
              "      <td>0</td>\n",
              "      <td>35</td>\n",
              "      <td>-1</td>\n",
              "      <td>79</td>\n",
              "      <td>0</td>\n",
              "    </tr>\n",
              "    <tr>\n",
              "      <th>2</th>\n",
              "      <td>10006490708516192015</td>\n",
              "      <td>1</td>\n",
              "      <td>2014-10-21</td>\n",
              "      <td>1005</td>\n",
              "      <td>0</td>\n",
              "      <td>1fbe01fe</td>\n",
              "      <td>f3845767</td>\n",
              "      <td>28905ebd</td>\n",
              "      <td>ecad2386</td>\n",
              "      <td>7801e8d9</td>\n",
              "      <td>...</td>\n",
              "      <td>0</td>\n",
              "      <td>15708</td>\n",
              "      <td>320</td>\n",
              "      <td>50</td>\n",
              "      <td>1722</td>\n",
              "      <td>0</td>\n",
              "      <td>35</td>\n",
              "      <td>100083</td>\n",
              "      <td>79</td>\n",
              "      <td>0</td>\n",
              "    </tr>\n",
              "  </tbody>\n",
              "</table>\n",
              "<p>3 rows × 25 columns</p>\n",
              "</div>\n",
              "      <button class=\"colab-df-convert\" onclick=\"convertToInteractive('df-98dc8a44-b915-403d-8e04-ee29553fa66a')\"\n",
              "              title=\"Convert this dataframe to an interactive table.\"\n",
              "              style=\"display:none;\">\n",
              "        \n",
              "  <svg xmlns=\"http://www.w3.org/2000/svg\" height=\"24px\"viewBox=\"0 0 24 24\"\n",
              "       width=\"24px\">\n",
              "    <path d=\"M0 0h24v24H0V0z\" fill=\"none\"/>\n",
              "    <path d=\"M18.56 5.44l.94 2.06.94-2.06 2.06-.94-2.06-.94-.94-2.06-.94 2.06-2.06.94zm-11 1L8.5 8.5l.94-2.06 2.06-.94-2.06-.94L8.5 2.5l-.94 2.06-2.06.94zm10 10l.94 2.06.94-2.06 2.06-.94-2.06-.94-.94-2.06-.94 2.06-2.06.94z\"/><path d=\"M17.41 7.96l-1.37-1.37c-.4-.4-.92-.59-1.43-.59-.52 0-1.04.2-1.43.59L10.3 9.45l-7.72 7.72c-.78.78-.78 2.05 0 2.83L4 21.41c.39.39.9.59 1.41.59.51 0 1.02-.2 1.41-.59l7.78-7.78 2.81-2.81c.8-.78.8-2.07 0-2.86zM5.41 20L4 18.59l7.72-7.72 1.47 1.35L5.41 20z\"/>\n",
              "  </svg>\n",
              "      </button>\n",
              "      \n",
              "  <style>\n",
              "    .colab-df-container {\n",
              "      display:flex;\n",
              "      flex-wrap:wrap;\n",
              "      gap: 12px;\n",
              "    }\n",
              "\n",
              "    .colab-df-convert {\n",
              "      background-color: #E8F0FE;\n",
              "      border: none;\n",
              "      border-radius: 50%;\n",
              "      cursor: pointer;\n",
              "      display: none;\n",
              "      fill: #1967D2;\n",
              "      height: 32px;\n",
              "      padding: 0 0 0 0;\n",
              "      width: 32px;\n",
              "    }\n",
              "\n",
              "    .colab-df-convert:hover {\n",
              "      background-color: #E2EBFA;\n",
              "      box-shadow: 0px 1px 2px rgba(60, 64, 67, 0.3), 0px 1px 3px 1px rgba(60, 64, 67, 0.15);\n",
              "      fill: #174EA6;\n",
              "    }\n",
              "\n",
              "    [theme=dark] .colab-df-convert {\n",
              "      background-color: #3B4455;\n",
              "      fill: #D2E3FC;\n",
              "    }\n",
              "\n",
              "    [theme=dark] .colab-df-convert:hover {\n",
              "      background-color: #434B5C;\n",
              "      box-shadow: 0px 1px 3px 1px rgba(0, 0, 0, 0.15);\n",
              "      filter: drop-shadow(0px 1px 2px rgba(0, 0, 0, 0.3));\n",
              "      fill: #FFFFFF;\n",
              "    }\n",
              "  </style>\n",
              "\n",
              "      <script>\n",
              "        const buttonEl =\n",
              "          document.querySelector('#df-98dc8a44-b915-403d-8e04-ee29553fa66a button.colab-df-convert');\n",
              "        buttonEl.style.display =\n",
              "          google.colab.kernel.accessAllowed ? 'block' : 'none';\n",
              "\n",
              "        async function convertToInteractive(key) {\n",
              "          const element = document.querySelector('#df-98dc8a44-b915-403d-8e04-ee29553fa66a');\n",
              "          const dataTable =\n",
              "            await google.colab.kernel.invokeFunction('convertToInteractive',\n",
              "                                                     [key], {});\n",
              "          if (!dataTable) return;\n",
              "\n",
              "          const docLinkHtml = 'Like what you see? Visit the ' +\n",
              "            '<a target=\"_blank\" href=https://colab.research.google.com/notebooks/data_table.ipynb>data table notebook</a>'\n",
              "            + ' to learn more about interactive tables.';\n",
              "          element.innerHTML = '';\n",
              "          dataTable['output_type'] = 'display_data';\n",
              "          await google.colab.output.renderOutput(dataTable, element);\n",
              "          const docLink = document.createElement('div');\n",
              "          docLink.innerHTML = docLinkHtml;\n",
              "          element.appendChild(docLink);\n",
              "        }\n",
              "      </script>\n",
              "    </div>\n",
              "  </div>\n",
              "  "
            ]
          },
          "metadata": {},
          "execution_count": 19
        }
      ],
      "source": [
        "train.head(3)"
      ]
    },
    {
      "cell_type": "markdown",
      "metadata": {
        "id": "MWzLCmG-67Xp"
      },
      "source": [
        "Let's take impressions into consideration."
      ]
    },
    {
      "cell_type": "code",
      "execution_count": 20,
      "metadata": {
        "colab": {
          "base_uri": "https://localhost:8080/",
          "height": 408
        },
        "id": "XHboYGcB67Xp",
        "outputId": "951ddd53-6755-4f29-fec4-d3d5503a58aa"
      },
      "outputs": [
        {
          "output_type": "display_data",
          "data": {
            "text/plain": [
              "<Figure size 864x432 with 1 Axes>"
            ],
            "image/png": "[encoded data removed]"
          },
          "metadata": {
            "needs_background": "light"
          }
        }
      ],
      "source": [
        "train.groupby(['hour_of_day', 'click']).size().unstack().plot(kind='bar', title=\"Hour of Day\", figsize=(12,6))\n",
        "plt.ylabel('count')\n",
        "plt.title('Hourly impressions vs. clicks');"
      ]
    },
    {
      "cell_type": "markdown",
      "metadata": {
        "id": "Z_v71tuv67Xp"
      },
      "source": [
        "There is nothing shocking here."
      ]
    },
    {
      "cell_type": "code",
      "execution_count": 21,
      "metadata": {
        "colab": {
          "base_uri": "https://localhost:8080/",
          "height": 289
        },
        "id": "9JmrKbGN67Xp",
        "outputId": "fa77a6a3-9b6b-4902-dde6-6e3dc65d622e"
      },
      "outputs": [
        {
          "output_type": "execute_result",
          "data": {
            "text/plain": [
              "                     id  click       hour    C1  banner_pos   site_id  \\\n",
              "0  10000169349117863715      0 2014-10-21  1005           0  1fbe01fe   \n",
              "1  10000949271186029916      1 2014-10-21  1005           0  1fbe01fe   \n",
              "2  10006490708516192015      1 2014-10-21  1005           0  1fbe01fe   \n",
              "\n",
              "  site_domain site_category    app_id app_domain  ... device_conn_type    C14  \\\n",
              "0    f3845767      28905ebd  ecad2386   7801e8d9  ...                0  15704   \n",
              "1    f3845767      28905ebd  ecad2386   7801e8d9  ...                2  15707   \n",
              "2    f3845767      28905ebd  ecad2386   7801e8d9  ...                0  15708   \n",
              "\n",
              "   C15 C16   C17  C18  C19     C20  C21  hour_of_day  \n",
              "0  320  50  1722    0   35  100084   79            0  \n",
              "1  320  50  1722    0   35      -1   79            0  \n",
              "2  320  50  1722    0   35  100083   79            0  \n",
              "\n",
              "[3 rows x 25 columns]"
            ],
            "text/html": [
              "\n",
              "  <div id=\"df-cd4feb65-ab79-498a-9098-c3db50853c2f\">\n",
              "    <div class=\"colab-df-container\">\n",
              "      <div>\n",
              "<style scoped>\n",
              "    .dataframe tbody tr th:only-of-type {\n",
              "        vertical-align: middle;\n",
              "    }\n",
              "\n",
              "    .dataframe tbody tr th {\n",
              "        vertical-align: top;\n",
              "    }\n",
              "\n",
              "    .dataframe thead th {\n",
              "        text-align: right;\n",
              "    }\n",
              "</style>\n",
              "<table border=\"1\" class=\"dataframe\">\n",
              "  <thead>\n",
              "    <tr style=\"text-align: right;\">\n",
              "      <th></th>\n",
              "      <th>id</th>\n",
              "      <th>click</th>\n",
              "      <th>hour</th>\n",
              "      <th>C1</th>\n",
              "      <th>banner_pos</th>\n",
              "      <th>site_id</th>\n",
              "      <th>site_domain</th>\n",
              "      <th>site_category</th>\n",
              "      <th>app_id</th>\n",
              "      <th>app_domain</th>\n",
              "      <th>...</th>\n",
              "      <th>device_conn_type</th>\n",
              "      <th>C14</th>\n",
              "      <th>C15</th>\n",
              "      <th>C16</th>\n",
              "      <th>C17</th>\n",
              "      <th>C18</th>\n",
              "      <th>C19</th>\n",
              "      <th>C20</th>\n",
              "      <th>C21</th>\n",
              "      <th>hour_of_day</th>\n",
              "    </tr>\n",
              "  </thead>\n",
              "  <tbody>\n",
              "    <tr>\n",
              "      <th>0</th>\n",
              "      <td>10000169349117863715</td>\n",
              "      <td>0</td>\n",
              "      <td>2014-10-21</td>\n",
              "      <td>1005</td>\n",
              "      <td>0</td>\n",
              "      <td>1fbe01fe</td>\n",
              "      <td>f3845767</td>\n",
              "      <td>28905ebd</td>\n",
              "      <td>ecad2386</td>\n",
              "      <td>7801e8d9</td>\n",
              "      <td>...</td>\n",
              "      <td>0</td>\n",
              "      <td>15704</td>\n",
              "      <td>320</td>\n",
              "      <td>50</td>\n",
              "      <td>1722</td>\n",
              "      <td>0</td>\n",
              "      <td>35</td>\n",
              "      <td>100084</td>\n",
              "      <td>79</td>\n",
              "      <td>0</td>\n",
              "    </tr>\n",
              "    <tr>\n",
              "      <th>1</th>\n",
              "      <td>10000949271186029916</td>\n",
              "      <td>1</td>\n",
              "      <td>2014-10-21</td>\n",
              "      <td>1005</td>\n",
              "      <td>0</td>\n",
              "      <td>1fbe01fe</td>\n",
              "      <td>f3845767</td>\n",
              "      <td>28905ebd</td>\n",
              "      <td>ecad2386</td>\n",
              "      <td>7801e8d9</td>\n",
              "      <td>...</td>\n",
              "      <td>2</td>\n",
              "      <td>15707</td>\n",
              "      <td>320</td>\n",
              "      <td>50</td>\n",
              "      <td>1722</td>\n",
              "      <td>0</td>\n",
              "      <td>35</td>\n",
              "      <td>-1</td>\n",
              "      <td>79</td>\n",
              "      <td>0</td>\n",
              "    </tr>\n",
              "    <tr>\n",
              "      <th>2</th>\n",
              "      <td>10006490708516192015</td>\n",
              "      <td>1</td>\n",
              "      <td>2014-10-21</td>\n",
              "      <td>1005</td>\n",
              "      <td>0</td>\n",
              "      <td>1fbe01fe</td>\n",
              "      <td>f3845767</td>\n",
              "      <td>28905ebd</td>\n",
              "      <td>ecad2386</td>\n",
              "      <td>7801e8d9</td>\n",
              "      <td>...</td>\n",
              "      <td>0</td>\n",
              "      <td>15708</td>\n",
              "      <td>320</td>\n",
              "      <td>50</td>\n",
              "      <td>1722</td>\n",
              "      <td>0</td>\n",
              "      <td>35</td>\n",
              "      <td>100083</td>\n",
              "      <td>79</td>\n",
              "      <td>0</td>\n",
              "    </tr>\n",
              "  </tbody>\n",
              "</table>\n",
              "<p>3 rows × 25 columns</p>\n",
              "</div>\n",
              "      <button class=\"colab-df-convert\" onclick=\"convertToInteractive('df-cd4feb65-ab79-498a-9098-c3db50853c2f')\"\n",
              "              title=\"Convert this dataframe to an interactive table.\"\n",
              "              style=\"display:none;\">\n",
              "        \n",
              "  <svg xmlns=\"http://www.w3.org/2000/svg\" height=\"24px\"viewBox=\"0 0 24 24\"\n",
              "       width=\"24px\">\n",
              "    <path d=\"M0 0h24v24H0V0z\" fill=\"none\"/>\n",
              "    <path d=\"M18.56 5.44l.94 2.06.94-2.06 2.06-.94-2.06-.94-.94-2.06-.94 2.06-2.06.94zm-11 1L8.5 8.5l.94-2.06 2.06-.94-2.06-.94L8.5 2.5l-.94 2.06-2.06.94zm10 10l.94 2.06.94-2.06 2.06-.94-2.06-.94-.94-2.06-.94 2.06-2.06.94z\"/><path d=\"M17.41 7.96l-1.37-1.37c-.4-.4-.92-.59-1.43-.59-.52 0-1.04.2-1.43.59L10.3 9.45l-7.72 7.72c-.78.78-.78 2.05 0 2.83L4 21.41c.39.39.9.59 1.41.59.51 0 1.02-.2 1.41-.59l7.78-7.78 2.81-2.81c.8-.78.8-2.07 0-2.86zM5.41 20L4 18.59l7.72-7.72 1.47 1.35L5.41 20z\"/>\n",
              "  </svg>\n",
              "      </button>\n",
              "      \n",
              "  <style>\n",
              "    .colab-df-container {\n",
              "      display:flex;\n",
              "      flex-wrap:wrap;\n",
              "      gap: 12px;\n",
              "    }\n",
              "\n",
              "    .colab-df-convert {\n",
              "      background-color: #E8F0FE;\n",
              "      border: none;\n",
              "      border-radius: 50%;\n",
              "      cursor: pointer;\n",
              "      display: none;\n",
              "      fill: #1967D2;\n",
              "      height: 32px;\n",
              "      padding: 0 0 0 0;\n",
              "      width: 32px;\n",
              "    }\n",
              "\n",
              "    .colab-df-convert:hover {\n",
              "      background-color: #E2EBFA;\n",
              "      box-shadow: 0px 1px 2px rgba(60, 64, 67, 0.3), 0px 1px 3px 1px rgba(60, 64, 67, 0.15);\n",
              "      fill: #174EA6;\n",
              "    }\n",
              "\n",
              "    [theme=dark] .colab-df-convert {\n",
              "      background-color: #3B4455;\n",
              "      fill: #D2E3FC;\n",
              "    }\n",
              "\n",
              "    [theme=dark] .colab-df-convert:hover {\n",
              "      background-color: #434B5C;\n",
              "      box-shadow: 0px 1px 3px 1px rgba(0, 0, 0, 0.15);\n",
              "      filter: drop-shadow(0px 1px 2px rgba(0, 0, 0, 0.3));\n",
              "      fill: #FFFFFF;\n",
              "    }\n",
              "  </style>\n",
              "\n",
              "      <script>\n",
              "        const buttonEl =\n",
              "          document.querySelector('#df-cd4feb65-ab79-498a-9098-c3db50853c2f button.colab-df-convert');\n",
              "        buttonEl.style.display =\n",
              "          google.colab.kernel.accessAllowed ? 'block' : 'none';\n",
              "\n",
              "        async function convertToInteractive(key) {\n",
              "          const element = document.querySelector('#df-cd4feb65-ab79-498a-9098-c3db50853c2f');\n",
              "          const dataTable =\n",
              "            await google.colab.kernel.invokeFunction('convertToInteractive',\n",
              "                                                     [key], {});\n",
              "          if (!dataTable) return;\n",
              "\n",
              "          const docLinkHtml = 'Like what you see? Visit the ' +\n",
              "            '<a target=\"_blank\" href=https://colab.research.google.com/notebooks/data_table.ipynb>data table notebook</a>'\n",
              "            + ' to learn more about interactive tables.';\n",
              "          element.innerHTML = '';\n",
              "          dataTable['output_type'] = 'display_data';\n",
              "          await google.colab.output.renderOutput(dataTable, element);\n",
              "          const docLink = document.createElement('div');\n",
              "          docLink.innerHTML = docLinkHtml;\n",
              "          element.appendChild(docLink);\n",
              "        }\n",
              "      </script>\n",
              "    </div>\n",
              "  </div>\n",
              "  "
            ]
          },
          "metadata": {},
          "execution_count": 21
        }
      ],
      "source": [
        "train.head(3)"
      ]
    },
    {
      "cell_type": "markdown",
      "metadata": {
        "id": "Qf3ZeLPl67Xq"
      },
      "source": [
        "Now that we have click and impression. We can calculate Click-through rate (CTR). CTR is the ratio of ad clicks to impressions. It measures the rate of clicks on each ad."
      ]
    },
    {
      "cell_type": "markdown",
      "metadata": {
        "id": "_FRazodB67Xq"
      },
      "source": [
        "#### Hourly CTR"
      ]
    },
    {
      "cell_type": "code",
      "execution_count": 22,
      "metadata": {
        "colab": {
          "base_uri": "https://localhost:8080/",
          "height": 0
        },
        "id": "I4TPQn9D67Xq",
        "outputId": "f9b6d228-47a7-497c-ad6f-4d166ed49ec8"
      },
      "outputs": [
        {
          "output_type": "display_data",
          "data": {
            "text/plain": [
              "<Figure size 864x432 with 1 Axes>"
            ],
            "image/png": "[encoded data removed]"
          },
          "metadata": {
            "needs_background": "light"
          }
        }
      ],
      "source": [
        "import seaborn as sns\n",
        "\n",
        "df_click = train[train['click'] == 1]\n",
        "df_hour = train[['hour_of_day','click']].groupby(['hour_of_day']).count().reset_index()\n",
        "df_hour = df_hour.rename(columns={'click': 'impressions'})\n",
        "df_hour['clicks'] = df_click[['hour_of_day','click']].groupby(['hour_of_day']).count().reset_index()['click']\n",
        "df_hour['CTR'] = df_hour['clicks']/df_hour['impressions']*100\n",
        "\n",
        "plt.figure(figsize=(12,6))\n",
        "sns.barplot(y='CTR', x='hour_of_day', data=df_hour)\n",
        "plt.title('Hourly CTR');"
      ]
    },
    {
      "cell_type": "markdown",
      "metadata": {
        "id": "r1GjtZAJ67Xq"
      },
      "source": [
        "One of the interesting observations here is that the highest CTR happened in the hour of mid-night, 1, 7 and 15. If you remember, around mid-night has the least number of impressions and clicks."
      ]
    },
    {
      "cell_type": "markdown",
      "metadata": {
        "id": "-TVb-BWX67Xq"
      },
      "source": [
        "#### Day of week"
      ]
    },
    {
      "cell_type": "code",
      "execution_count": 23,
      "metadata": {
        "colab": {
          "base_uri": "https://localhost:8080/",
          "height": 0
        },
        "id": "Ed43Mney67Xq",
        "outputId": "6eb82c0f-0daf-4dea-855b-480c6512fb28"
      },
      "outputs": [
        {
          "output_type": "display_data",
          "data": {
            "text/plain": [
              "<Figure size 864x432 with 1 Axes>"
            ],
            "image/png": "[encoded data removed]"
          },
          "metadata": {
            "needs_background": "light"
          }
        }
      ],
      "source": [
        "train['day_of_week'] = train['hour'].dt.day_name()\n",
        "cats = ['Monday', 'Tuesday', 'Wednesday', 'Thursday', 'Friday', 'Saturday', 'Sunday']\n",
        "train.groupby('day_of_week').agg({'click':'sum'}).reindex(cats).plot(figsize=(12,6))\n",
        "ticks = list(range(0, 7, 1)) # points on the x axis where you want the label to appear\n",
        "labels = \"Mon Tues Weds Thurs Fri Sat Sun\".split()\n",
        "plt.xticks(ticks, labels)\n",
        "plt.title('click trends by day of week');"
      ]
    },
    {
      "cell_type": "code",
      "execution_count": 24,
      "metadata": {
        "colab": {
          "base_uri": "https://localhost:8080/",
          "height": 0
        },
        "id": "zQWE1ik567Xq",
        "outputId": "d26003d4-0468-42d3-c6f4-df0b9ffe069a"
      },
      "outputs": [
        {
          "output_type": "display_data",
          "data": {
            "text/plain": [
              "<Figure size 864x432 with 1 Axes>"
            ],
            "image/png": "[encoded data removed]"
          },
          "metadata": {
            "needs_background": "light"
          }
        }
      ],
      "source": [
        "train.groupby(['day_of_week','click']).size().unstack().reindex(cats).plot(kind='bar', title=\"Day of the Week\", figsize=(12,6))\n",
        "ticks = list(range(0, 7, 1)) # points on the x axis where you want the label to appear\n",
        "labels = \"Mon Tues Weds Thurs Fri Sat Sun\".split()\n",
        "plt.xticks(ticks, labels)\n",
        "plt.title('Impressions vs. clicks by day of week');"
      ]
    },
    {
      "cell_type": "markdown",
      "metadata": {
        "id": "oVFf54_u67Xr"
      },
      "source": [
        "Tuesdays have the most impressions and clicks, then Wednesdays, followed by Thursdays. Mondays and Fridays have the least number of impressions and clicks."
      ]
    },
    {
      "cell_type": "markdown",
      "metadata": {
        "id": "UwuqPsBi67Xr"
      },
      "source": [
        "#### Day of week CTR"
      ]
    },
    {
      "cell_type": "code",
      "execution_count": 25,
      "metadata": {
        "colab": {
          "base_uri": "https://localhost:8080/",
          "height": 0
        },
        "id": "fU75o4gx67Xr",
        "outputId": "8370de3b-c5fd-4fa2-f05e-a0feddf0aa67"
      },
      "outputs": [
        {
          "output_type": "execute_result",
          "data": {
            "text/plain": [
              "                     id  click       hour    C1  banner_pos   site_id  \\\n",
              "0  10000169349117863715      0 2014-10-21  1005           0  1fbe01fe   \n",
              "1  10000949271186029916      1 2014-10-21  1005           0  1fbe01fe   \n",
              "2  10006490708516192015      1 2014-10-21  1005           0  1fbe01fe   \n",
              "\n",
              "  site_domain site_category    app_id app_domain  ...    C14  C15 C16   C17  \\\n",
              "0    f3845767      28905ebd  ecad2386   7801e8d9  ...  15704  320  50  1722   \n",
              "1    f3845767      28905ebd  ecad2386   7801e8d9  ...  15707  320  50  1722   \n",
              "2    f3845767      28905ebd  ecad2386   7801e8d9  ...  15708  320  50  1722   \n",
              "\n",
              "   C18  C19     C20  C21  hour_of_day  day_of_week  \n",
              "0    0   35  100084   79            0      Tuesday  \n",
              "1    0   35      -1   79            0      Tuesday  \n",
              "2    0   35  100083   79            0      Tuesday  \n",
              "\n",
              "[3 rows x 26 columns]"
            ],
            "text/html": [
              "\n",
              "  <div id=\"df-20423864-7f1a-44fb-b4e6-e082bfa20ce5\">\n",
              "    <div class=\"colab-df-container\">\n",
              "      <div>\n",
              "<style scoped>\n",
              "    .dataframe tbody tr th:only-of-type {\n",
              "        vertical-align: middle;\n",
              "    }\n",
              "\n",
              "    .dataframe tbody tr th {\n",
              "        vertical-align: top;\n",
              "    }\n",
              "\n",
              "    .dataframe thead th {\n",
              "        text-align: right;\n",
              "    }\n",
              "</style>\n",
              "<table border=\"1\" class=\"dataframe\">\n",
              "  <thead>\n",
              "    <tr style=\"text-align: right;\">\n",
              "      <th></th>\n",
              "      <th>id</th>\n",
              "      <th>click</th>\n",
              "      <th>hour</th>\n",
              "      <th>C1</th>\n",
              "      <th>banner_pos</th>\n",
              "      <th>site_id</th>\n",
              "      <th>site_domain</th>\n",
              "      <th>site_category</th>\n",
              "      <th>app_id</th>\n",
              "      <th>app_domain</th>\n",
              "      <th>...</th>\n",
              "      <th>C14</th>\n",
              "      <th>C15</th>\n",
              "      <th>C16</th>\n",
              "      <th>C17</th>\n",
              "      <th>C18</th>\n",
              "      <th>C19</th>\n",
              "      <th>C20</th>\n",
              "      <th>C21</th>\n",
              "      <th>hour_of_day</th>\n",
              "      <th>day_of_week</th>\n",
              "    </tr>\n",
              "  </thead>\n",
              "  <tbody>\n",
              "    <tr>\n",
              "      <th>0</th>\n",
              "      <td>10000169349117863715</td>\n",
              "      <td>0</td>\n",
              "      <td>2014-10-21</td>\n",
              "      <td>1005</td>\n",
              "      <td>0</td>\n",
              "      <td>1fbe01fe</td>\n",
              "      <td>f3845767</td>\n",
              "      <td>28905ebd</td>\n",
              "      <td>ecad2386</td>\n",
              "      <td>7801e8d9</td>\n",
              "      <td>...</td>\n",
              "      <td>15704</td>\n",
              "      <td>320</td>\n",
              "      <td>50</td>\n",
              "      <td>1722</td>\n",
              "      <td>0</td>\n",
              "      <td>35</td>\n",
              "      <td>100084</td>\n",
              "      <td>79</td>\n",
              "      <td>0</td>\n",
              "      <td>Tuesday</td>\n",
              "    </tr>\n",
              "    <tr>\n",
              "      <th>1</th>\n",
              "      <td>10000949271186029916</td>\n",
              "      <td>1</td>\n",
              "      <td>2014-10-21</td>\n",
              "      <td>1005</td>\n",
              "      <td>0</td>\n",
              "      <td>1fbe01fe</td>\n",
              "      <td>f3845767</td>\n",
              "      <td>28905ebd</td>\n",
              "      <td>ecad2386</td>\n",
              "      <td>7801e8d9</td>\n",
              "      <td>...</td>\n",
              "      <td>15707</td>\n",
              "      <td>320</td>\n",
              "      <td>50</td>\n",
              "      <td>1722</td>\n",
              "      <td>0</td>\n",
              "      <td>35</td>\n",
              "      <td>-1</td>\n",
              "      <td>79</td>\n",
              "      <td>0</td>\n",
              "      <td>Tuesday</td>\n",
              "    </tr>\n",
              "    <tr>\n",
              "      <th>2</th>\n",
              "      <td>10006490708516192015</td>\n",
              "      <td>1</td>\n",
              "      <td>2014-10-21</td>\n",
              "      <td>1005</td>\n",
              "      <td>0</td>\n",
              "      <td>1fbe01fe</td>\n",
              "      <td>f3845767</td>\n",
              "      <td>28905ebd</td>\n",
              "      <td>ecad2386</td>\n",
              "      <td>7801e8d9</td>\n",
              "      <td>...</td>\n",
              "      <td>15708</td>\n",
              "      <td>320</td>\n",
              "      <td>50</td>\n",
              "      <td>1722</td>\n",
              "      <td>0</td>\n",
              "      <td>35</td>\n",
              "      <td>100083</td>\n",
              "      <td>79</td>\n",
              "      <td>0</td>\n",
              "      <td>Tuesday</td>\n",
              "    </tr>\n",
              "  </tbody>\n",
              "</table>\n",
              "<p>3 rows × 26 columns</p>\n",
              "</div>\n",
              "      <button class=\"colab-df-convert\" onclick=\"convertToInteractive('df-20423864-7f1a-44fb-b4e6-e082bfa20ce5')\"\n",
              "              title=\"Convert this dataframe to an interactive table.\"\n",
              "              style=\"display:none;\">\n",
              "        \n",
              "  <svg xmlns=\"http://www.w3.org/2000/svg\" height=\"24px\"viewBox=\"0 0 24 24\"\n",
              "       width=\"24px\">\n",
              "    <path d=\"M0 0h24v24H0V0z\" fill=\"none\"/>\n",
              "    <path d=\"M18.56 5.44l.94 2.06.94-2.06 2.06-.94-2.06-.94-.94-2.06-.94 2.06-2.06.94zm-11 1L8.5 8.5l.94-2.06 2.06-.94-2.06-.94L8.5 2.5l-.94 2.06-2.06.94zm10 10l.94 2.06.94-2.06 2.06-.94-2.06-.94-.94-2.06-.94 2.06-2.06.94z\"/><path d=\"M17.41 7.96l-1.37-1.37c-.4-.4-.92-.59-1.43-.59-.52 0-1.04.2-1.43.59L10.3 9.45l-7.72 7.72c-.78.78-.78 2.05 0 2.83L4 21.41c.39.39.9.59 1.41.59.51 0 1.02-.2 1.41-.59l7.78-7.78 2.81-2.81c.8-.78.8-2.07 0-2.86zM5.41 20L4 18.59l7.72-7.72 1.47 1.35L5.41 20z\"/>\n",
              "  </svg>\n",
              "      </button>\n",
              "      \n",
              "  <style>\n",
              "    .colab-df-container {\n",
              "      display:flex;\n",
              "      flex-wrap:wrap;\n",
              "      gap: 12px;\n",
              "    }\n",
              "\n",
              "    .colab-df-convert {\n",
              "      background-color: #E8F0FE;\n",
              "      border: none;\n",
              "      border-radius: 50%;\n",
              "      cursor: pointer;\n",
              "      display: none;\n",
              "      fill: #1967D2;\n",
              "      height: 32px;\n",
              "      padding: 0 0 0 0;\n",
              "      width: 32px;\n",
              "    }\n",
              "\n",
              "    .colab-df-convert:hover {\n",
              "      background-color: #E2EBFA;\n",
              "      box-shadow: 0px 1px 2px rgba(60, 64, 67, 0.3), 0px 1px 3px 1px rgba(60, 64, 67, 0.15);\n",
              "      fill: #174EA6;\n",
              "    }\n",
              "\n",
              "    [theme=dark] .colab-df-convert {\n",
              "      background-color: #3B4455;\n",
              "      fill: #D2E3FC;\n",
              "    }\n",
              "\n",
              "    [theme=dark] .colab-df-convert:hover {\n",
              "      background-color: #434B5C;\n",
              "      box-shadow: 0px 1px 3px 1px rgba(0, 0, 0, 0.15);\n",
              "      filter: drop-shadow(0px 1px 2px rgba(0, 0, 0, 0.3));\n",
              "      fill: #FFFFFF;\n",
              "    }\n",
              "  </style>\n",
              "\n",
              "      <script>\n",
              "        const buttonEl =\n",
              "          document.querySelector('#df-20423864-7f1a-44fb-b4e6-e082bfa20ce5 button.colab-df-convert');\n",
              "        buttonEl.style.display =\n",
              "          google.colab.kernel.accessAllowed ? 'block' : 'none';\n",
              "\n",
              "        async function convertToInteractive(key) {\n",
              "          const element = document.querySelector('#df-20423864-7f1a-44fb-b4e6-e082bfa20ce5');\n",
              "          const dataTable =\n",
              "            await google.colab.kernel.invokeFunction('convertToInteractive',\n",
              "                                                     [key], {});\n",
              "          if (!dataTable) return;\n",
              "\n",
              "          const docLinkHtml = 'Like what you see? Visit the ' +\n",
              "            '<a target=\"_blank\" href=https://colab.research.google.com/notebooks/data_table.ipynb>data table notebook</a>'\n",
              "            + ' to learn more about interactive tables.';\n",
              "          element.innerHTML = '';\n",
              "          dataTable['output_type'] = 'display_data';\n",
              "          await google.colab.output.renderOutput(dataTable, element);\n",
              "          const docLink = document.createElement('div');\n",
              "          docLink.innerHTML = docLinkHtml;\n",
              "          element.appendChild(docLink);\n",
              "        }\n",
              "      </script>\n",
              "    </div>\n",
              "  </div>\n",
              "  "
            ]
          },
          "metadata": {},
          "execution_count": 25
        }
      ],
      "source": [
        "train.head(3)"
      ]
    },
    {
      "cell_type": "code",
      "execution_count": 26,
      "metadata": {
        "colab": {
          "base_uri": "https://localhost:8080/",
          "height": 0
        },
        "id": "T6hGera567Xr",
        "outputId": "966ca2d7-9a6e-4139-b82b-091de0aafe7b"
      },
      "outputs": [
        {
          "output_type": "display_data",
          "data": {
            "text/plain": [
              "<Figure size 864x432 with 1 Axes>"
            ],
            "image/png": "[encoded data removed]"
          },
          "metadata": {
            "needs_background": "light"
          }
        }
      ],
      "source": [
        "df_click = train[train['click'] == 1]\n",
        "df_dayofweek = train[['day_of_week','click']].groupby(['day_of_week']).count().reset_index()\n",
        "df_dayofweek = df_dayofweek.rename(columns={'click': 'impressions'})\n",
        "df_dayofweek['clicks'] = df_click[['day_of_week','click']].groupby(['day_of_week']).count().reset_index()['click']\n",
        "df_dayofweek['CTR'] = df_dayofweek['clicks']/df_dayofweek['impressions']*100\n",
        "\n",
        "plt.figure(figsize=(12,6))\n",
        "sns.barplot(y='CTR', x='day_of_week', data=df_dayofweek, order=['Monday', 'Tuesday', 'Wednesday', 'Thursday', 'Friday', 'Saturday', 'Sunday'])\n",
        "plt.title('Day of week CTR');"
      ]
    },
    {
      "cell_type": "markdown",
      "metadata": {
        "id": "ePONuq-067Xr"
      },
      "source": [
        "While Tuesdays and Wednesdays have the highest number of impressions and clicks, their CTR are among the lowest. Saturdays and Sundays enjoy the highest CTR. Apparently, people have more time to click over the weekend."
      ]
    },
    {
      "cell_type": "code",
      "execution_count": 27,
      "metadata": {
        "colab": {
          "base_uri": "https://localhost:8080/",
          "height": 0
        },
        "id": "iCic5gnf67Xr",
        "outputId": "b368c000-2688-4c1b-d838-e8b43616cf32"
      },
      "outputs": [
        {
          "output_type": "execute_result",
          "data": {
            "text/plain": [
              "                     id  click       hour    C1  banner_pos   site_id  \\\n",
              "0  10000169349117863715      0 2014-10-21  1005           0  1fbe01fe   \n",
              "1  10000949271186029916      1 2014-10-21  1005           0  1fbe01fe   \n",
              "2  10006490708516192015      1 2014-10-21  1005           0  1fbe01fe   \n",
              "\n",
              "  site_domain site_category    app_id app_domain  ...    C14  C15 C16   C17  \\\n",
              "0    f3845767      28905ebd  ecad2386   7801e8d9  ...  15704  320  50  1722   \n",
              "1    f3845767      28905ebd  ecad2386   7801e8d9  ...  15707  320  50  1722   \n",
              "2    f3845767      28905ebd  ecad2386   7801e8d9  ...  15708  320  50  1722   \n",
              "\n",
              "   C18  C19     C20  C21  hour_of_day  day_of_week  \n",
              "0    0   35  100084   79            0      Tuesday  \n",
              "1    0   35      -1   79            0      Tuesday  \n",
              "2    0   35  100083   79            0      Tuesday  \n",
              "\n",
              "[3 rows x 26 columns]"
            ],
            "text/html": [
              "\n",
              "  <div id=\"df-a311495e-22fd-4627-88e4-497304ef5ce0\">\n",
              "    <div class=\"colab-df-container\">\n",
              "      <div>\n",
              "<style scoped>\n",
              "    .dataframe tbody tr th:only-of-type {\n",
              "        vertical-align: middle;\n",
              "    }\n",
              "\n",
              "    .dataframe tbody tr th {\n",
              "        vertical-align: top;\n",
              "    }\n",
              "\n",
              "    .dataframe thead th {\n",
              "        text-align: right;\n",
              "    }\n",
              "</style>\n",
              "<table border=\"1\" class=\"dataframe\">\n",
              "  <thead>\n",
              "    <tr style=\"text-align: right;\">\n",
              "      <th></th>\n",
              "      <th>id</th>\n",
              "      <th>click</th>\n",
              "      <th>hour</th>\n",
              "      <th>C1</th>\n",
              "      <th>banner_pos</th>\n",
              "      <th>site_id</th>\n",
              "      <th>site_domain</th>\n",
              "      <th>site_category</th>\n",
              "      <th>app_id</th>\n",
              "      <th>app_domain</th>\n",
              "      <th>...</th>\n",
              "      <th>C14</th>\n",
              "      <th>C15</th>\n",
              "      <th>C16</th>\n",
              "      <th>C17</th>\n",
              "      <th>C18</th>\n",
              "      <th>C19</th>\n",
              "      <th>C20</th>\n",
              "      <th>C21</th>\n",
              "      <th>hour_of_day</th>\n",
              "      <th>day_of_week</th>\n",
              "    </tr>\n",
              "  </thead>\n",
              "  <tbody>\n",
              "    <tr>\n",
              "      <th>0</th>\n",
              "      <td>10000169349117863715</td>\n",
              "      <td>0</td>\n",
              "      <td>2014-10-21</td>\n",
              "      <td>1005</td>\n",
              "      <td>0</td>\n",
              "      <td>1fbe01fe</td>\n",
              "      <td>f3845767</td>\n",
              "      <td>28905ebd</td>\n",
              "      <td>ecad2386</td>\n",
              "      <td>7801e8d9</td>\n",
              "      <td>...</td>\n",
              "      <td>15704</td>\n",
              "      <td>320</td>\n",
              "      <td>50</td>\n",
              "      <td>1722</td>\n",
              "      <td>0</td>\n",
              "      <td>35</td>\n",
              "      <td>100084</td>\n",
              "      <td>79</td>\n",
              "      <td>0</td>\n",
              "      <td>Tuesday</td>\n",
              "    </tr>\n",
              "    <tr>\n",
              "      <th>1</th>\n",
              "      <td>10000949271186029916</td>\n",
              "      <td>1</td>\n",
              "      <td>2014-10-21</td>\n",
              "      <td>1005</td>\n",
              "      <td>0</td>\n",
              "      <td>1fbe01fe</td>\n",
              "      <td>f3845767</td>\n",
              "      <td>28905ebd</td>\n",
              "      <td>ecad2386</td>\n",
              "      <td>7801e8d9</td>\n",
              "      <td>...</td>\n",
              "      <td>15707</td>\n",
              "      <td>320</td>\n",
              "      <td>50</td>\n",
              "      <td>1722</td>\n",
              "      <td>0</td>\n",
              "      <td>35</td>\n",
              "      <td>-1</td>\n",
              "      <td>79</td>\n",
              "      <td>0</td>\n",
              "      <td>Tuesday</td>\n",
              "    </tr>\n",
              "    <tr>\n",
              "      <th>2</th>\n",
              "      <td>10006490708516192015</td>\n",
              "      <td>1</td>\n",
              "      <td>2014-10-21</td>\n",
              "      <td>1005</td>\n",
              "      <td>0</td>\n",
              "      <td>1fbe01fe</td>\n",
              "      <td>f3845767</td>\n",
              "      <td>28905ebd</td>\n",
              "      <td>ecad2386</td>\n",
              "      <td>7801e8d9</td>\n",
              "      <td>...</td>\n",
              "      <td>15708</td>\n",
              "      <td>320</td>\n",
              "      <td>50</td>\n",
              "      <td>1722</td>\n",
              "      <td>0</td>\n",
              "      <td>35</td>\n",
              "      <td>100083</td>\n",
              "      <td>79</td>\n",
              "      <td>0</td>\n",
              "      <td>Tuesday</td>\n",
              "    </tr>\n",
              "  </tbody>\n",
              "</table>\n",
              "<p>3 rows × 26 columns</p>\n",
              "</div>\n",
              "      <button class=\"colab-df-convert\" onclick=\"convertToInteractive('df-a311495e-22fd-4627-88e4-497304ef5ce0')\"\n",
              "              title=\"Convert this dataframe to an interactive table.\"\n",
              "              style=\"display:none;\">\n",
              "        \n",
              "  <svg xmlns=\"http://www.w3.org/2000/svg\" height=\"24px\"viewBox=\"0 0 24 24\"\n",
              "       width=\"24px\">\n",
              "    <path d=\"M0 0h24v24H0V0z\" fill=\"none\"/>\n",
              "    <path d=\"M18.56 5.44l.94 2.06.94-2.06 2.06-.94-2.06-.94-.94-2.06-.94 2.06-2.06.94zm-11 1L8.5 8.5l.94-2.06 2.06-.94-2.06-.94L8.5 2.5l-.94 2.06-2.06.94zm10 10l.94 2.06.94-2.06 2.06-.94-2.06-.94-.94-2.06-.94 2.06-2.06.94z\"/><path d=\"M17.41 7.96l-1.37-1.37c-.4-.4-.92-.59-1.43-.59-.52 0-1.04.2-1.43.59L10.3 9.45l-7.72 7.72c-.78.78-.78 2.05 0 2.83L4 21.41c.39.39.9.59 1.41.59.51 0 1.02-.2 1.41-.59l7.78-7.78 2.81-2.81c.8-.78.8-2.07 0-2.86zM5.41 20L4 18.59l7.72-7.72 1.47 1.35L5.41 20z\"/>\n",
              "  </svg>\n",
              "      </button>\n",
              "      \n",
              "  <style>\n",
              "    .colab-df-container {\n",
              "      display:flex;\n",
              "      flex-wrap:wrap;\n",
              "      gap: 12px;\n",
              "    }\n",
              "\n",
              "    .colab-df-convert {\n",
              "      background-color: #E8F0FE;\n",
              "      border: none;\n",
              "      border-radius: 50%;\n",
              "      cursor: pointer;\n",
              "      display: none;\n",
              "      fill: #1967D2;\n",
              "      height: 32px;\n",
              "      padding: 0 0 0 0;\n",
              "      width: 32px;\n",
              "    }\n",
              "\n",
              "    .colab-df-convert:hover {\n",
              "      background-color: #E2EBFA;\n",
              "      box-shadow: 0px 1px 2px rgba(60, 64, 67, 0.3), 0px 1px 3px 1px rgba(60, 64, 67, 0.15);\n",
              "      fill: #174EA6;\n",
              "    }\n",
              "\n",
              "    [theme=dark] .colab-df-convert {\n",
              "      background-color: #3B4455;\n",
              "      fill: #D2E3FC;\n",
              "    }\n",
              "\n",
              "    [theme=dark] .colab-df-convert:hover {\n",
              "      background-color: #434B5C;\n",
              "      box-shadow: 0px 1px 3px 1px rgba(0, 0, 0, 0.15);\n",
              "      filter: drop-shadow(0px 1px 2px rgba(0, 0, 0, 0.3));\n",
              "      fill: #FFFFFF;\n",
              "    }\n",
              "  </style>\n",
              "\n",
              "      <script>\n",
              "        const buttonEl =\n",
              "          document.querySelector('#df-a311495e-22fd-4627-88e4-497304ef5ce0 button.colab-df-convert');\n",
              "        buttonEl.style.display =\n",
              "          google.colab.kernel.accessAllowed ? 'block' : 'none';\n",
              "\n",
              "        async function convertToInteractive(key) {\n",
              "          const element = document.querySelector('#df-a311495e-22fd-4627-88e4-497304ef5ce0');\n",
              "          const dataTable =\n",
              "            await google.colab.kernel.invokeFunction('convertToInteractive',\n",
              "                                                     [key], {});\n",
              "          if (!dataTable) return;\n",
              "\n",
              "          const docLinkHtml = 'Like what you see? Visit the ' +\n",
              "            '<a target=\"_blank\" href=https://colab.research.google.com/notebooks/data_table.ipynb>data table notebook</a>'\n",
              "            + ' to learn more about interactive tables.';\n",
              "          element.innerHTML = '';\n",
              "          dataTable['output_type'] = 'display_data';\n",
              "          await google.colab.output.renderOutput(dataTable, element);\n",
              "          const docLink = document.createElement('div');\n",
              "          docLink.innerHTML = docLinkHtml;\n",
              "          element.appendChild(docLink);\n",
              "        }\n",
              "      </script>\n",
              "    </div>\n",
              "  </div>\n",
              "  "
            ]
          },
          "metadata": {},
          "execution_count": 27
        }
      ],
      "source": [
        "train.head(3)"
      ]
    },
    {
      "cell_type": "markdown",
      "metadata": {
        "id": "6LrI7T2D67Xr"
      },
      "source": [
        "### C1 feature\n",
        "\n",
        "C1 is one of the anonymized categorical features. Although we don't know its meaning, we still want to have a look its distribution."
      ]
    },
    {
      "cell_type": "code",
      "execution_count": 28,
      "metadata": {
        "colab": {
          "base_uri": "https://localhost:8080/"
        },
        "id": "pHsGAhKn67Xr",
        "outputId": "c8718a05-4aef-4cae-e8b8-e896f6b03daa"
      },
      "outputs": [
        {
          "output_type": "stream",
          "name": "stdout",
          "text": [
            "1005    0.918632\n",
            "1002    0.054794\n",
            "1010    0.022537\n",
            "1012    0.002763\n",
            "1007    0.000870\n",
            "1001    0.000251\n",
            "1008    0.000153\n",
            "Name: C1, dtype: float64\n"
          ]
        }
      ],
      "source": [
        "print(train.C1.value_counts()/len(train))"
      ]
    },
    {
      "cell_type": "markdown",
      "metadata": {
        "id": "DttQNpuW67Xr"
      },
      "source": [
        "C1 value = 1005 has the most data, almost 92%. Let's see whether we can find value of C1 indicates something about CTR."
      ]
    },
    {
      "cell_type": "code",
      "execution_count": 29,
      "metadata": {
        "colab": {
          "base_uri": "https://localhost:8080/"
        },
        "id": "0n2e9l0m67Xs",
        "outputId": "4ac5cfee-156d-453e-bf0b-b5c1220be302"
      },
      "outputs": [
        {
          "output_type": "stream",
          "name": "stdout",
          "text": [
            "for C1 value: 1001,  click through rate: 0.027888446215139442\n",
            "for C1 value: 1002,  click through rate: 0.2108442530204037\n",
            "for C1 value: 1005,  click through rate: 0.16960545680969094\n",
            "for C1 value: 1007,  click through rate: 0.03333333333333333\n",
            "for C1 value: 1008,  click through rate: 0.1503267973856209\n",
            "for C1 value: 1010,  click through rate: 0.09220393131295203\n",
            "for C1 value: 1012,  click through rate: 0.18132464712269272\n"
          ]
        }
      ],
      "source": [
        "C1_values = train.C1.unique()\n",
        "C1_values.sort()\n",
        "ctr_avg_list=[]\n",
        "for i in C1_values:\n",
        "    ctr_avg=train.loc[np.where((train.C1 == i))].click.mean()\n",
        "    ctr_avg_list.append(ctr_avg)\n",
        "    print(\"for C1 value: {},  click through rate: {}\".format(i,ctr_avg))"
      ]
    },
    {
      "cell_type": "code",
      "execution_count": 30,
      "metadata": {
        "colab": {
          "base_uri": "https://localhost:8080/",
          "height": 0
        },
        "id": "7h3PjbKv67Xs",
        "outputId": "1799b9b2-d567-4132-ef34-dd1ed2df9f30"
      },
      "outputs": [
        {
          "output_type": "display_data",
          "data": {
            "text/plain": [
              "<Figure size 864x432 with 1 Axes>"
            ],
            "image/png": "[encoded data removed]"
          },
          "metadata": {
            "needs_background": "light"
          }
        }
      ],
      "source": [
        "train.groupby(['C1', 'click']).size().unstack().plot(kind='bar', figsize=(12,6), title='C1 histogram');"
      ]
    },
    {
      "cell_type": "code",
      "execution_count": 31,
      "metadata": {
        "colab": {
          "base_uri": "https://localhost:8080/",
          "height": 0
        },
        "id": "CRDpfHh667Xs",
        "outputId": "52b54bb0-a6e2-4d7d-b9d8-83a3cf566e8b"
      },
      "outputs": [
        {
          "output_type": "display_data",
          "data": {
            "text/plain": [
              "<Figure size 864x432 with 1 Axes>"
            ],
            "image/png": "[encoded data removed]"
          },
          "metadata": {
            "needs_background": "light"
          }
        }
      ],
      "source": [
        "df_c1 = train[['C1','click']].groupby(['C1']).count().reset_index()\n",
        "df_c1 = df_c1.rename(columns={'click': 'impressions'})\n",
        "df_c1['clicks'] = df_click[['C1','click']].groupby(['C1']).count().reset_index()['click']\n",
        "df_c1['CTR'] = df_c1['clicks']/df_c1['impressions']*100\n",
        "\n",
        "plt.figure(figsize=(12,6))\n",
        "sns.barplot(y='CTR', x='C1', data=df_c1)\n",
        "plt.title('CTR by C1');"
      ]
    },
    {
      "cell_type": "markdown",
      "metadata": {
        "id": "o5coRg0G67Xs"
      },
      "source": [
        "The average CTR in the data is 0.17."
      ]
    },
    {
      "cell_type": "code",
      "execution_count": 32,
      "metadata": {
        "colab": {
          "base_uri": "https://localhost:8080/"
        },
        "id": "7DUo1kVX67Xs",
        "outputId": "e1240a26-7983-4035-d1b4-816303d86dac"
      },
      "outputs": [
        {
          "output_type": "execute_result",
          "data": {
            "text/plain": [
              "0.169996"
            ]
          },
          "metadata": {},
          "execution_count": 32
        }
      ],
      "source": [
        "train['click'].mean()"
      ]
    },
    {
      "cell_type": "code",
      "execution_count": 33,
      "metadata": {
        "colab": {
          "base_uri": "https://localhost:8080/"
        },
        "id": "ub10sjPA67Xs",
        "outputId": "f26b613b-9e93-45e2-8861-d8014b7ce5c5"
      },
      "outputs": [
        {
          "output_type": "execute_result",
          "data": {
            "text/plain": [
              "count     7.000000\n",
              "mean     12.364670\n",
              "std       7.310835\n",
              "min       2.788845\n",
              "25%       6.276863\n",
              "50%      15.032680\n",
              "75%      17.546505\n",
              "max      21.084425\n",
              "Name: CTR, dtype: float64"
            ]
          },
          "metadata": {},
          "execution_count": 33
        }
      ],
      "source": [
        "df_c1.CTR.describe()"
      ]
    },
    {
      "cell_type": "markdown",
      "metadata": {
        "id": "AxPRw-ZC67Xs"
      },
      "source": [
        "The important C1 values and CTR pairs are:\n",
        "\n",
        "1005: 92% of the data and 0.17 CTR\n",
        "\n",
        "1002: 5.5% of the data and 0.21 CTR\n",
        "\n",
        "1010: 2.3% of the data and 0.096 CTR\n",
        "\n",
        "1002 has a much higher than average CTR, and 1010 has a much lower than average CTR, it seems these two C1 values are important for predicting CTR."
      ]
    },
    {
      "cell_type": "markdown",
      "metadata": {
        "id": "baASpJ6v67Xs"
      },
      "source": [
        "### Banner position\n",
        "\n",
        "I have heard that there are many factors that affect the performance of your banner ads, but the most influential one is the banner position. Let's see whether it is true."
      ]
    },
    {
      "cell_type": "code",
      "execution_count": 34,
      "metadata": {
        "colab": {
          "base_uri": "https://localhost:8080/"
        },
        "id": "TKCjqzsG67Xs",
        "outputId": "6c08cee0-9905-4684-aa72-ac342395c174"
      },
      "outputs": [
        {
          "output_type": "stream",
          "name": "stdout",
          "text": [
            "0    0.718980\n",
            "1    0.279158\n",
            "7    0.001123\n",
            "2    0.000349\n",
            "4    0.000197\n",
            "5    0.000153\n",
            "3    0.000040\n",
            "Name: banner_pos, dtype: float64\n"
          ]
        }
      ],
      "source": [
        "print(train.banner_pos.value_counts()/len(train))"
      ]
    },
    {
      "cell_type": "code",
      "execution_count": 35,
      "metadata": {
        "colab": {
          "base_uri": "https://localhost:8080/"
        },
        "id": "ldAOR80b67Xt",
        "outputId": "e9d8f39d-33cf-4a65-91d5-072577e1b618"
      },
      "outputs": [
        {
          "output_type": "stream",
          "name": "stdout",
          "text": [
            "for banner position: 0,  click through rate: 0.16455256057192133\n",
            "for banner position: 1,  click through rate: 0.18356271358872037\n",
            "for banner position: 2,  click through rate: 0.14613180515759314\n",
            "for banner position: 3,  click through rate: 0.175\n",
            "for banner position: 4,  click through rate: 0.14213197969543148\n",
            "for banner position: 5,  click through rate: 0.1503267973856209\n",
            "for banner position: 7,  click through rate: 0.29741763134461263\n"
          ]
        }
      ],
      "source": [
        "banner_pos = train.banner_pos.unique()\n",
        "banner_pos.sort()\n",
        "ctr_avg_list=[]\n",
        "for i in banner_pos:\n",
        "    ctr_avg=train.loc[np.where((train.banner_pos == i))].click.mean()\n",
        "    ctr_avg_list.append(ctr_avg)\n",
        "    print(\"for banner position: {},  click through rate: {}\".format(i,ctr_avg))"
      ]
    },
    {
      "cell_type": "markdown",
      "metadata": {
        "id": "O4rRJM5467Xt"
      },
      "source": [
        "The important banner positions are:\n",
        "\n",
        "position 0: 72% of the data and 0.16 CTR\n",
        "\n",
        "position 1: 28% of the data and 0.18 CTR"
      ]
    },
    {
      "cell_type": "code",
      "execution_count": 36,
      "metadata": {
        "colab": {
          "base_uri": "https://localhost:8080/",
          "height": 0
        },
        "id": "EnXMkOYq67Xt",
        "outputId": "a414f4d1-6760-47e0-8a63-0a412a2a1e95"
      },
      "outputs": [
        {
          "output_type": "display_data",
          "data": {
            "text/plain": [
              "<Figure size 864x432 with 1 Axes>"
            ],
            "image/png": "[encoded data removed]"
          },
          "metadata": {
            "needs_background": "light"
          }
        }
      ],
      "source": [
        "train.groupby(['banner_pos', 'click']).size().unstack().plot(kind='bar', figsize=(12,6), title='banner position histogram');"
      ]
    },
    {
      "cell_type": "code",
      "execution_count": 37,
      "metadata": {
        "colab": {
          "base_uri": "https://localhost:8080/",
          "height": 0
        },
        "id": "4yUPNjm367Xt",
        "outputId": "324c1d77-32d6-47df-f907-714cf7956c01"
      },
      "outputs": [
        {
          "output_type": "display_data",
          "data": {
            "text/plain": [
              "<Figure size 864x432 with 1 Axes>"
            ],
            "image/png": "[encoded data removed]"
          },
          "metadata": {
            "needs_background": "light"
          }
        }
      ],
      "source": [
        "df_banner = train[['banner_pos','click']].groupby(['banner_pos']).count().reset_index()\n",
        "df_banner = df_banner.rename(columns={'click': 'impressions'})\n",
        "df_banner['clicks'] = df_click[['banner_pos','click']].groupby(['banner_pos']).count().reset_index()['click']\n",
        "df_banner['CTR'] = df_banner['clicks']/df_banner['impressions']*100\n",
        "sort_banners = df_banner.sort_values(by='CTR',ascending=False)['banner_pos'].tolist()\n",
        "plt.figure(figsize=(12,6))\n",
        "sns.barplot(y='CTR', x='banner_pos', data=df_banner, order=sort_banners)\n",
        "plt.title('CTR by banner position');"
      ]
    },
    {
      "cell_type": "code",
      "execution_count": 38,
      "metadata": {
        "colab": {
          "base_uri": "https://localhost:8080/"
        },
        "id": "G2oyVHZS67Xt",
        "outputId": "cac11ca7-7952-4783-e1c9-db9037c218fa"
      },
      "outputs": [
        {
          "output_type": "execute_result",
          "data": {
            "text/plain": [
              "count     7.000000\n",
              "mean     17.987478\n",
              "std       5.404419\n",
              "min      14.213198\n",
              "25%      14.822930\n",
              "50%      16.455256\n",
              "75%      17.928136\n",
              "max      29.741763\n",
              "Name: CTR, dtype: float64"
            ]
          },
          "metadata": {},
          "execution_count": 38
        }
      ],
      "source": [
        "df_banner.CTR.describe()"
      ]
    },
    {
      "cell_type": "markdown",
      "metadata": {
        "id": "BufSI72i67Xt"
      },
      "source": [
        "Although banner position 0 and 1 have the highest number of impressions and clicks, banner 7 enjoys the highest click through rate. Increasing the number of ads placed on banner position 7 seems to be a good idea."
      ]
    },
    {
      "cell_type": "markdown",
      "metadata": {
        "id": "TCzmTxKZ67Xt"
      },
      "source": [
        "### Site features\n",
        "\n",
        "#### site id"
      ]
    },
    {
      "cell_type": "code",
      "execution_count": 39,
      "metadata": {
        "colab": {
          "base_uri": "https://localhost:8080/"
        },
        "id": "jhyu46w667Xt",
        "outputId": "f3778457-afdc-4b96-fe44-e52bf159aa61"
      },
      "outputs": [
        {
          "output_type": "stream",
          "name": "stdout",
          "text": [
            "There are 2620 sites in the data set\n"
          ]
        }
      ],
      "source": [
        "print(\"There are {} sites in the data set\".format(train.site_id.nunique()))"
      ]
    },
    {
      "cell_type": "code",
      "execution_count": 40,
      "metadata": {
        "colab": {
          "base_uri": "https://localhost:8080/"
        },
        "id": "LqEgjtDY67Xt",
        "outputId": "127e0c99-d896-4653-99f1-680cae8d5a12"
      },
      "outputs": [
        {
          "output_type": "stream",
          "name": "stdout",
          "text": [
            "The top 10 site ids that have the most impressions\n",
            "85f751fd    0.360495\n",
            "1fbe01fe    0.160160\n",
            "e151e245    0.065051\n",
            "d9750ee7    0.024041\n",
            "5b08c53b    0.022550\n",
            "5b4d2eda    0.018985\n",
            "856e6d3f    0.018927\n",
            "a7853007    0.011593\n",
            "b7e9786d    0.009125\n",
            "5ee41ff2    0.008774\n",
            "Name: site_id, dtype: float64\n"
          ]
        }
      ],
      "source": [
        "print('The top 10 site ids that have the most impressions')\n",
        "print((train.site_id.value_counts()/len(train))[0:10])"
      ]
    },
    {
      "cell_type": "code",
      "execution_count": 41,
      "metadata": {
        "colab": {
          "base_uri": "https://localhost:8080/"
        },
        "id": "Ic8RUiuf67Xu",
        "outputId": "ea1cbe90-1698-4836-eaeb-d3014d50f39c"
      },
      "outputs": [
        {
          "output_type": "stream",
          "name": "stdout",
          "text": [
            "for site id value: 85f751fd,  click through rate: 0.11891704461920415\n",
            "for site id value: 1fbe01fe,  click through rate: 0.20574425574425576\n",
            "for site id value: e151e245,  click through rate: 0.2951376612196584\n",
            "for site id value: d9750ee7,  click through rate: 0.27981365167838274\n",
            "for site id value: 5b08c53b,  click through rate: 0.46966740576496674\n",
            "for site id value: 5b4d2eda,  click through rate: 0.1341058730576771\n",
            "for site id value: 856e6d3f,  click through rate: 0.04464521582923865\n",
            "for site id value: a7853007,  click through rate: 0.10100922970758217\n",
            "for site id value: b7e9786d,  click through rate: 0.07375342465753425\n",
            "for site id value: 5ee41ff2,  click through rate: 0.3288124002735354\n"
          ]
        }
      ],
      "source": [
        "top10_ids = (train.site_id.value_counts()/len(train))[0:10].index\n",
        "click_avg_list=[]\n",
        "\n",
        "for i in top10_ids:\n",
        "    click_avg=train.loc[np.where((train.site_id == i))].click.mean()\n",
        "    click_avg_list.append(click_avg)\n",
        "    print(\"for site id value: {},  click through rate: {}\".format(i,click_avg))"
      ]
    },
    {
      "cell_type": "code",
      "execution_count": 42,
      "metadata": {
        "colab": {
          "base_uri": "https://localhost:8080/",
          "height": 0
        },
        "id": "kd5mT0Z467Xu",
        "outputId": "a7dd28d9-cb9a-4092-9b00-99d897eb8c92"
      },
      "outputs": [
        {
          "output_type": "display_data",
          "data": {
            "text/plain": [
              "<Figure size 864x432 with 1 Axes>"
            ],
            "image/png": "[encoded data removed]"
          },
          "metadata": {
            "needs_background": "light"
          }
        }
      ],
      "source": [
        "top10_sites = train[(train.site_id.isin((train.site_id.value_counts()/len(train))[0:10].index))]\n",
        "top10_sites_click = top10_sites[top10_sites['click'] == 1]\n",
        "top10_sites.groupby(['site_id', 'click']).size().unstack().plot(kind='bar', figsize=(12,6), title='Top 10 site ids histogram');"
      ]
    },
    {
      "cell_type": "code",
      "execution_count": 43,
      "metadata": {
        "colab": {
          "base_uri": "https://localhost:8080/",
          "height": 0
        },
        "id": "_7S6gIz667Xu",
        "outputId": "29abbae8-3b22-4310-b068-720d642c1423"
      },
      "outputs": [
        {
          "output_type": "display_data",
          "data": {
            "text/plain": [
              "<Figure size 864x432 with 1 Axes>"
            ],
            "image/png": "[encoded data removed]"
          },
          "metadata": {
            "needs_background": "light"
          }
        }
      ],
      "source": [
        "df_site = top10_sites[['site_id','click']].groupby(['site_id']).count().reset_index()\n",
        "df_site = df_site.rename(columns={'click': 'impressions'})\n",
        "df_site['clicks'] = top10_sites_click[['site_id','click']].groupby(['site_id']).count().reset_index()['click']\n",
        "df_site['CTR'] = df_site['clicks']/df_site['impressions']*100\n",
        "sort_site = df_site.sort_values(by='CTR',ascending=False)['site_id'].tolist()\n",
        "plt.figure(figsize=(12,6))\n",
        "sns.barplot(y='CTR', x='site_id', data=df_site, order=sort_site)\n",
        "plt.title('CTR by top 10 site id');"
      ]
    },
    {
      "cell_type": "markdown",
      "metadata": {
        "id": "L5VD36iM67Xu"
      },
      "source": [
        "The site_id feature seems important because the CTR for the top 10 sites, some as high as 0.47, and some as low as 0.04, and they are significantly different from overall CTR 0.16."
      ]
    },
    {
      "cell_type": "markdown",
      "metadata": {
        "id": "2Hjnn80O67Xu"
      },
      "source": [
        "#### site domain "
      ]
    },
    {
      "cell_type": "code",
      "execution_count": 44,
      "metadata": {
        "colab": {
          "base_uri": "https://localhost:8080/"
        },
        "id": "evuVS_sT67Xu",
        "outputId": "8c4ec2e9-2fae-402b-ab0d-9a0e1050f493"
      },
      "outputs": [
        {
          "output_type": "stream",
          "name": "stdout",
          "text": [
            "There are 2828 site domains in the data set\n"
          ]
        }
      ],
      "source": [
        "print(\"There are {} site domains in the data set\".format(train.site_domain.nunique()))"
      ]
    },
    {
      "cell_type": "code",
      "execution_count": 45,
      "metadata": {
        "colab": {
          "base_uri": "https://localhost:8080/"
        },
        "id": "V5rgJjh767Xu",
        "outputId": "279318cc-b959-49d3-a8b2-975ca62e5436"
      },
      "outputs": [
        {
          "output_type": "stream",
          "name": "stdout",
          "text": [
            "The top 10 site domains that have the most impressions\n",
            "c4e18dd6    0.373575\n",
            "f3845767    0.160160\n",
            "7e091613    0.082280\n",
            "7687a86e    0.031991\n",
            "98572c79    0.024842\n",
            "16a36ef3    0.021070\n",
            "58a89a43    0.018927\n",
            "9d54950b    0.009489\n",
            "b12b9f85    0.009238\n",
            "17d996e6    0.008891\n",
            "Name: site_domain, dtype: float64\n"
          ]
        }
      ],
      "source": [
        "print('The top 10 site domains that have the most impressions')\n",
        "print((train.site_domain.value_counts()/len(train))[0:10])"
      ]
    },
    {
      "cell_type": "code",
      "execution_count": 46,
      "metadata": {
        "colab": {
          "base_uri": "https://localhost:8080/"
        },
        "id": "aHBGFY4u67Xu",
        "outputId": "172669c5-8d35-45ca-ac89-5f297e1e3500"
      },
      "outputs": [
        {
          "output_type": "stream",
          "name": "stdout",
          "text": [
            "for site domain value: c4e18dd6,  click through rate: 0.12286154052064512\n",
            "for site domain value: f3845767,  click through rate: 0.20574425574425576\n",
            "for site domain value: 7e091613,  click through rate: 0.25692756441419545\n",
            "for site domain value: 7687a86e,  click through rate: 0.462911443843581\n",
            "for site domain value: 98572c79,  click through rate: 0.27465582481281703\n",
            "for site domain value: 16a36ef3,  click through rate: 0.14560987185571903\n",
            "for site domain value: 58a89a43,  click through rate: 0.04464521582923865\n",
            "for site domain value: 9d54950b,  click through rate: 0.10759827168300137\n",
            "for site domain value: b12b9f85,  click through rate: 0.07436674604892834\n",
            "for site domain value: 17d996e6,  click through rate: 0.32695984703632885\n"
          ]
        }
      ],
      "source": [
        "top10_domains = (train.site_domain.value_counts()/len(train))[0:10].index\n",
        "click_avg_list=[]\n",
        "\n",
        "for i in top10_domains:\n",
        "    click_avg=train.loc[np.where((train.site_domain == i))].click.mean()\n",
        "    click_avg_list.append(click_avg)\n",
        "    print(\"for site domain value: {},  click through rate: {}\".format(i,click_avg))"
      ]
    },
    {
      "cell_type": "code",
      "execution_count": 47,
      "metadata": {
        "colab": {
          "base_uri": "https://localhost:8080/",
          "height": 0
        },
        "id": "SpTR0VEA67Xv",
        "outputId": "e05199dd-392a-46d1-e1d0-c1b3236c5e8a"
      },
      "outputs": [
        {
          "output_type": "display_data",
          "data": {
            "text/plain": [
              "<Figure size 864x432 with 1 Axes>"
            ],
            "image/png": "[encoded data removed]"
          },
          "metadata": {
            "needs_background": "light"
          }
        }
      ],
      "source": [
        "top10_domain = train[(train.site_domain.isin((train.site_domain.value_counts()/len(train))[0:10].index))]\n",
        "top10_domain_click = top10_domain[top10_domain['click'] == 1]\n",
        "top10_domain.groupby(['site_domain', 'click']).size().unstack().plot(kind='bar', figsize=(12,6), title='Top 10 site domains histogram');"
      ]
    },
    {
      "cell_type": "code",
      "execution_count": 48,
      "metadata": {
        "colab": {
          "base_uri": "https://localhost:8080/",
          "height": 0
        },
        "id": "Gu4LKxH367Xv",
        "outputId": "c55ffe49-6fb3-4b44-8669-22c1dfbd1bd0"
      },
      "outputs": [
        {
          "output_type": "display_data",
          "data": {
            "text/plain": [
              "<Figure size 864x432 with 1 Axes>"
            ],
            "image/png": "[encoded data removed]"
          },
          "metadata": {
            "needs_background": "light"
          }
        }
      ],
      "source": [
        "df_domain = top10_domain[['site_domain','click']].groupby(['site_domain']).count().reset_index()\n",
        "df_domain = df_domain.rename(columns={'click': 'impressions'})\n",
        "df_domain['clicks'] = top10_domain_click[['site_domain','click']].groupby(['site_domain']).count().reset_index()['click']\n",
        "df_domain['CTR'] = df_domain['clicks']/df_domain['impressions']*100\n",
        "sort_domain = df_domain.sort_values(by='CTR',ascending=False)['site_domain'].tolist()\n",
        "plt.figure(figsize=(12,6))\n",
        "sns.barplot(y='CTR', x='site_domain', data=df_domain, order=sort_domain)\n",
        "plt.title('CTR by top 10 site domain');"
      ]
    },
    {
      "cell_type": "markdown",
      "metadata": {
        "id": "Juueyptw67Xv"
      },
      "source": [
        "Similar with the site_id feature, the site_domain feature seems important as well."
      ]
    },
    {
      "cell_type": "markdown",
      "metadata": {
        "id": "_N6cHLIt67Xv"
      },
      "source": [
        "#### site category"
      ]
    },
    {
      "cell_type": "code",
      "execution_count": 49,
      "metadata": {
        "colab": {
          "base_uri": "https://localhost:8080/"
        },
        "id": "NwNnIp0H67Xv",
        "outputId": "6933256c-9489-4010-a5ac-591045864364"
      },
      "outputs": [
        {
          "output_type": "stream",
          "name": "stdout",
          "text": [
            "There are 22 site categories in the data set\n"
          ]
        }
      ],
      "source": [
        "print(\"There are {} site categories in the data set\".format(train.site_category.nunique()))"
      ]
    },
    {
      "cell_type": "code",
      "execution_count": 50,
      "metadata": {
        "colab": {
          "base_uri": "https://localhost:8080/"
        },
        "id": "6uHQp1NL67Xv",
        "outputId": "55e6297c-920e-44e8-a917-6eb5b936927b"
      },
      "outputs": [
        {
          "output_type": "stream",
          "name": "stdout",
          "text": [
            "The top 10 site categories that have the most impressions\n",
            "50e219e0    0.408365\n",
            "f028772b    0.313903\n",
            "28905ebd    0.182215\n",
            "3e814130    0.075585\n",
            "f66779e6    0.006228\n",
            "75fa27f6    0.004013\n",
            "335d28a8    0.003389\n",
            "76b2941d    0.002515\n",
            "c0dd3be3    0.001079\n",
            "72722551    0.000701\n",
            "Name: site_category, dtype: float64\n"
          ]
        }
      ],
      "source": [
        "print('The top 10 site categories that have the most impressions')\n",
        "print((train.site_category.value_counts()/len(train))[0:10])"
      ]
    },
    {
      "cell_type": "code",
      "execution_count": 51,
      "metadata": {
        "colab": {
          "base_uri": "https://localhost:8080/"
        },
        "id": "HMgw5Mp067Xv",
        "outputId": "bd6ab794-aefe-457d-eb32-4fdc3fee7c86"
      },
      "outputs": [
        {
          "output_type": "stream",
          "name": "stdout",
          "text": [
            "for site category value: 50e219e0,  click through rate: 0.12870348830090728\n",
            "for site category value: f028772b,  click through rate: 0.1795618391668764\n",
            "for site category value: 28905ebd,  click through rate: 0.2082814257882172\n",
            "for site category value: 3e814130,  click through rate: 0.28315141893232787\n",
            "for site category value: f66779e6,  click through rate: 0.04271034039820167\n",
            "for site category value: 75fa27f6,  click through rate: 0.10939446797906803\n",
            "for site category value: 335d28a8,  click through rate: 0.09383298908232517\n",
            "for site category value: 76b2941d,  click through rate: 0.024254473161033796\n",
            "for site category value: c0dd3be3,  click through rate: 0.11492122335495829\n",
            "for site category value: 72722551,  click through rate: 0.07703281027104136\n"
          ]
        }
      ],
      "source": [
        "top10_categories = (train.site_category.value_counts()/len(train))[0:10].index\n",
        "click_avg_list=[]\n",
        "\n",
        "for i in top10_categories:\n",
        "    click_avg=train.loc[np.where((train.site_category == i))].click.mean()\n",
        "    click_avg_list.append(click_avg)\n",
        "    print(\"for site category value: {},  click through rate: {}\".format(i,click_avg))"
      ]
    },
    {
      "cell_type": "code",
      "execution_count": 52,
      "metadata": {
        "colab": {
          "base_uri": "https://localhost:8080/",
          "height": 0
        },
        "id": "_oVMqunC67Xv",
        "outputId": "c805efad-2df2-401f-8298-a0066d45b712"
      },
      "outputs": [
        {
          "output_type": "display_data",
          "data": {
            "text/plain": [
              "<Figure size 864x432 with 1 Axes>"
            ],
            "image/png": "[encoded data removed]"
          },
          "metadata": {
            "needs_background": "light"
          }
        }
      ],
      "source": [
        "top10_category = train[(train.site_category.isin((train.site_category.value_counts()/len(train))[0:10].index))]\n",
        "top10_category_click = top10_category[top10_category['click'] == 1]\n",
        "top10_category.groupby(['site_category', 'click']).size().unstack().plot(kind='bar', figsize=(12,6), title='Top 10 site categories histogram');"
      ]
    },
    {
      "cell_type": "code",
      "execution_count": 53,
      "metadata": {
        "colab": {
          "base_uri": "https://localhost:8080/",
          "height": 0
        },
        "id": "cutxYkJZ67Xv",
        "outputId": "0d6ef1a5-a9ca-4147-9d6a-c803f119a907"
      },
      "outputs": [
        {
          "output_type": "display_data",
          "data": {
            "text/plain": [
              "<Figure size 864x432 with 1 Axes>"
            ],
            "image/png": "[encoded data removed]"
          },
          "metadata": {
            "needs_background": "light"
          }
        }
      ],
      "source": [
        "df_category = top10_category[['site_category','click']].groupby(['site_category']).count().reset_index()\n",
        "df_category = df_category.rename(columns={'click': 'impressions'})\n",
        "df_category['clicks'] = top10_category_click[['site_category','click']].groupby(['site_category']).count().reset_index()['click']\n",
        "df_category['CTR'] = df_category['clicks']/df_category['impressions']*100\n",
        "sort_category = df_category.sort_values(by='CTR',ascending=False)['site_category'].tolist()\n",
        "plt.figure(figsize=(12,6))\n",
        "sns.barplot(y='CTR', x='site_category', data=df_category, order=sort_category)\n",
        "plt.title('CTR by top 10 site category');"
      ]
    },
    {
      "cell_type": "markdown",
      "metadata": {
        "id": "pLUXRxpo67Xw"
      },
      "source": [
        "### Device features\n",
        "\n",
        "#### device id"
      ]
    },
    {
      "cell_type": "code",
      "execution_count": 54,
      "metadata": {
        "colab": {
          "base_uri": "https://localhost:8080/"
        },
        "id": "bUgA0vu067Xw",
        "outputId": "5cd0ed9c-9912-4ac5-c7bf-df84a08ef441"
      },
      "outputs": [
        {
          "output_type": "stream",
          "name": "stdout",
          "text": [
            "There are 150179 devices in the data set\n"
          ]
        }
      ],
      "source": [
        "print(\"There are {} devices in the data set\".format(train.device_id.nunique()))"
      ]
    },
    {
      "cell_type": "code",
      "execution_count": 55,
      "metadata": {
        "colab": {
          "base_uri": "https://localhost:8080/"
        },
        "id": "JJ9g423O67Xw",
        "outputId": "cc26bee3-a35d-4bd3-8a19-55b69068b59a"
      },
      "outputs": [
        {
          "output_type": "stream",
          "name": "stdout",
          "text": [
            "The top 10 devices that have the most impressions\n",
            "a99f214a    0.825132\n",
            "0f7c61dc    0.000501\n",
            "c357dbff    0.000495\n",
            "936e92fb    0.000320\n",
            "afeffc18    0.000249\n",
            "987552d1    0.000114\n",
            "28dc8687    0.000099\n",
            "d857ffbb    0.000086\n",
            "3cdb4052    0.000082\n",
            "cef4c8cc    0.000079\n",
            "Name: device_id, dtype: float64\n"
          ]
        }
      ],
      "source": [
        "print('The top 10 devices that have the most impressions')\n",
        "print((train.device_id.value_counts()/len(train))[0:10])"
      ]
    },
    {
      "cell_type": "code",
      "execution_count": 56,
      "metadata": {
        "colab": {
          "base_uri": "https://localhost:8080/"
        },
        "id": "WcaxV4TH67Xw",
        "outputId": "1e6bb9d6-2a5f-44e7-bc74-44773387ae93"
      },
      "outputs": [
        {
          "output_type": "stream",
          "name": "stdout",
          "text": [
            "for device id value: a99f214a,  click through rate: 0.1743102921714344\n",
            "for device id value: 0f7c61dc,  click through rate: 0.7584830339321357\n",
            "for device id value: c357dbff,  click through rate: 0.6363636363636364\n",
            "for device id value: 936e92fb,  click through rate: 0.071875\n",
            "for device id value: afeffc18,  click through rate: 0.24497991967871485\n",
            "for device id value: 987552d1,  click through rate: 0.0\n",
            "for device id value: 28dc8687,  click through rate: 0.0\n",
            "for device id value: d857ffbb,  click through rate: 0.2558139534883721\n",
            "for device id value: 3cdb4052,  click through rate: 0.7195121951219512\n",
            "for device id value: cef4c8cc,  click through rate: 0.21518987341772153\n"
          ]
        }
      ],
      "source": [
        "top10_devices = (train.device_id.value_counts()/len(train))[0:10].index\n",
        "click_avg_list=[]\n",
        "\n",
        "for i in top10_devices:\n",
        "    click_avg=train.loc[np.where((train.device_id == i))].click.mean()\n",
        "    click_avg_list.append(click_avg)\n",
        "    print(\"for device id value: {},  click through rate: {}\".format(i,click_avg))"
      ]
    },
    {
      "cell_type": "code",
      "execution_count": 57,
      "metadata": {
        "colab": {
          "base_uri": "https://localhost:8080/",
          "height": 446
        },
        "id": "63fQgnTP67Xw",
        "outputId": "542786a5-35a4-4833-b39a-4c79de7f7a3c"
      },
      "outputs": [
        {
          "output_type": "display_data",
          "data": {
            "text/plain": [
              "<Figure size 864x432 with 1 Axes>"
            ],
            "image/png": "[encoded data removed]"
          },
          "metadata": {
            "needs_background": "light"
          }
        }
      ],
      "source": [
        "top10_device = train[(train.device_id.isin((train.device_id.value_counts()/len(train))[0:10].index))]\n",
        "top10_device_click = top10_device[top10_device['click'] == 1]\n",
        "top10_device.groupby(['device_id', 'click']).size().unstack().plot(kind='bar', figsize=(12,6), title='Top 10 device ids histogram');"
      ]
    },
    {
      "cell_type": "markdown",
      "metadata": {
        "id": "heSPZwht67Xw"
      },
      "source": [
        "You will see that most of device_id is a99f214a : Approx. 83% of the data, and the second major device_id is only 0.05% of the data. And there are some extremely high CTR here with device id at 0f7c61dc."
      ]
    },
    {
      "cell_type": "markdown",
      "metadata": {
        "id": "MG9d4Zcp67Xw"
      },
      "source": [
        "#### device ip\n",
        "\n",
        "Device ip is more of a users ip address, so, there are a lot of them."
      ]
    },
    {
      "cell_type": "code",
      "execution_count": 58,
      "metadata": {
        "colab": {
          "base_uri": "https://localhost:8080/"
        },
        "id": "XyWtP-C867Xw",
        "outputId": "787073df-bd99-4d3c-8d6c-628ba8fa54bc"
      },
      "outputs": [
        {
          "output_type": "stream",
          "name": "stdout",
          "text": [
            "There are 554637 device ips in the data set\n",
            "There are 5 device types in the data set\n",
            "There are 5147 device models in the data set\n",
            "There are 4 device cnn types in the data set\n"
          ]
        }
      ],
      "source": [
        "print(\"There are {} device ips in the data set\".format(train.device_ip.nunique()))\n",
        "print(\"There are {} device types in the data set\".format(train.device_type.nunique()))\n",
        "print(\"There are {} device models in the data set\".format(train.device_model.nunique()))\n",
        "print(\"There are {} device cnn types in the data set\".format(train.device_conn_type.nunique()))"
      ]
    },
    {
      "cell_type": "markdown",
      "metadata": {
        "id": "PF5jgLkn67Xw"
      },
      "source": [
        "#### device type"
      ]
    },
    {
      "cell_type": "code",
      "execution_count": 59,
      "metadata": {
        "colab": {
          "base_uri": "https://localhost:8080/"
        },
        "id": "h72RdTvQ67Xx",
        "outputId": "be7a3ba5-8ac2-49d6-c1e3-29bd1351c58d"
      },
      "outputs": [
        {
          "output_type": "stream",
          "name": "stdout",
          "text": [
            "The impressions by device types\n",
            "1    0.922668\n",
            "0    0.054794\n",
            "4    0.019289\n",
            "5    0.003248\n",
            "2    0.000001\n",
            "Name: device_type, dtype: float64\n"
          ]
        }
      ],
      "source": [
        "print('The impressions by device types')\n",
        "print((train.device_type.value_counts()/len(train)))"
      ]
    },
    {
      "cell_type": "code",
      "execution_count": 60,
      "metadata": {
        "colab": {
          "base_uri": "https://localhost:8080/",
          "height": 293
        },
        "id": "SIM8l6de67Xx",
        "outputId": "4c746180-0426-4959-a13d-54f838179473"
      },
      "outputs": [
        {
          "output_type": "display_data",
          "data": {
            "text/plain": [
              "<Figure size 432x288 with 1 Axes>"
            ],
            "image/png": "[encoded data removed]"
          },
          "metadata": {
            "needs_background": "light"
          }
        }
      ],
      "source": [
        "train[['device_type','click']].groupby(['device_type','click']).size().unstack().plot(kind='bar', title='device types');"
      ]
    },
    {
      "cell_type": "markdown",
      "metadata": {
        "id": "GphdSBDr67Xx"
      },
      "source": [
        "Device type 1 gets the most impressions and clicks. And the other device types only get the minimum impressions and clicks. We may want to look in more details about device type 1. "
      ]
    },
    {
      "cell_type": "code",
      "execution_count": 61,
      "metadata": {
        "colab": {
          "base_uri": "https://localhost:8080/",
          "height": 408
        },
        "id": "KuYwdcm567Xx",
        "outputId": "b3066b33-bfbc-4ad2-cc12-b4788cfed242",
        "scrolled": false
      },
      "outputs": [
        {
          "output_type": "display_data",
          "data": {
            "text/plain": [
              "<Figure size 864x432 with 1 Axes>"
            ],
            "image/png": "[encoded data removed]"
          },
          "metadata": {
            "needs_background": "light"
          }
        }
      ],
      "source": [
        "df_click[df_click['device_type']==1].groupby(['hour_of_day', 'click']).size().unstack().plot(kind='bar', title=\"Clicks from device type 1 by hour of day\", figsize=(12,6));"
      ]
    },
    {
      "cell_type": "markdown",
      "metadata": {
        "id": "T4SUH32U67Xx"
      },
      "source": [
        "As expected, most clicks happened during the business hours from device type 1. device type is definitely an important feature. "
      ]
    },
    {
      "cell_type": "code",
      "execution_count": 62,
      "metadata": {
        "id": "qjSFadN567Xx"
      },
      "outputs": [],
      "source": [
        "device_type_click = df_click.groupby('device_type').agg({'click':'sum'}).reset_index()\n",
        "device_type_impression = train.groupby('device_type').agg({'click':'count'}).reset_index().rename(columns={'click': 'impressions'})\n",
        "merged_device_type = pd.merge(left = device_type_click , right = device_type_impression, how = 'inner', on = 'device_type')"
      ]
    },
    {
      "cell_type": "code",
      "execution_count": 63,
      "metadata": {
        "id": "7eG6Mysf67Xx"
      },
      "outputs": [],
      "source": [
        "merged_device_type['CTR'] = merged_device_type['click'] / merged_device_type['impressions']*100"
      ]
    },
    {
      "cell_type": "code",
      "execution_count": 64,
      "metadata": {
        "colab": {
          "base_uri": "https://localhost:8080/",
          "height": 175
        },
        "id": "N8KGcqSA67Xx",
        "outputId": "08ceb854-41a8-4967-a3c6-0ecba0bf884b"
      },
      "outputs": [
        {
          "output_type": "execute_result",
          "data": {
            "text/plain": [
              "   device_type   click  impressions        CTR\n",
              "0            0   11553        54794  21.084425\n",
              "1            1  156365       922668  16.947049\n",
              "2            4    1773        19289   9.191767\n",
              "3            5     305         3248   9.390394"
            ],
            "text/html": [
              "\n",
              "  <div id=\"df-81f53a95-f33d-41e6-9825-f403e7b618ba\">\n",
              "    <div class=\"colab-df-container\">\n",
              "      <div>\n",
              "<style scoped>\n",
              "    .dataframe tbody tr th:only-of-type {\n",
              "        vertical-align: middle;\n",
              "    }\n",
              "\n",
              "    .dataframe tbody tr th {\n",
              "        vertical-align: top;\n",
              "    }\n",
              "\n",
              "    .dataframe thead th {\n",
              "        text-align: right;\n",
              "    }\n",
              "</style>\n",
              "<table border=\"1\" class=\"dataframe\">\n",
              "  <thead>\n",
              "    <tr style=\"text-align: right;\">\n",
              "      <th></th>\n",
              "      <th>device_type</th>\n",
              "      <th>click</th>\n",
              "      <th>impressions</th>\n",
              "      <th>CTR</th>\n",
              "    </tr>\n",
              "  </thead>\n",
              "  <tbody>\n",
              "    <tr>\n",
              "      <th>0</th>\n",
              "      <td>0</td>\n",
              "      <td>11553</td>\n",
              "      <td>54794</td>\n",
              "      <td>21.084425</td>\n",
              "    </tr>\n",
              "    <tr>\n",
              "      <th>1</th>\n",
              "      <td>1</td>\n",
              "      <td>156365</td>\n",
              "      <td>922668</td>\n",
              "      <td>16.947049</td>\n",
              "    </tr>\n",
              "    <tr>\n",
              "      <th>2</th>\n",
              "      <td>4</td>\n",
              "      <td>1773</td>\n",
              "      <td>19289</td>\n",
              "      <td>9.191767</td>\n",
              "    </tr>\n",
              "    <tr>\n",
              "      <th>3</th>\n",
              "      <td>5</td>\n",
              "      <td>305</td>\n",
              "      <td>3248</td>\n",
              "      <td>9.390394</td>\n",
              "    </tr>\n",
              "  </tbody>\n",
              "</table>\n",
              "</div>\n",
              "      <button class=\"colab-df-convert\" onclick=\"convertToInteractive('df-81f53a95-f33d-41e6-9825-f403e7b618ba')\"\n",
              "              title=\"Convert this dataframe to an interactive table.\"\n",
              "              style=\"display:none;\">\n",
              "        \n",
              "  <svg xmlns=\"http://www.w3.org/2000/svg\" height=\"24px\"viewBox=\"0 0 24 24\"\n",
              "       width=\"24px\">\n",
              "    <path d=\"M0 0h24v24H0V0z\" fill=\"none\"/>\n",
              "    <path d=\"M18.56 5.44l.94 2.06.94-2.06 2.06-.94-2.06-.94-.94-2.06-.94 2.06-2.06.94zm-11 1L8.5 8.5l.94-2.06 2.06-.94-2.06-.94L8.5 2.5l-.94 2.06-2.06.94zm10 10l.94 2.06.94-2.06 2.06-.94-2.06-.94-.94-2.06-.94 2.06-2.06.94z\"/><path d=\"M17.41 7.96l-1.37-1.37c-.4-.4-.92-.59-1.43-.59-.52 0-1.04.2-1.43.59L10.3 9.45l-7.72 7.72c-.78.78-.78 2.05 0 2.83L4 21.41c.39.39.9.59 1.41.59.51 0 1.02-.2 1.41-.59l7.78-7.78 2.81-2.81c.8-.78.8-2.07 0-2.86zM5.41 20L4 18.59l7.72-7.72 1.47 1.35L5.41 20z\"/>\n",
              "  </svg>\n",
              "      </button>\n",
              "      \n",
              "  <style>\n",
              "    .colab-df-container {\n",
              "      display:flex;\n",
              "      flex-wrap:wrap;\n",
              "      gap: 12px;\n",
              "    }\n",
              "\n",
              "    .colab-df-convert {\n",
              "      background-color: #E8F0FE;\n",
              "      border: none;\n",
              "      border-radius: 50%;\n",
              "      cursor: pointer;\n",
              "      display: none;\n",
              "      fill: #1967D2;\n",
              "      height: 32px;\n",
              "      padding: 0 0 0 0;\n",
              "      width: 32px;\n",
              "    }\n",
              "\n",
              "    .colab-df-convert:hover {\n",
              "      background-color: #E2EBFA;\n",
              "      box-shadow: 0px 1px 2px rgba(60, 64, 67, 0.3), 0px 1px 3px 1px rgba(60, 64, 67, 0.15);\n",
              "      fill: #174EA6;\n",
              "    }\n",
              "\n",
              "    [theme=dark] .colab-df-convert {\n",
              "      background-color: #3B4455;\n",
              "      fill: #D2E3FC;\n",
              "    }\n",
              "\n",
              "    [theme=dark] .colab-df-convert:hover {\n",
              "      background-color: #434B5C;\n",
              "      box-shadow: 0px 1px 3px 1px rgba(0, 0, 0, 0.15);\n",
              "      filter: drop-shadow(0px 1px 2px rgba(0, 0, 0, 0.3));\n",
              "      fill: #FFFFFF;\n",
              "    }\n",
              "  </style>\n",
              "\n",
              "      <script>\n",
              "        const buttonEl =\n",
              "          document.querySelector('#df-81f53a95-f33d-41e6-9825-f403e7b618ba button.colab-df-convert');\n",
              "        buttonEl.style.display =\n",
              "          google.colab.kernel.accessAllowed ? 'block' : 'none';\n",
              "\n",
              "        async function convertToInteractive(key) {\n",
              "          const element = document.querySelector('#df-81f53a95-f33d-41e6-9825-f403e7b618ba');\n",
              "          const dataTable =\n",
              "            await google.colab.kernel.invokeFunction('convertToInteractive',\n",
              "                                                     [key], {});\n",
              "          if (!dataTable) return;\n",
              "\n",
              "          const docLinkHtml = 'Like what you see? Visit the ' +\n",
              "            '<a target=\"_blank\" href=https://colab.research.google.com/notebooks/data_table.ipynb>data table notebook</a>'\n",
              "            + ' to learn more about interactive tables.';\n",
              "          element.innerHTML = '';\n",
              "          dataTable['output_type'] = 'display_data';\n",
              "          await google.colab.output.renderOutput(dataTable, element);\n",
              "          const docLink = document.createElement('div');\n",
              "          docLink.innerHTML = docLinkHtml;\n",
              "          element.appendChild(docLink);\n",
              "        }\n",
              "      </script>\n",
              "    </div>\n",
              "  </div>\n",
              "  "
            ]
          },
          "metadata": {},
          "execution_count": 64
        }
      ],
      "source": [
        "merged_device_type"
      ]
    },
    {
      "cell_type": "markdown",
      "metadata": {
        "id": "53o7Duuc67Xx"
      },
      "source": [
        "The highest CTR comes from device type 0."
      ]
    },
    {
      "cell_type": "markdown",
      "metadata": {
        "id": "4j2Q-0SY67Xx"
      },
      "source": [
        "#### app features"
      ]
    },
    {
      "cell_type": "code",
      "execution_count": 65,
      "metadata": {
        "colab": {
          "base_uri": "https://localhost:8080/"
        },
        "id": "m7K55vSt67Xx",
        "outputId": "231bfff5-e4c6-4525-94aa-094e77a08992"
      },
      "outputs": [
        {
          "output_type": "stream",
          "name": "stdout",
          "text": [
            "There are 3157 apps in the data set\n",
            "There are 201 app domains in the data set\n",
            "There are 26 app categories in the data set\n"
          ]
        }
      ],
      "source": [
        "print(\"There are {} apps in the data set\".format(train.app_id.nunique()))\n",
        "print(\"There are {} app domains in the data set\".format(train.app_domain.nunique()))\n",
        "print(\"There are {} app categories in the data set\".format(train.app_category.nunique()))"
      ]
    },
    {
      "cell_type": "markdown",
      "metadata": {
        "id": "xUSVjBW967Xy"
      },
      "source": [
        "Looks like app category something worth to explore."
      ]
    },
    {
      "cell_type": "code",
      "execution_count": 66,
      "metadata": {
        "colab": {
          "base_uri": "https://localhost:8080/"
        },
        "id": "QaSzljPr67Xy",
        "outputId": "98c3ff1e-d93a-471b-9be9-db45b4bf24ad"
      },
      "outputs": [
        {
          "output_type": "stream",
          "name": "stdout",
          "text": [
            "The impressions by app categories\n",
            "07d7df22    0.647784\n",
            "0f2161f8    0.236207\n",
            "cef3e649    0.042539\n",
            "8ded1f7a    0.036451\n",
            "f95efa07    0.027974\n",
            "d1327cf5    0.003068\n",
            "dc97ec06    0.001383\n",
            "09481d60    0.001332\n",
            "75d80bbe    0.000981\n",
            "fc6fa53d    0.000589\n",
            "4ce2e9fc    0.000560\n",
            "879c24eb    0.000353\n",
            "a3c42688    0.000278\n",
            "0f9a328c    0.000139\n",
            "4681bb9d    0.000137\n",
            "a86a3e89    0.000064\n",
            "2281a340    0.000053\n",
            "8df2e842    0.000039\n",
            "79f0b860    0.000022\n",
            "0bfbc358    0.000012\n",
            "18b1e0be    0.000010\n",
            "7113d72a    0.000008\n",
            "a7fd01ec    0.000007\n",
            "5326cf99    0.000005\n",
            "2fc4f2aa    0.000004\n",
            "4b7ade46    0.000001\n",
            "Name: app_category, dtype: float64\n"
          ]
        }
      ],
      "source": [
        "print('The impressions by app categories')\n",
        "print((train.app_category.value_counts()/len(train)))"
      ]
    },
    {
      "cell_type": "code",
      "execution_count": 67,
      "metadata": {
        "colab": {
          "base_uri": "https://localhost:8080/",
          "height": 0
        },
        "id": "3DSgAALc67Xy",
        "outputId": "d6c4b8a3-72df-4da1-fd5a-fe137c10198b"
      },
      "outputs": [
        {
          "output_type": "execute_result",
          "data": {
            "text/plain": [
              "<matplotlib.axes._subplots.AxesSubplot at 0x7fcc7c2f5590>"
            ]
          },
          "metadata": {},
          "execution_count": 67
        },
        {
          "output_type": "display_data",
          "data": {
            "text/plain": [
              "<Figure size 432x288 with 1 Axes>"
            ],
            "image/png": "[encoded data removed]"
          },
          "metadata": {
            "needs_background": "light"
          }
        }
      ],
      "source": [
        "train['app_category'].value_counts().plot(kind='bar', title='App Category v/s Clicks')"
      ]
    },
    {
      "cell_type": "code",
      "execution_count": 68,
      "metadata": {
        "colab": {
          "base_uri": "https://localhost:8080/",
          "height": 0
        },
        "id": "Y4oivFST67Xy",
        "outputId": "3945aa50-df15-4a13-c94a-60baeb1ed170"
      },
      "outputs": [
        {
          "output_type": "display_data",
          "data": {
            "text/plain": [
              "<Figure size 432x288 with 1 Axes>"
            ],
            "image/png": "[encoded data removed]"
          },
          "metadata": {
            "needs_background": "light"
          }
        }
      ],
      "source": [
        "train_app_category = train.groupby(['app_category', 'click']).size().unstack()\n",
        "train_app_category.div(train_app_category.sum(axis=1), axis=0).plot(kind='bar', stacked=True, title=\"Intra-category CTR\");"
      ]
    },
    {
      "cell_type": "markdown",
      "metadata": {
        "id": "mKYkWKps67Xy"
      },
      "source": [
        "#### C14 - C21 features"
      ]
    },
    {
      "cell_type": "code",
      "execution_count": 69,
      "metadata": {
        "colab": {
          "base_uri": "https://localhost:8080/"
        },
        "id": "yCFKKsT167Xy",
        "outputId": "d36ca5c6-691a-431f-8c1c-e4452e37bf67"
      },
      "outputs": [
        {
          "output_type": "stream",
          "name": "stdout",
          "text": [
            "There are 2241 C14 in the data set\n",
            "There are 8 C15 in the data set\n",
            "There are 9 C16 in the data set\n",
            "There are 421 C17 in the data set\n",
            "There are 4 C18 in the data set\n",
            "There are 66 C19 in the data set\n",
            "There are 165 C20 in the data set\n"
          ]
        }
      ],
      "source": [
        "print(\"There are {} C14 in the data set\".format(train.C14.nunique()))\n",
        "print(\"There are {} C15 in the data set\".format(train.C15.nunique()))\n",
        "print(\"There are {} C16 in the data set\".format(train.C16.nunique()))\n",
        "print(\"There are {} C17 in the data set\".format(train.C17.nunique()))\n",
        "print(\"There are {} C18 in the data set\".format(train.C18.nunique()))\n",
        "print(\"There are {} C19 in the data set\".format(train.C19.nunique()))\n",
        "print(\"There are {} C20 in the data set\".format(train.C20.nunique()))"
      ]
    },
    {
      "cell_type": "code",
      "execution_count": 70,
      "metadata": {
        "colab": {
          "base_uri": "https://localhost:8080/",
          "height": 311
        },
        "id": "Nz7rpyMd67Xy",
        "outputId": "bdb99689-684c-4b37-b778-2990e01b7447"
      },
      "outputs": [
        {
          "output_type": "display_data",
          "data": {
            "text/plain": [
              "<Figure size 432x288 with 1 Axes>"
            ],
            "image/png": "[encoded data removed]"
          },
          "metadata": {
            "needs_background": "light"
          }
        }
      ],
      "source": [
        "train.groupby(['C15', 'click']).size().unstack().plot(kind='bar', stacked=True, title='C15 distribution');"
      ]
    },
    {
      "cell_type": "code",
      "execution_count": 71,
      "metadata": {
        "colab": {
          "base_uri": "https://localhost:8080/",
          "height": 311
        },
        "id": "eY4d2Y-c67Xy",
        "outputId": "f7e245df-4b12-4404-ef13-a13f670c27b6"
      },
      "outputs": [
        {
          "output_type": "display_data",
          "data": {
            "text/plain": [
              "<Figure size 432x288 with 1 Axes>"
            ],
            "image/png": "[encoded data removed]"
          },
          "metadata": {
            "needs_background": "light"
          }
        }
      ],
      "source": [
        "train.groupby(['C16', 'click']).size().unstack().plot(kind='bar', stacked=True, title='C16 distribution');"
      ]
    },
    {
      "cell_type": "code",
      "execution_count": 72,
      "metadata": {
        "colab": {
          "base_uri": "https://localhost:8080/",
          "height": 292
        },
        "id": "8iBLCe7L67Xy",
        "outputId": "82e7bf71-8ca0-4963-9607-69e3a2c7fd10"
      },
      "outputs": [
        {
          "output_type": "display_data",
          "data": {
            "text/plain": [
              "<Figure size 432x288 with 1 Axes>"
            ],
            "image/png": "[encoded data removed]"
          },
          "metadata": {
            "needs_background": "light"
          }
        }
      ],
      "source": [
        "train.groupby(['C18', 'click']).size().unstack().plot(kind='bar', stacked=True, title='C18 distribution');"
      ]
    },
    {
      "cell_type": "code",
      "execution_count": 73,
      "metadata": {
        "colab": {
          "base_uri": "https://localhost:8080/",
          "height": 289
        },
        "id": "HtCIlRb367Xz",
        "outputId": "fe5b4309-df9c-4c46-f10f-fa371183aa79"
      },
      "outputs": [
        {
          "output_type": "execute_result",
          "data": {
            "text/plain": [
              "                     id  click       hour    C1  banner_pos   site_id  \\\n",
              "0  10000169349117863715      0 2014-10-21  1005           0  1fbe01fe   \n",
              "1  10000949271186029916      1 2014-10-21  1005           0  1fbe01fe   \n",
              "2  10006490708516192015      1 2014-10-21  1005           0  1fbe01fe   \n",
              "\n",
              "  site_domain site_category    app_id app_domain  ...    C14  C15 C16   C17  \\\n",
              "0    f3845767      28905ebd  ecad2386   7801e8d9  ...  15704  320  50  1722   \n",
              "1    f3845767      28905ebd  ecad2386   7801e8d9  ...  15707  320  50  1722   \n",
              "2    f3845767      28905ebd  ecad2386   7801e8d9  ...  15708  320  50  1722   \n",
              "\n",
              "   C18  C19     C20  C21  hour_of_day  day_of_week  \n",
              "0    0   35  100084   79            0      Tuesday  \n",
              "1    0   35      -1   79            0      Tuesday  \n",
              "2    0   35  100083   79            0      Tuesday  \n",
              "\n",
              "[3 rows x 26 columns]"
            ],
            "text/html": [
              "\n",
              "  <div id=\"df-86ea441f-594e-4140-9441-3e8987e4e13f\">\n",
              "    <div class=\"colab-df-container\">\n",
              "      <div>\n",
              "<style scoped>\n",
              "    .dataframe tbody tr th:only-of-type {\n",
              "        vertical-align: middle;\n",
              "    }\n",
              "\n",
              "    .dataframe tbody tr th {\n",
              "        vertical-align: top;\n",
              "    }\n",
              "\n",
              "    .dataframe thead th {\n",
              "        text-align: right;\n",
              "    }\n",
              "</style>\n",
              "<table border=\"1\" class=\"dataframe\">\n",
              "  <thead>\n",
              "    <tr style=\"text-align: right;\">\n",
              "      <th></th>\n",
              "      <th>id</th>\n",
              "      <th>click</th>\n",
              "      <th>hour</th>\n",
              "      <th>C1</th>\n",
              "      <th>banner_pos</th>\n",
              "      <th>site_id</th>\n",
              "      <th>site_domain</th>\n",
              "      <th>site_category</th>\n",
              "      <th>app_id</th>\n",
              "      <th>app_domain</th>\n",
              "      <th>...</th>\n",
              "      <th>C14</th>\n",
              "      <th>C15</th>\n",
              "      <th>C16</th>\n",
              "      <th>C17</th>\n",
              "      <th>C18</th>\n",
              "      <th>C19</th>\n",
              "      <th>C20</th>\n",
              "      <th>C21</th>\n",
              "      <th>hour_of_day</th>\n",
              "      <th>day_of_week</th>\n",
              "    </tr>\n",
              "  </thead>\n",
              "  <tbody>\n",
              "    <tr>\n",
              "      <th>0</th>\n",
              "      <td>10000169349117863715</td>\n",
              "      <td>0</td>\n",
              "      <td>2014-10-21</td>\n",
              "      <td>1005</td>\n",
              "      <td>0</td>\n",
              "      <td>1fbe01fe</td>\n",
              "      <td>f3845767</td>\n",
              "      <td>28905ebd</td>\n",
              "      <td>ecad2386</td>\n",
              "      <td>7801e8d9</td>\n",
              "      <td>...</td>\n",
              "      <td>15704</td>\n",
              "      <td>320</td>\n",
              "      <td>50</td>\n",
              "      <td>1722</td>\n",
              "      <td>0</td>\n",
              "      <td>35</td>\n",
              "      <td>100084</td>\n",
              "      <td>79</td>\n",
              "      <td>0</td>\n",
              "      <td>Tuesday</td>\n",
              "    </tr>\n",
              "    <tr>\n",
              "      <th>1</th>\n",
              "      <td>10000949271186029916</td>\n",
              "      <td>1</td>\n",
              "      <td>2014-10-21</td>\n",
              "      <td>1005</td>\n",
              "      <td>0</td>\n",
              "      <td>1fbe01fe</td>\n",
              "      <td>f3845767</td>\n",
              "      <td>28905ebd</td>\n",
              "      <td>ecad2386</td>\n",
              "      <td>7801e8d9</td>\n",
              "      <td>...</td>\n",
              "      <td>15707</td>\n",
              "      <td>320</td>\n",
              "      <td>50</td>\n",
              "      <td>1722</td>\n",
              "      <td>0</td>\n",
              "      <td>35</td>\n",
              "      <td>-1</td>\n",
              "      <td>79</td>\n",
              "      <td>0</td>\n",
              "      <td>Tuesday</td>\n",
              "    </tr>\n",
              "    <tr>\n",
              "      <th>2</th>\n",
              "      <td>10006490708516192015</td>\n",
              "      <td>1</td>\n",
              "      <td>2014-10-21</td>\n",
              "      <td>1005</td>\n",
              "      <td>0</td>\n",
              "      <td>1fbe01fe</td>\n",
              "      <td>f3845767</td>\n",
              "      <td>28905ebd</td>\n",
              "      <td>ecad2386</td>\n",
              "      <td>7801e8d9</td>\n",
              "      <td>...</td>\n",
              "      <td>15708</td>\n",
              "      <td>320</td>\n",
              "      <td>50</td>\n",
              "      <td>1722</td>\n",
              "      <td>0</td>\n",
              "      <td>35</td>\n",
              "      <td>100083</td>\n",
              "      <td>79</td>\n",
              "      <td>0</td>\n",
              "      <td>Tuesday</td>\n",
              "    </tr>\n",
              "  </tbody>\n",
              "</table>\n",
              "<p>3 rows × 26 columns</p>\n",
              "</div>\n",
              "      <button class=\"colab-df-convert\" onclick=\"convertToInteractive('df-86ea441f-594e-4140-9441-3e8987e4e13f')\"\n",
              "              title=\"Convert this dataframe to an interactive table.\"\n",
              "              style=\"display:none;\">\n",
              "        \n",
              "  <svg xmlns=\"http://www.w3.org/2000/svg\" height=\"24px\"viewBox=\"0 0 24 24\"\n",
              "       width=\"24px\">\n",
              "    <path d=\"M0 0h24v24H0V0z\" fill=\"none\"/>\n",
              "    <path d=\"M18.56 5.44l.94 2.06.94-2.06 2.06-.94-2.06-.94-.94-2.06-.94 2.06-2.06.94zm-11 1L8.5 8.5l.94-2.06 2.06-.94-2.06-.94L8.5 2.5l-.94 2.06-2.06.94zm10 10l.94 2.06.94-2.06 2.06-.94-2.06-.94-.94-2.06-.94 2.06-2.06.94z\"/><path d=\"M17.41 7.96l-1.37-1.37c-.4-.4-.92-.59-1.43-.59-.52 0-1.04.2-1.43.59L10.3 9.45l-7.72 7.72c-.78.78-.78 2.05 0 2.83L4 21.41c.39.39.9.59 1.41.59.51 0 1.02-.2 1.41-.59l7.78-7.78 2.81-2.81c.8-.78.8-2.07 0-2.86zM5.41 20L4 18.59l7.72-7.72 1.47 1.35L5.41 20z\"/>\n",
              "  </svg>\n",
              "      </button>\n",
              "      \n",
              "  <style>\n",
              "    .colab-df-container {\n",
              "      display:flex;\n",
              "      flex-wrap:wrap;\n",
              "      gap: 12px;\n",
              "    }\n",
              "\n",
              "    .colab-df-convert {\n",
              "      background-color: #E8F0FE;\n",
              "      border: none;\n",
              "      border-radius: 50%;\n",
              "      cursor: pointer;\n",
              "      display: none;\n",
              "      fill: #1967D2;\n",
              "      height: 32px;\n",
              "      padding: 0 0 0 0;\n",
              "      width: 32px;\n",
              "    }\n",
              "\n",
              "    .colab-df-convert:hover {\n",
              "      background-color: #E2EBFA;\n",
              "      box-shadow: 0px 1px 2px rgba(60, 64, 67, 0.3), 0px 1px 3px 1px rgba(60, 64, 67, 0.15);\n",
              "      fill: #174EA6;\n",
              "    }\n",
              "\n",
              "    [theme=dark] .colab-df-convert {\n",
              "      background-color: #3B4455;\n",
              "      fill: #D2E3FC;\n",
              "    }\n",
              "\n",
              "    [theme=dark] .colab-df-convert:hover {\n",
              "      background-color: #434B5C;\n",
              "      box-shadow: 0px 1px 3px 1px rgba(0, 0, 0, 0.15);\n",
              "      filter: drop-shadow(0px 1px 2px rgba(0, 0, 0, 0.3));\n",
              "      fill: #FFFFFF;\n",
              "    }\n",
              "  </style>\n",
              "\n",
              "      <script>\n",
              "        const buttonEl =\n",
              "          document.querySelector('#df-86ea441f-594e-4140-9441-3e8987e4e13f button.colab-df-convert');\n",
              "        buttonEl.style.display =\n",
              "          google.colab.kernel.accessAllowed ? 'block' : 'none';\n",
              "\n",
              "        async function convertToInteractive(key) {\n",
              "          const element = document.querySelector('#df-86ea441f-594e-4140-9441-3e8987e4e13f');\n",
              "          const dataTable =\n",
              "            await google.colab.kernel.invokeFunction('convertToInteractive',\n",
              "                                                     [key], {});\n",
              "          if (!dataTable) return;\n",
              "\n",
              "          const docLinkHtml = 'Like what you see? Visit the ' +\n",
              "            '<a target=\"_blank\" href=https://colab.research.google.com/notebooks/data_table.ipynb>data table notebook</a>'\n",
              "            + ' to learn more about interactive tables.';\n",
              "          element.innerHTML = '';\n",
              "          dataTable['output_type'] = 'display_data';\n",
              "          await google.colab.output.renderOutput(dataTable, element);\n",
              "          const docLink = document.createElement('div');\n",
              "          docLink.innerHTML = docLinkHtml;\n",
              "          element.appendChild(docLink);\n",
              "        }\n",
              "      </script>\n",
              "    </div>\n",
              "  </div>\n",
              "  "
            ]
          },
          "metadata": {},
          "execution_count": 73
        }
      ],
      "source": [
        "train.head(3)"
      ]
    },
    {
      "cell_type": "code",
      "execution_count": 74,
      "metadata": {
        "id": "VqlYR_w667Xz"
      },
      "outputs": [],
      "source": [
        "def convert_obj_to_int(self):\n",
        "    \n",
        "    object_list_columns = self.columns\n",
        "    object_list_dtypes = self.dtypes\n",
        "    new_col_suffix = '_int'\n",
        "    for index in range(0,len(object_list_columns)):\n",
        "        if object_list_dtypes[index] == object :\n",
        "            self[object_list_columns[index]+new_col_suffix] = self[object_list_columns[index]].map( lambda  x: hash(x))\n",
        "            self.drop([object_list_columns[index]],inplace=True,axis=1)\n",
        "    return self\n",
        "train = convert_obj_to_int(train)"
      ]
    },
    {
      "cell_type": "code",
      "execution_count": 75,
      "metadata": {
        "colab": {
          "base_uri": "https://localhost:8080/",
          "height": 289
        },
        "id": "C-r7BVmK67Xz",
        "outputId": "671d7635-0ac0-472d-eaee-0336e49e8275"
      },
      "outputs": [
        {
          "output_type": "execute_result",
          "data": {
            "text/plain": [
              "                     id  click       hour    C1  banner_pos  device_type  \\\n",
              "0  10000169349117863715      0 2014-10-21  1005           0            1   \n",
              "1  10000949271186029916      1 2014-10-21  1005           0            1   \n",
              "2  10006490708516192015      1 2014-10-21  1005           0            1   \n",
              "\n",
              "   device_conn_type    C14  C15  C16  ...          site_id_int  \\\n",
              "0                 0  15704  320   50  ... -6492404588058177298   \n",
              "1                 2  15707  320   50  ... -6492404588058177298   \n",
              "2                 0  15708  320   50  ... -6492404588058177298   \n",
              "\n",
              "       site_domain_int    site_category_int           app_id_int  \\\n",
              "0 -5748729732776153338  1188275612966111309 -3947281355349736064   \n",
              "1 -5748729732776153338  1188275612966111309 -3947281355349736064   \n",
              "2 -5748729732776153338  1188275612966111309 -3947281355349736064   \n",
              "\n",
              "        app_domain_int     app_category_int        device_id_int  \\\n",
              "0 -3235331193927620979 -5119503289890858689 -3345723759739639550   \n",
              "1 -3235331193927620979 -5119503289890858689 -3345723759739639550   \n",
              "2 -3235331193927620979 -5119503289890858689 -3345723759739639550   \n",
              "\n",
              "         device_ip_int     device_model_int      day_of_week_int  \n",
              "0  7474278078898007007  6555686221842870964 -9047360984727327071  \n",
              "1 -7610831833265139283  4412388564677982882 -9047360984727327071  \n",
              "2  -508124159587015338 -3558627641197817301 -9047360984727327071  \n",
              "\n",
              "[3 rows x 26 columns]"
            ],
            "text/html": [
              "\n",
              "  <div id=\"df-8c3d3dbc-b5fc-4256-b92a-3918efdb0ade\">\n",
              "    <div class=\"colab-df-container\">\n",
              "      <div>\n",
              "<style scoped>\n",
              "    .dataframe tbody tr th:only-of-type {\n",
              "        vertical-align: middle;\n",
              "    }\n",
              "\n",
              "    .dataframe tbody tr th {\n",
              "        vertical-align: top;\n",
              "    }\n",
              "\n",
              "    .dataframe thead th {\n",
              "        text-align: right;\n",
              "    }\n",
              "</style>\n",
              "<table border=\"1\" class=\"dataframe\">\n",
              "  <thead>\n",
              "    <tr style=\"text-align: right;\">\n",
              "      <th></th>\n",
              "      <th>id</th>\n",
              "      <th>click</th>\n",
              "      <th>hour</th>\n",
              "      <th>C1</th>\n",
              "      <th>banner_pos</th>\n",
              "      <th>device_type</th>\n",
              "      <th>device_conn_type</th>\n",
              "      <th>C14</th>\n",
              "      <th>C15</th>\n",
              "      <th>C16</th>\n",
              "      <th>...</th>\n",
              "      <th>site_id_int</th>\n",
              "      <th>site_domain_int</th>\n",
              "      <th>site_category_int</th>\n",
              "      <th>app_id_int</th>\n",
              "      <th>app_domain_int</th>\n",
              "      <th>app_category_int</th>\n",
              "      <th>device_id_int</th>\n",
              "      <th>device_ip_int</th>\n",
              "      <th>device_model_int</th>\n",
              "      <th>day_of_week_int</th>\n",
              "    </tr>\n",
              "  </thead>\n",
              "  <tbody>\n",
              "    <tr>\n",
              "      <th>0</th>\n",
              "      <td>10000169349117863715</td>\n",
              "      <td>0</td>\n",
              "      <td>2014-10-21</td>\n",
              "      <td>1005</td>\n",
              "      <td>0</td>\n",
              "      <td>1</td>\n",
              "      <td>0</td>\n",
              "      <td>15704</td>\n",
              "      <td>320</td>\n",
              "      <td>50</td>\n",
              "      <td>...</td>\n",
              "      <td>-6492404588058177298</td>\n",
              "      <td>-5748729732776153338</td>\n",
              "      <td>1188275612966111309</td>\n",
              "      <td>-3947281355349736064</td>\n",
              "      <td>-3235331193927620979</td>\n",
              "      <td>-5119503289890858689</td>\n",
              "      <td>-3345723759739639550</td>\n",
              "      <td>7474278078898007007</td>\n",
              "      <td>6555686221842870964</td>\n",
              "      <td>-9047360984727327071</td>\n",
              "    </tr>\n",
              "    <tr>\n",
              "      <th>1</th>\n",
              "      <td>10000949271186029916</td>\n",
              "      <td>1</td>\n",
              "      <td>2014-10-21</td>\n",
              "      <td>1005</td>\n",
              "      <td>0</td>\n",
              "      <td>1</td>\n",
              "      <td>2</td>\n",
              "      <td>15707</td>\n",
              "      <td>320</td>\n",
              "      <td>50</td>\n",
              "      <td>...</td>\n",
              "      <td>-6492404588058177298</td>\n",
              "      <td>-5748729732776153338</td>\n",
              "      <td>1188275612966111309</td>\n",
              "      <td>-3947281355349736064</td>\n",
              "      <td>-3235331193927620979</td>\n",
              "      <td>-5119503289890858689</td>\n",
              "      <td>-3345723759739639550</td>\n",
              "      <td>-7610831833265139283</td>\n",
              "      <td>4412388564677982882</td>\n",
              "      <td>-9047360984727327071</td>\n",
              "    </tr>\n",
              "    <tr>\n",
              "      <th>2</th>\n",
              "      <td>10006490708516192015</td>\n",
              "      <td>1</td>\n",
              "      <td>2014-10-21</td>\n",
              "      <td>1005</td>\n",
              "      <td>0</td>\n",
              "      <td>1</td>\n",
              "      <td>0</td>\n",
              "      <td>15708</td>\n",
              "      <td>320</td>\n",
              "      <td>50</td>\n",
              "      <td>...</td>\n",
              "      <td>-6492404588058177298</td>\n",
              "      <td>-5748729732776153338</td>\n",
              "      <td>1188275612966111309</td>\n",
              "      <td>-3947281355349736064</td>\n",
              "      <td>-3235331193927620979</td>\n",
              "      <td>-5119503289890858689</td>\n",
              "      <td>-3345723759739639550</td>\n",
              "      <td>-508124159587015338</td>\n",
              "      <td>-3558627641197817301</td>\n",
              "      <td>-9047360984727327071</td>\n",
              "    </tr>\n",
              "  </tbody>\n",
              "</table>\n",
              "<p>3 rows × 26 columns</p>\n",
              "</div>\n",
              "      <button class=\"colab-df-convert\" onclick=\"convertToInteractive('df-8c3d3dbc-b5fc-4256-b92a-3918efdb0ade')\"\n",
              "              title=\"Convert this dataframe to an interactive table.\"\n",
              "              style=\"display:none;\">\n",
              "        \n",
              "  <svg xmlns=\"http://www.w3.org/2000/svg\" height=\"24px\"viewBox=\"0 0 24 24\"\n",
              "       width=\"24px\">\n",
              "    <path d=\"M0 0h24v24H0V0z\" fill=\"none\"/>\n",
              "    <path d=\"M18.56 5.44l.94 2.06.94-2.06 2.06-.94-2.06-.94-.94-2.06-.94 2.06-2.06.94zm-11 1L8.5 8.5l.94-2.06 2.06-.94-2.06-.94L8.5 2.5l-.94 2.06-2.06.94zm10 10l.94 2.06.94-2.06 2.06-.94-2.06-.94-.94-2.06-.94 2.06-2.06.94z\"/><path d=\"M17.41 7.96l-1.37-1.37c-.4-.4-.92-.59-1.43-.59-.52 0-1.04.2-1.43.59L10.3 9.45l-7.72 7.72c-.78.78-.78 2.05 0 2.83L4 21.41c.39.39.9.59 1.41.59.51 0 1.02-.2 1.41-.59l7.78-7.78 2.81-2.81c.8-.78.8-2.07 0-2.86zM5.41 20L4 18.59l7.72-7.72 1.47 1.35L5.41 20z\"/>\n",
              "  </svg>\n",
              "      </button>\n",
              "      \n",
              "  <style>\n",
              "    .colab-df-container {\n",
              "      display:flex;\n",
              "      flex-wrap:wrap;\n",
              "      gap: 12px;\n",
              "    }\n",
              "\n",
              "    .colab-df-convert {\n",
              "      background-color: #E8F0FE;\n",
              "      border: none;\n",
              "      border-radius: 50%;\n",
              "      cursor: pointer;\n",
              "      display: none;\n",
              "      fill: #1967D2;\n",
              "      height: 32px;\n",
              "      padding: 0 0 0 0;\n",
              "      width: 32px;\n",
              "    }\n",
              "\n",
              "    .colab-df-convert:hover {\n",
              "      background-color: #E2EBFA;\n",
              "      box-shadow: 0px 1px 2px rgba(60, 64, 67, 0.3), 0px 1px 3px 1px rgba(60, 64, 67, 0.15);\n",
              "      fill: #174EA6;\n",
              "    }\n",
              "\n",
              "    [theme=dark] .colab-df-convert {\n",
              "      background-color: #3B4455;\n",
              "      fill: #D2E3FC;\n",
              "    }\n",
              "\n",
              "    [theme=dark] .colab-df-convert:hover {\n",
              "      background-color: #434B5C;\n",
              "      box-shadow: 0px 1px 3px 1px rgba(0, 0, 0, 0.15);\n",
              "      filter: drop-shadow(0px 1px 2px rgba(0, 0, 0, 0.3));\n",
              "      fill: #FFFFFF;\n",
              "    }\n",
              "  </style>\n",
              "\n",
              "      <script>\n",
              "        const buttonEl =\n",
              "          document.querySelector('#df-8c3d3dbc-b5fc-4256-b92a-3918efdb0ade button.colab-df-convert');\n",
              "        buttonEl.style.display =\n",
              "          google.colab.kernel.accessAllowed ? 'block' : 'none';\n",
              "\n",
              "        async function convertToInteractive(key) {\n",
              "          const element = document.querySelector('#df-8c3d3dbc-b5fc-4256-b92a-3918efdb0ade');\n",
              "          const dataTable =\n",
              "            await google.colab.kernel.invokeFunction('convertToInteractive',\n",
              "                                                     [key], {});\n",
              "          if (!dataTable) return;\n",
              "\n",
              "          const docLinkHtml = 'Like what you see? Visit the ' +\n",
              "            '<a target=\"_blank\" href=https://colab.research.google.com/notebooks/data_table.ipynb>data table notebook</a>'\n",
              "            + ' to learn more about interactive tables.';\n",
              "          element.innerHTML = '';\n",
              "          dataTable['output_type'] = 'display_data';\n",
              "          await google.colab.output.renderOutput(dataTable, element);\n",
              "          const docLink = document.createElement('div');\n",
              "          docLink.innerHTML = docLinkHtml;\n",
              "          element.appendChild(docLink);\n",
              "        }\n",
              "      </script>\n",
              "    </div>\n",
              "  </div>\n",
              "  "
            ]
          },
          "metadata": {},
          "execution_count": 75
        }
      ],
      "source": [
        "train.head(3)"
      ]
    },
    {
      "cell_type": "markdown",
      "metadata": {
        "id": "TOIGbhRmJM2H"
      },
      "source": [
        "## Building Models "
      ]
    },
    {
      "cell_type": "code",
      "execution_count": 76,
      "metadata": {
        "id": "RcfmxkYq67Xz"
      },
      "outputs": [],
      "source": [
        "train.drop('hour', axis=1, inplace=True)"
      ]
    },
    {
      "cell_type": "code",
      "execution_count": 77,
      "metadata": {
        "id": "6zhouTcz67Xz"
      },
      "outputs": [],
      "source": [
        "train.drop('id', axis=1, inplace=True)"
      ]
    },
    {
      "cell_type": "markdown",
      "source": [
        ""
      ],
      "metadata": {
        "id": "Ey24_ZnY9jBj"
      }
    },
    {
      "cell_type": "code",
      "source": [
        ""
      ],
      "metadata": {
        "id": "tMqRi2rN9iYn"
      },
      "execution_count": null,
      "outputs": []
    },
    {
      "cell_type": "markdown",
      "metadata": {
        "id": "VK_hr0XTJrMK"
      },
      "source": [
        "### LightGBM\n"
      ]
    },
    {
      "cell_type": "code",
      "source": [
        "from sklearn.model_selection import train_test_split\n",
        "\n",
        "X_train, X_test, y_train, y_test = train_test_split(train.loc[:, train.columns != 'click'], \n",
        "                                                    train['click'], \n",
        "                                                    test_size=0.3, random_state=42)"
      ],
      "metadata": {
        "id": "gTn24bh7_YA_"
      },
      "execution_count": 107,
      "outputs": []
    },
    {
      "cell_type": "code",
      "source": [
        "# build the lightgbm model\n",
        "import lightgbm as lgb\n",
        "\n",
        "\n",
        "clf = lgb.LGBMClassifier(\n",
        "    task='train',\n",
        "    boosting_type='gbdt',\n",
        "    objective='binary',\n",
        "    num_leaves=31, # defauly leaves(31) amount for each tree\n",
        "    learning_rate=0.08,\n",
        "    feature_fraction=0.7, # will select 70% features before training each tree\n",
        "    bagging_fraction=0.3, #feature_fraction, but this will random select part of data\n",
        "    bagging_freq=5, #  perform bagging at every 5 iteration\n",
        "    verbose=0\n",
        ")\n",
        "clf.fit(X_train, y_train)\n",
        "\n",
        "\n",
        "# predict the results\n",
        "y_pred=clf.predict(X_test)\n",
        "\n",
        "# view accuracy\n",
        "from sklearn.metrics import accuracy_score\n",
        "accuracy=accuracy_score(y_pred, y_test)\n",
        "print('LightGBM Model accuracy score: {0:0.4f}'.format(accuracy_score(y_test, y_pred)))"
      ],
      "metadata": {
        "colab": {
          "base_uri": "https://localhost:8080/"
        },
        "id": "DYyfkg_zZv4W",
        "outputId": "ea2f1733-8561-4fce-dd77-1fddd863d702"
      },
      "execution_count": 214,
      "outputs": [
        {
          "output_type": "stream",
          "name": "stdout",
          "text": [
            "LightGBM Model accuracy score: 0.8332\n"
          ]
        }
      ]
    },
    {
      "cell_type": "code",
      "source": [
        ""
      ],
      "metadata": {
        "id": "MQshQOSladQT"
      },
      "execution_count": null,
      "outputs": []
    },
    {
      "cell_type": "code",
      "execution_count": 108,
      "metadata": {
        "id": "X6Pfrukv67Xz"
      },
      "outputs": [],
      "source": [
        "# create dataset for lightgbm\n",
        "lgb_train = lgb.Dataset(X_train, y_train)\n",
        "lgb_eval = lgb.Dataset(X_test, y_test, reference=lgb_train)"
      ]
    },
    {
      "cell_type": "code",
      "source": [
        "%%capture\n",
        "!pip install wandb"
      ],
      "metadata": {
        "id": "9jqAHtxKBPkD"
      },
      "execution_count": 114,
      "outputs": []
    },
    {
      "cell_type": "code",
      "source": [
        "import wandb\n",
        "from wandb.lightgbm import wandb_callback, log_summary\n",
        "\n",
        "wandb.login(key='9fca47a5983b55ebf003ea317406ba18bf66b182')"
      ],
      "metadata": {
        "colab": {
          "base_uri": "https://localhost:8080/"
        },
        "id": "PoaYCjziBRKO",
        "outputId": "e6ce20c5-4c6c-453a-ba5f-8ffaabe5c6f3"
      },
      "execution_count": 126,
      "outputs": [
        {
          "output_type": "stream",
          "name": "stderr",
          "text": [
            "\u001b[34m\u001b[1mwandb\u001b[0m: \u001b[33mWARNING\u001b[0m If you're specifying your api key in code, ensure this code is not shared publicly.\n",
            "\u001b[34m\u001b[1mwandb\u001b[0m: \u001b[33mWARNING\u001b[0m Consider setting the WANDB_API_KEY environment variable, or running `wandb login` from the command line.\n",
            "\u001b[34m\u001b[1mwandb\u001b[0m: Appending key for api.wandb.ai to your netrc file: /root/.netrc\n"
          ]
        },
        {
          "output_type": "execute_result",
          "data": {
            "text/plain": [
              "True"
            ]
          },
          "metadata": {},
          "execution_count": 126
        }
      ]
    },
    {
      "cell_type": "code",
      "execution_count": 212,
      "metadata": {
        "colab": {
          "base_uri": "https://localhost:8080/",
          "height": 133
        },
        "id": "UaKZ2xu967Xz",
        "outputId": "ed79e569-7678-428e-fde2-e929053b12f5",
        "scrolled": false
      },
      "outputs": [
        {
          "output_type": "error",
          "ename": "SyntaxError",
          "evalue": "ignored",
          "traceback": [
            "\u001b[0;36m  File \u001b[0;32m\"<ipython-input-212-1468697257b4>\"\u001b[0;36m, line \u001b[0;32m3\u001b[0m\n\u001b[0;31m    task='train',\u001b[0m\n\u001b[0m        ^\u001b[0m\n\u001b[0;31mSyntaxError\u001b[0m\u001b[0;31m:\u001b[0m invalid syntax\n"
          ]
        }
      ],
      "source": [
        "# specify your configurations as a dict\n",
        "params = {\n",
        "    'task': 'train',\n",
        "    'boosting_type': 'gbdt',\n",
        "    'objective': 'binary',\n",
        "    'metric': { 'binary_logloss'},\n",
        "    'num_leaves': 31, # defauly leaves(31) amount for each tree\n",
        "    'learning_rate': 0.08,\n",
        "    'feature_fraction': 0.7, # will select 70% features before training each tree\n",
        "    'bagging_fraction': 0.3, #feature_fraction, but this will random select part of data\n",
        "    'bagging_freq': 5, #  perform bagging at every 5 iteration\n",
        "    'verbose': 0\n",
        "}\n",
        "\n",
        "wandb.init(project=\"ctr\", entity=\"keeea\");\n",
        "\n",
        "\n",
        "\n",
        "print('Start training...')\n",
        "# train\n",
        "gbm = lgb.train(params,\n",
        "                lgb_train,\n",
        "                num_boost_round=4000,\n",
        "                valid_sets=lgb_eval,\n",
        "                early_stopping_rounds=500,\n",
        "                callbacks=[wandb_callback()])"
      ]
    },
    {
      "cell_type": "code",
      "source": [
        ""
      ],
      "metadata": {
        "id": "YQRbq3OCDAhn"
      },
      "execution_count": null,
      "outputs": []
    },
    {
      "cell_type": "code",
      "execution_count": 130,
      "metadata": {
        "colab": {
          "base_uri": "https://localhost:8080/"
        },
        "id": "-9IgcLzw67Xz",
        "outputId": "ed2749b1-89cb-4503-f92d-2b8c8d84941d"
      },
      "outputs": [
        {
          "output_type": "stream",
          "name": "stdout",
          "text": [
            "defaultdict(<class 'dict'>, {'valid_0': {'binary_logloss': 0.40051586188417493}})\n"
          ]
        }
      ],
      "source": [
        "print(gbm.best_score)\n"
      ]
    },
    {
      "cell_type": "code",
      "source": [
        "print(gbm.best_iteration)"
      ],
      "metadata": {
        "colab": {
          "base_uri": "https://localhost:8080/"
        },
        "id": "uJeyhsHC-WTm",
        "outputId": "ddd9867b-270c-430a-950d-bb76d9465a56"
      },
      "execution_count": 131,
      "outputs": [
        {
          "output_type": "stream",
          "name": "stdout",
          "text": [
            "1032\n"
          ]
        }
      ]
    },
    {
      "cell_type": "code",
      "source": [
        "# predict\n",
        "y_pred = gbm.predict(X_test, num_iteration=gbm.best_iteration)\n",
        "\n",
        "\n",
        "from sklearn.metrics import mean_squared_error\n",
        "# eval\n",
        "print('The rmse of prediction is:', mean_squared_error(y_test, y_pred) ** 0.5)\n",
        "wandb.log({'rmse_prediction': mean_squared_error(y_test, y_pred) ** 0.5})"
      ],
      "metadata": {
        "colab": {
          "base_uri": "https://localhost:8080/"
        },
        "id": "LharKiB7-s0i",
        "outputId": "dfb582c2-dc45-499f-8cd1-444c74d7240d"
      },
      "execution_count": 134,
      "outputs": [
        {
          "output_type": "stream",
          "name": "stdout",
          "text": [
            "The rmse of prediction is: 0.35401155326778966\n"
          ]
        }
      ]
    },
    {
      "cell_type": "code",
      "source": [
        "from sklearn.metrics import accuracy_score"
      ],
      "metadata": {
        "colab": {
          "base_uri": "https://localhost:8080/"
        },
        "id": "OTAXBOI4W0P0",
        "outputId": "891b86a4-50a5-4a9c-ba80-b61c83d4dbb5"
      },
      "execution_count": 202,
      "outputs": [
        {
          "output_type": "execute_result",
          "data": {
            "text/plain": [
              "987231    0\n",
              "79954     0\n",
              "567130    0\n",
              "500891    0\n",
              "55399     0\n",
              "         ..\n",
              "463299    1\n",
              "728324    0\n",
              "76260     0\n",
              "77813     0\n",
              "718205    0\n",
              "Name: click, Length: 300000, dtype: int64"
            ]
          },
          "metadata": {},
          "execution_count": 202
        }
      ]
    },
    {
      "cell_type": "markdown",
      "source": [
        "### XGboost with Spark"
      ],
      "metadata": {
        "id": "EGlI8-Xh6tik"
      }
    },
    {
      "cell_type": "markdown",
      "metadata": {
        "id": "uui5P04TKDyx"
      },
      "source": [
        "Set up Spark."
      ]
    },
    {
      "cell_type": "code",
      "execution_count": 83,
      "metadata": {
        "colab": {
          "base_uri": "https://localhost:8080/"
        },
        "id": "KEUABFRnJ3fa",
        "outputId": "7278970d-c7b8-4111-c6e3-5cd47cf6ee37"
      },
      "outputs": [
        {
          "output_type": "stream",
          "name": "stdout",
          "text": [
            "Reading package lists... Done\n",
            "Building dependency tree       \n",
            "Reading state information... Done\n",
            "libkrb5-dev is already the newest version (1.16-2ubuntu0.2).\n",
            "0 upgraded, 0 newly installed, 0 to remove and 45 not upgraded.\n",
            "--2022-04-16 05:28:52--  https://downloads.apache.org/spark/spark-3.1.2/spark-3.1.2-bin-hadoop3.2.tgz\n",
            "Resolving downloads.apache.org (downloads.apache.org)... 88.99.95.219, 135.181.214.104, 2a01:4f9:3a:2c57::2, ...\n",
            "Connecting to downloads.apache.org (downloads.apache.org)|88.99.95.219|:443... connected.\n",
            "HTTP request sent, awaiting response... 200 OK\n",
            "Length: 228834641 (218M) [application/x-gzip]\n",
            "Saving to: ‘spark-3.1.2-bin-hadoop3.2.tgz.3’\n",
            "\n",
            "spark-3.1.2-bin-had 100%[===================>] 218.23M  28.6MB/s    in 8.3s    \n",
            "\n",
            "2022-04-16 05:29:01 (26.2 MB/s) - ‘spark-3.1.2-bin-hadoop3.2.tgz.3’ saved [228834641/228834641]\n",
            "\n",
            "Requirement already satisfied: findspark in /usr/local/lib/python3.7/dist-packages (2.0.1)\n",
            "Requirement already satisfied: sparkmagic in /usr/local/lib/python3.7/dist-packages (0.19.1)\n",
            "Requirement already satisfied: pandas>=0.17.1 in /usr/local/lib/python3.7/dist-packages (from sparkmagic) (1.1.5)\n",
            "Requirement already satisfied: numpy in /usr/local/lib/python3.7/dist-packages (from sparkmagic) (1.21.5)\n",
            "Requirement already satisfied: ipywidgets>5.0.0 in /usr/local/lib/python3.7/dist-packages (from sparkmagic) (7.7.0)\n",
            "Requirement already satisfied: ipykernel<6.0.0 in /usr/local/lib/python3.7/dist-packages (from sparkmagic) (4.10.1)\n",
            "Requirement already satisfied: hdijupyterutils>=0.6 in /usr/local/lib/python3.7/dist-packages (from sparkmagic) (0.19.1)\n",
            "Requirement already satisfied: mock in /usr/local/lib/python3.7/dist-packages (from sparkmagic) (4.0.3)\n",
            "Requirement already satisfied: requests in /usr/local/lib/python3.7/dist-packages (from sparkmagic) (2.23.0)\n",
            "Requirement already satisfied: autovizwidget>=0.6 in /usr/local/lib/python3.7/dist-packages (from sparkmagic) (0.19.1)\n",
            "Requirement already satisfied: tornado>=4 in /usr/local/lib/python3.7/dist-packages (from sparkmagic) (5.1.1)\n",
            "Requirement already satisfied: nose in /usr/local/lib/python3.7/dist-packages (from sparkmagic) (1.3.7)\n",
            "Requirement already satisfied: ipython>=4.0.2 in /usr/local/lib/python3.7/dist-packages (from sparkmagic) (5.5.0)\n",
            "Requirement already satisfied: requests-kerberos>=0.8.0 in /usr/local/lib/python3.7/dist-packages (from sparkmagic) (0.14.0)\n",
            "Requirement already satisfied: notebook>=4.2 in /usr/local/lib/python3.7/dist-packages (from sparkmagic) (5.3.1)\n",
            "Requirement already satisfied: plotly>=3 in /usr/local/lib/python3.7/dist-packages (from autovizwidget>=0.6->sparkmagic) (5.5.0)\n",
            "Requirement already satisfied: jupyter>=1 in /usr/local/lib/python3.7/dist-packages (from hdijupyterutils>=0.6->sparkmagic) (1.0.0)\n",
            "Requirement already satisfied: traitlets>=4.1.0 in /usr/local/lib/python3.7/dist-packages (from ipykernel<6.0.0->sparkmagic) (5.1.1)\n",
            "Requirement already satisfied: jupyter-client in /usr/local/lib/python3.7/dist-packages (from ipykernel<6.0.0->sparkmagic) (5.3.5)\n",
            "Requirement already satisfied: pygments in /usr/local/lib/python3.7/dist-packages (from ipython>=4.0.2->sparkmagic) (2.6.1)\n",
            "Requirement already satisfied: pickleshare in /usr/local/lib/python3.7/dist-packages (from ipython>=4.0.2->sparkmagic) (0.7.5)\n",
            "Requirement already satisfied: pexpect in /usr/local/lib/python3.7/dist-packages (from ipython>=4.0.2->sparkmagic) (4.8.0)\n",
            "Requirement already satisfied: simplegeneric>0.8 in /usr/local/lib/python3.7/dist-packages (from ipython>=4.0.2->sparkmagic) (0.8.1)\n",
            "Requirement already satisfied: prompt-toolkit<2.0.0,>=1.0.4 in /usr/local/lib/python3.7/dist-packages (from ipython>=4.0.2->sparkmagic) (1.0.18)\n",
            "Requirement already satisfied: decorator in /usr/local/lib/python3.7/dist-packages (from ipython>=4.0.2->sparkmagic) (4.4.2)\n",
            "Requirement already satisfied: setuptools>=18.5 in /usr/local/lib/python3.7/dist-packages (from ipython>=4.0.2->sparkmagic) (57.4.0)\n",
            "Requirement already satisfied: ipython-genutils~=0.2.0 in /usr/local/lib/python3.7/dist-packages (from ipywidgets>5.0.0->sparkmagic) (0.2.0)\n",
            "Requirement already satisfied: jupyterlab-widgets>=1.0.0 in /usr/local/lib/python3.7/dist-packages (from ipywidgets>5.0.0->sparkmagic) (1.1.0)\n",
            "Requirement already satisfied: widgetsnbextension~=3.6.0 in /usr/local/lib/python3.7/dist-packages (from ipywidgets>5.0.0->sparkmagic) (3.6.0)\n",
            "Requirement already satisfied: nbformat>=4.2.0 in /usr/local/lib/python3.7/dist-packages (from ipywidgets>5.0.0->sparkmagic) (5.3.0)\n",
            "Requirement already satisfied: qtconsole in /usr/local/lib/python3.7/dist-packages (from jupyter>=1->hdijupyterutils>=0.6->sparkmagic) (5.3.0)\n",
            "Requirement already satisfied: nbconvert in /usr/local/lib/python3.7/dist-packages (from jupyter>=1->hdijupyterutils>=0.6->sparkmagic) (5.6.1)\n",
            "Requirement already satisfied: jupyter-console in /usr/local/lib/python3.7/dist-packages (from jupyter>=1->hdijupyterutils>=0.6->sparkmagic) (5.2.0)\n",
            "Requirement already satisfied: jupyter-core in /usr/local/lib/python3.7/dist-packages (from nbformat>=4.2.0->ipywidgets>5.0.0->sparkmagic) (4.9.2)\n",
            "Requirement already satisfied: fastjsonschema in /usr/local/lib/python3.7/dist-packages (from nbformat>=4.2.0->ipywidgets>5.0.0->sparkmagic) (2.15.3)\n",
            "Requirement already satisfied: jsonschema>=2.6 in /usr/local/lib/python3.7/dist-packages (from nbformat>=4.2.0->ipywidgets>5.0.0->sparkmagic) (4.3.3)\n",
            "Requirement already satisfied: importlib-resources>=1.4.0 in /usr/local/lib/python3.7/dist-packages (from jsonschema>=2.6->nbformat>=4.2.0->ipywidgets>5.0.0->sparkmagic) (5.6.0)\n",
            "Requirement already satisfied: importlib-metadata in /usr/local/lib/python3.7/dist-packages (from jsonschema>=2.6->nbformat>=4.2.0->ipywidgets>5.0.0->sparkmagic) (4.11.3)\n",
            "Requirement already satisfied: pyrsistent!=0.17.0,!=0.17.1,!=0.17.2,>=0.14.0 in /usr/local/lib/python3.7/dist-packages (from jsonschema>=2.6->nbformat>=4.2.0->ipywidgets>5.0.0->sparkmagic) (0.18.1)\n",
            "Requirement already satisfied: typing-extensions in /usr/local/lib/python3.7/dist-packages (from jsonschema>=2.6->nbformat>=4.2.0->ipywidgets>5.0.0->sparkmagic) (4.1.1)\n",
            "Requirement already satisfied: attrs>=17.4.0 in /usr/local/lib/python3.7/dist-packages (from jsonschema>=2.6->nbformat>=4.2.0->ipywidgets>5.0.0->sparkmagic) (21.4.0)\n",
            "Requirement already satisfied: zipp>=3.1.0 in /usr/local/lib/python3.7/dist-packages (from importlib-resources>=1.4.0->jsonschema>=2.6->nbformat>=4.2.0->ipywidgets>5.0.0->sparkmagic) (3.8.0)\n",
            "Requirement already satisfied: terminado>=0.8.1 in /usr/local/lib/python3.7/dist-packages (from notebook>=4.2->sparkmagic) (0.13.3)\n",
            "Requirement already satisfied: jinja2 in /usr/local/lib/python3.7/dist-packages (from notebook>=4.2->sparkmagic) (2.11.3)\n",
            "Requirement already satisfied: Send2Trash in /usr/local/lib/python3.7/dist-packages (from notebook>=4.2->sparkmagic) (1.8.0)\n",
            "Requirement already satisfied: python-dateutil>=2.1 in /usr/local/lib/python3.7/dist-packages (from jupyter-client->ipykernel<6.0.0->sparkmagic) (2.8.2)\n",
            "Requirement already satisfied: pyzmq>=13 in /usr/local/lib/python3.7/dist-packages (from jupyter-client->ipykernel<6.0.0->sparkmagic) (22.3.0)\n",
            "Requirement already satisfied: pytz>=2017.2 in /usr/local/lib/python3.7/dist-packages (from pandas>=0.17.1->sparkmagic) (2018.9)\n",
            "Requirement already satisfied: tenacity>=6.2.0 in /usr/local/lib/python3.7/dist-packages (from plotly>=3->autovizwidget>=0.6->sparkmagic) (8.0.1)\n",
            "Requirement already satisfied: six in /usr/local/lib/python3.7/dist-packages (from plotly>=3->autovizwidget>=0.6->sparkmagic) (1.15.0)\n",
            "Requirement already satisfied: wcwidth in /usr/local/lib/python3.7/dist-packages (from prompt-toolkit<2.0.0,>=1.0.4->ipython>=4.0.2->sparkmagic) (0.2.5)\n",
            "Requirement already satisfied: cryptography>=1.3 in /usr/local/lib/python3.7/dist-packages (from requests-kerberos>=0.8.0->sparkmagic) (36.0.2)\n",
            "Requirement already satisfied: pyspnego[kerberos] in /usr/local/lib/python3.7/dist-packages (from requests-kerberos>=0.8.0->sparkmagic) (0.5.1)\n",
            "Requirement already satisfied: cffi>=1.12 in /usr/local/lib/python3.7/dist-packages (from cryptography>=1.3->requests-kerberos>=0.8.0->sparkmagic) (1.15.0)\n",
            "Requirement already satisfied: pycparser in /usr/local/lib/python3.7/dist-packages (from cffi>=1.12->cryptography>=1.3->requests-kerberos>=0.8.0->sparkmagic) (2.21)\n",
            "Requirement already satisfied: urllib3!=1.25.0,!=1.25.1,<1.26,>=1.21.1 in /usr/local/lib/python3.7/dist-packages (from requests->sparkmagic) (1.24.3)\n",
            "Requirement already satisfied: chardet<4,>=3.0.2 in /usr/local/lib/python3.7/dist-packages (from requests->sparkmagic) (3.0.4)\n",
            "Requirement already satisfied: idna<3,>=2.5 in /usr/local/lib/python3.7/dist-packages (from requests->sparkmagic) (2.10)\n",
            "Requirement already satisfied: certifi>=2017.4.17 in /usr/local/lib/python3.7/dist-packages (from requests->sparkmagic) (2021.10.8)\n",
            "Requirement already satisfied: ptyprocess in /usr/local/lib/python3.7/dist-packages (from terminado>=0.8.1->notebook>=4.2->sparkmagic) (0.7.0)\n",
            "Requirement already satisfied: MarkupSafe>=0.23 in /usr/local/lib/python3.7/dist-packages (from jinja2->notebook>=4.2->sparkmagic) (2.0.1)\n",
            "Requirement already satisfied: pandocfilters>=1.4.1 in /usr/local/lib/python3.7/dist-packages (from nbconvert->jupyter>=1->hdijupyterutils>=0.6->sparkmagic) (1.5.0)\n",
            "Requirement already satisfied: mistune<2,>=0.8.1 in /usr/local/lib/python3.7/dist-packages (from nbconvert->jupyter>=1->hdijupyterutils>=0.6->sparkmagic) (0.8.4)\n",
            "Requirement already satisfied: bleach in /usr/local/lib/python3.7/dist-packages (from nbconvert->jupyter>=1->hdijupyterutils>=0.6->sparkmagic) (5.0.0)\n",
            "Requirement already satisfied: defusedxml in /usr/local/lib/python3.7/dist-packages (from nbconvert->jupyter>=1->hdijupyterutils>=0.6->sparkmagic) (0.7.1)\n",
            "Requirement already satisfied: entrypoints>=0.2.2 in /usr/local/lib/python3.7/dist-packages (from nbconvert->jupyter>=1->hdijupyterutils>=0.6->sparkmagic) (0.4)\n",
            "Requirement already satisfied: testpath in /usr/local/lib/python3.7/dist-packages (from nbconvert->jupyter>=1->hdijupyterutils>=0.6->sparkmagic) (0.6.0)\n",
            "Requirement already satisfied: webencodings in /usr/local/lib/python3.7/dist-packages (from bleach->nbconvert->jupyter>=1->hdijupyterutils>=0.6->sparkmagic) (0.5.1)\n",
            "Requirement already satisfied: krb5>=0.3.0 in /usr/local/lib/python3.7/dist-packages (from pyspnego[kerberos]->requests-kerberos>=0.8.0->sparkmagic) (0.3.0)\n",
            "Requirement already satisfied: gssapi>=1.5.0 in /usr/local/lib/python3.7/dist-packages (from pyspnego[kerberos]->requests-kerberos>=0.8.0->sparkmagic) (1.7.3)\n",
            "Requirement already satisfied: qtpy>=2.0.1 in /usr/local/lib/python3.7/dist-packages (from qtconsole->jupyter>=1->hdijupyterutils>=0.6->sparkmagic) (2.0.1)\n",
            "Requirement already satisfied: packaging in /usr/local/lib/python3.7/dist-packages (from qtpy>=2.0.1->qtconsole->jupyter>=1->hdijupyterutils>=0.6->sparkmagic) (21.3)\n",
            "Requirement already satisfied: pyparsing!=3.0.5,>=2.0.2 in /usr/local/lib/python3.7/dist-packages (from packaging->qtpy>=2.0.1->qtconsole->jupyter>=1->hdijupyterutils>=0.6->sparkmagic) (3.0.8)\n",
            "Requirement already satisfied: pyspark in /usr/local/lib/python3.7/dist-packages (3.2.1)\n",
            "Requirement already satisfied: py4j==0.10.9.3 in /usr/local/lib/python3.7/dist-packages (from pyspark) (0.10.9.3)\n",
            "Requirement already satisfied: pyspark in /usr/local/lib/python3.7/dist-packages (3.2.1)\n",
            "Requirement already satisfied: py4j==0.10.9.3 in /usr/local/lib/python3.7/dist-packages (from pyspark) (0.10.9.3)\n",
            "Requirement already satisfied: seaborn in /usr/local/lib/python3.7/dist-packages (0.11.2)\n",
            "Requirement already satisfied: matplotlib>=2.2 in /usr/local/lib/python3.7/dist-packages (from seaborn) (3.2.2)\n",
            "Requirement already satisfied: numpy>=1.15 in /usr/local/lib/python3.7/dist-packages (from seaborn) (1.21.5)\n",
            "Requirement already satisfied: scipy>=1.0 in /usr/local/lib/python3.7/dist-packages (from seaborn) (1.4.1)\n",
            "Requirement already satisfied: pandas>=0.23 in /usr/local/lib/python3.7/dist-packages (from seaborn) (1.1.5)\n",
            "Requirement already satisfied: pyparsing!=2.0.4,!=2.1.2,!=2.1.6,>=2.0.1 in /usr/local/lib/python3.7/dist-packages (from matplotlib>=2.2->seaborn) (3.0.8)\n",
            "Requirement already satisfied: kiwisolver>=1.0.1 in /usr/local/lib/python3.7/dist-packages (from matplotlib>=2.2->seaborn) (1.4.2)\n",
            "Requirement already satisfied: python-dateutil>=2.1 in /usr/local/lib/python3.7/dist-packages (from matplotlib>=2.2->seaborn) (2.8.2)\n",
            "Requirement already satisfied: cycler>=0.10 in /usr/local/lib/python3.7/dist-packages (from matplotlib>=2.2->seaborn) (0.11.0)\n",
            "Requirement already satisfied: typing-extensions in /usr/local/lib/python3.7/dist-packages (from kiwisolver>=1.0.1->matplotlib>=2.2->seaborn) (4.1.1)\n",
            "Requirement already satisfied: pytz>=2017.2 in /usr/local/lib/python3.7/dist-packages (from pandas>=0.23->seaborn) (2018.9)\n",
            "Requirement already satisfied: six>=1.5 in /usr/local/lib/python3.7/dist-packages (from python-dateutil>=2.1->matplotlib>=2.2->seaborn) (1.15.0)\n",
            "Requirement already satisfied: plotly in /usr/local/lib/python3.7/dist-packages (5.5.0)\n",
            "Requirement already satisfied: tenacity>=6.2.0 in /usr/local/lib/python3.7/dist-packages (from plotly) (8.0.1)\n",
            "Requirement already satisfied: six in /usr/local/lib/python3.7/dist-packages (from plotly) (1.15.0)\n",
            "Requirement already satisfied: imageio in /usr/local/lib/python3.7/dist-packages (2.4.1)\n",
            "Requirement already satisfied: pillow in /usr/local/lib/python3.7/dist-packages (from imageio) (7.1.2)\n",
            "Requirement already satisfied: numpy in /usr/local/lib/python3.7/dist-packages (from imageio) (1.21.5)\n",
            "Requirement already satisfied: folium in /usr/local/lib/python3.7/dist-packages (0.8.3)\n",
            "Requirement already satisfied: requests in /usr/local/lib/python3.7/dist-packages (from folium) (2.23.0)\n",
            "Requirement already satisfied: six in /usr/local/lib/python3.7/dist-packages (from folium) (1.15.0)\n",
            "Requirement already satisfied: numpy in /usr/local/lib/python3.7/dist-packages (from folium) (1.21.5)\n",
            "Requirement already satisfied: branca>=0.3.0 in /usr/local/lib/python3.7/dist-packages (from folium) (0.4.2)\n",
            "Requirement already satisfied: jinja2 in /usr/local/lib/python3.7/dist-packages (from folium) (2.11.3)\n",
            "Requirement already satisfied: MarkupSafe>=0.23 in /usr/local/lib/python3.7/dist-packages (from jinja2->folium) (2.0.1)\n",
            "Requirement already satisfied: urllib3!=1.25.0,!=1.25.1,<1.26,>=1.21.1 in /usr/local/lib/python3.7/dist-packages (from requests->folium) (1.24.3)\n",
            "Requirement already satisfied: idna<3,>=2.5 in /usr/local/lib/python3.7/dist-packages (from requests->folium) (2.10)\n",
            "Requirement already satisfied: chardet<4,>=3.0.2 in /usr/local/lib/python3.7/dist-packages (from requests->folium) (3.0.4)\n",
            "Requirement already satisfied: certifi>=2017.4.17 in /usr/local/lib/python3.7/dist-packages (from requests->folium) (2021.10.8)\n"
          ]
        }
      ],
      "source": [
        "!apt install libkrb5-dev\n",
        "!wget https://downloads.apache.org/spark/spark-3.1.2/spark-3.1.2-bin-hadoop3.2.tgz\n",
        "!tar xf spark-3.1.2-bin-hadoop3.2.tgz\n",
        "!pip install findspark\n",
        "!pip install sparkmagic\n",
        "!pip install pyspark\n",
        "! pip install pyspark --user\n",
        "! pip install seaborn --user\n",
        "! pip install plotly --user\n",
        "! pip install imageio --user\n",
        "! pip install folium --user"
      ]
    },
    {
      "cell_type": "code",
      "execution_count": 84,
      "metadata": {
        "id": "4Yk0ClenKC54"
      },
      "outputs": [],
      "source": [
        "from pyspark.sql import SparkSession\n",
        "from pyspark.sql.types import *\n",
        "import pyspark.sql.functions as F\n",
        "\n",
        "spark = SparkSession.builder.appName('ml-hw4').getOrCreate()"
      ]
    },
    {
      "cell_type": "code",
      "execution_count": 85,
      "metadata": {
        "id": "30yTH4OCKQ6p"
      },
      "outputs": [],
      "source": [
        "%load_ext sparkmagic.magics"
      ]
    },
    {
      "cell_type": "code",
      "execution_count": 86,
      "metadata": {
        "id": "_fkKsNA0KSiJ"
      },
      "outputs": [],
      "source": [
        "# SQLite RDBMS\n",
        "import sqlite3\n",
        "# Parallel processing\n",
        "# import swifter\n",
        "import pandas as pd\n",
        "\n",
        "import os\n",
        "os.environ['SPARK_HOME'] = '/content/spark-3.1.2-bin-hadoop3.2'\n",
        "os.environ[\"JAVA_HOME\"] = \"/usr/lib/jvm/java-8-openjdk-amd64\"\n",
        "import pyspark\n",
        "from pyspark.sql import SQLContext"
      ]
    },
    {
      "cell_type": "code",
      "execution_count": 87,
      "metadata": {
        "id": "Tdofm7O5Km7Q"
      },
      "outputs": [],
      "source": [
        "try:\n",
        "    if(spark == None):\n",
        "        spark = SparkSession.builder.appName('Initial').getOrCreate()\n",
        "        sqlContext=SQLContext(spark)\n",
        "except NameError:\n",
        "    spark = SparkSession.builder.appName('Initial').getOrCreate()\n",
        "    sqlContext=SQLContext(spark)"
      ]
    },
    {
      "cell_type": "code",
      "source": [
        "#df = train.drop(['id', 'hour'], axis=1, inplace=False)\n",
        "#df = df.sample(n=100000)\n",
        "df = train.sample(n=100000)"
      ],
      "metadata": {
        "id": "xhcEb3ruc2VT"
      },
      "execution_count": 81,
      "outputs": []
    },
    {
      "cell_type": "code",
      "source": [
        "schema = StructType([StructField('click',StringType(),True),\n",
        "                     StructField('C1',StringType(),True),\n",
        "                     StructField('banner_pos',StringType(),True),\n",
        "                     StructField('site_id',StringType(),True),\n",
        "                     StructField('site_domain',StringType(),True),\n",
        "                     StructField('site_category',StringType(),True),\n",
        "                     StructField('app_id',StringType(),True),\n",
        "                     StructField('app_domain',StringType(),True),\n",
        "                     StructField('app_category',StringType(),True),\n",
        "                     StructField('device_id',StringType(),True),\n",
        "                     StructField('device_ip',StringType(),True),\n",
        "                     StructField('device_model',StringType(),True),\n",
        "                     StructField('device_type',StringType(),True),\n",
        "                     StructField('device_conn_type',StringType(),True),\n",
        "                     StructField('C14',StringType(),True),\n",
        "                     StructField('C15',StringType(),True),\n",
        "                     StructField('C16',StringType(),True),\n",
        "                     StructField('C17',StringType(),True),\n",
        "                     StructField('C18',StringType(),True),\n",
        "                     StructField('C19',StringType(),True),\n",
        "                     StructField('C20',StringType(),True),\n",
        "                     StructField('C21',StringType(),True),\n",
        "                     StructField('hour_of_day',StringType(),True),\n",
        "                     StructField('day_of_week',StringType(),True)])\n",
        "\n",
        "\n",
        "sdf = spark.createDataFrame(df, schema=schema) "
      ],
      "metadata": {
        "id": "-19a-E7ElQO4"
      },
      "execution_count": 88,
      "outputs": []
    },
    {
      "cell_type": "code",
      "source": [
        "!pip install git+https://github.com/sllynn/spark-xgboost"
      ],
      "metadata": {
        "colab": {
          "base_uri": "https://localhost:8080/"
        },
        "id": "sbYcjnbJoYfl",
        "outputId": "69955b7f-cee4-45cb-b346-59c9f844500b"
      },
      "execution_count": 89,
      "outputs": [
        {
          "output_type": "stream",
          "name": "stdout",
          "text": [
            "Collecting git+https://github.com/sllynn/spark-xgboost\n",
            "  Cloning https://github.com/sllynn/spark-xgboost to /tmp/pip-req-build-2wbpcmho\n",
            "  Running command git clone -q https://github.com/sllynn/spark-xgboost /tmp/pip-req-build-2wbpcmho\n"
          ]
        }
      ]
    },
    {
      "cell_type": "code",
      "source": [
        "\n",
        "# Code taken from https://github.com/sllynn/spark-xgboost/blob/master/examples/spark-xgboost_adultdataset.ipynb\n",
        "from sparkxgb import XGBoostClassifier, XGBoostRegressor\n",
        "from pprint import PrettyPrinter\n",
        " \n",
        "from pyspark.sql.types import StringType\n",
        " \n",
        "from pyspark.ml import Pipeline\n",
        "from pyspark.ml.feature import StringIndexer, VectorAssembler\n",
        "from pyspark.ml.evaluation import MulticlassClassificationEvaluator, BinaryClassificationEvaluator\n",
        "from pyspark.ml.tuning import ParamGridBuilder, CrossValidator\n",
        "pp = PrettyPrinter()\n",
        " \n",
        "col_names = df.columns\n",
        " \n",
        "train_sdf, test_sdf = sdf.toDF(*col_names).repartition(200).randomSplit([0.8, 0.2])"
      ],
      "metadata": {
        "id": "roAkS4BYl6aH"
      },
      "execution_count": 90,
      "outputs": []
    },
    {
      "cell_type": "code",
      "source": [
        "string_columns = [fld.name for fld in train_sdf.schema.fields if isinstance(fld.dataType, StringType)]\n",
        "string_col_replacements = [fld + \"_ix\" for fld in string_columns]\n",
        "string_column_map=list(zip(string_columns, string_col_replacements))\n",
        "target = string_col_replacements[0]\n",
        "predictors = [fld.name for fld in train_sdf.schema.fields if not isinstance(fld.dataType, StringType)] + string_col_replacements[1:]\n",
        "pp.pprint(\n",
        "  dict(\n",
        "    string_column_map=string_column_map,\n",
        "    target_variable=target,\n",
        "    predictor_variables=predictors\n",
        "  )\n",
        ")"
      ],
      "metadata": {
        "colab": {
          "base_uri": "https://localhost:8080/"
        },
        "id": "c9ht38z5ovgt",
        "outputId": "06b85d3f-e065-4026-bfdb-7beacf456bfa"
      },
      "execution_count": 95,
      "outputs": [
        {
          "output_type": "stream",
          "name": "stdout",
          "text": [
            "{'predictor_variables': ['C1_ix',\n",
            "                         'banner_pos_ix',\n",
            "                         'device_type_ix',\n",
            "                         'device_conn_type_ix',\n",
            "                         'C14_ix',\n",
            "                         'C15_ix',\n",
            "                         'C16_ix',\n",
            "                         'C17_ix',\n",
            "                         'C18_ix',\n",
            "                         'C19_ix',\n",
            "                         'C20_ix',\n",
            "                         'C21_ix',\n",
            "                         'hour_of_day_ix',\n",
            "                         'site_id_int_ix',\n",
            "                         'site_domain_int_ix',\n",
            "                         'site_category_int_ix',\n",
            "                         'app_id_int_ix',\n",
            "                         'app_domain_int_ix',\n",
            "                         'app_category_int_ix',\n",
            "                         'device_id_int_ix',\n",
            "                         'device_ip_int_ix',\n",
            "                         'device_model_int_ix',\n",
            "                         'day_of_week_int_ix'],\n",
            " 'string_column_map': [('click', 'click_ix'),\n",
            "                       ('C1', 'C1_ix'),\n",
            "                       ('banner_pos', 'banner_pos_ix'),\n",
            "                       ('device_type', 'device_type_ix'),\n",
            "                       ('device_conn_type', 'device_conn_type_ix'),\n",
            "                       ('C14', 'C14_ix'),\n",
            "                       ('C15', 'C15_ix'),\n",
            "                       ('C16', 'C16_ix'),\n",
            "                       ('C17', 'C17_ix'),\n",
            "                       ('C18', 'C18_ix'),\n",
            "                       ('C19', 'C19_ix'),\n",
            "                       ('C20', 'C20_ix'),\n",
            "                       ('C21', 'C21_ix'),\n",
            "                       ('hour_of_day', 'hour_of_day_ix'),\n",
            "                       ('site_id_int', 'site_id_int_ix'),\n",
            "                       ('site_domain_int', 'site_domain_int_ix'),\n",
            "                       ('site_category_int', 'site_category_int_ix'),\n",
            "                       ('app_id_int', 'app_id_int_ix'),\n",
            "                       ('app_domain_int', 'app_domain_int_ix'),\n",
            "                       ('app_category_int', 'app_category_int_ix'),\n",
            "                       ('device_id_int', 'device_id_int_ix'),\n",
            "                       ('device_ip_int', 'device_ip_int_ix'),\n",
            "                       ('device_model_int', 'device_model_int_ix'),\n",
            "                       ('day_of_week_int', 'day_of_week_int_ix')],\n",
            " 'target_variable': 'click_ix'}\n"
          ]
        }
      ]
    },
    {
      "cell_type": "code",
      "source": [
        "# StringIndexer\n",
        "si = [StringIndexer(inputCol=fld[0], outputCol=fld[1]) for fld in string_column_map]\n",
        "# VectorAssembler\n",
        "va = VectorAssembler(inputCols=predictors, outputCol=\"features\")\n",
        "pipeline = Pipeline(stages=[*si, va])\n",
        "fitted_pipeline = pipeline.fit(train_sdf.union(test_sdf))"
      ],
      "metadata": {
        "id": "RBXJYduOwdgh"
      },
      "execution_count": 96,
      "outputs": []
    },
    {
      "cell_type": "code",
      "source": [
        "train_sdf_prepared = fitted_pipeline.transform(train_sdf)\n",
        "train_sdf_prepared.cache()\n",
        "train_sdf_prepared.count()"
      ],
      "metadata": {
        "colab": {
          "base_uri": "https://localhost:8080/"
        },
        "id": "g5HFqGlOw78x",
        "outputId": "75340743-b465-4fff-9703-13dfc7a354be"
      },
      "execution_count": 97,
      "outputs": [
        {
          "output_type": "execute_result",
          "data": {
            "text/plain": [
              "80145"
            ]
          },
          "metadata": {},
          "execution_count": 97
        }
      ]
    },
    {
      "cell_type": "code",
      "source": [
        "test_sdf_prepared = fitted_pipeline.transform(test_sdf)\n",
        "test_sdf_prepared.cache()\n",
        "test_sdf_prepared.count()"
      ],
      "metadata": {
        "colab": {
          "base_uri": "https://localhost:8080/"
        },
        "id": "grYnXAmIyC20",
        "outputId": "15546514-b695-47ae-9114-17b48a96633a"
      },
      "execution_count": 98,
      "outputs": [
        {
          "output_type": "execute_result",
          "data": {
            "text/plain": [
              "19855"
            ]
          },
          "metadata": {},
          "execution_count": 98
        }
      ]
    },
    {
      "cell_type": "code",
      "source": [
        "xgbParams = dict(\n",
        "  eta=0.1,\n",
        "  maxDepth=2,\n",
        "  missing=0.0,\n",
        "  objective=\"binary:logistic\",\n",
        "  numRound=5,\n",
        "  numWorkers=2\n",
        ")\n",
        "\n",
        "xgb = (\n",
        "  XGBoostClassifier(**xgbParams)\n",
        "  .setFeaturesCol(\"features\")\n",
        "  .setLabelCol(\"click_ix\")\n",
        ")\n",
        "\n",
        "bce = BinaryClassificationEvaluator(\n",
        "  rawPredictionCol=\"rawPrediction\",\n",
        "  labelCol=\"click_ix\"\n",
        ")"
      ],
      "metadata": {
        "id": "tTIpUkEz582Z"
      },
      "execution_count": null,
      "outputs": []
    },
    {
      "cell_type": "code",
      "source": [
        "param_grid = (\n",
        "  ParamGridBuilder()\n",
        "  .addGrid(xgb.eta, [1e-1, 1e-2, 1e-3])\n",
        "  .addGrid(xgb.maxDepth, [2, 4, 8])\n",
        "  .build()\n",
        ")\n",
        "\n",
        "cv = CrossValidator(\n",
        "  estimator=xgb,\n",
        "  estimatorParamMaps=param_grid,\n",
        "  evaluator=bce,#mce,\n",
        "  numFolds=5\n",
        ")"
      ],
      "metadata": {
        "id": "2ZgpnwnS6AIR"
      },
      "execution_count": null,
      "outputs": []
    },
    {
      "cell_type": "markdown",
      "source": [
        "### GBT - MLLIB"
      ],
      "metadata": {
        "id": "bq_j2utFFm7_"
      }
    },
    {
      "cell_type": "markdown",
      "source": [
        "https://medium.com/@aieeshashafique/gradient-boost-model-using-pyspark-mllib-solving-a-chronic-kidney-disease-problem-13039b6dc099"
      ],
      "metadata": {
        "id": "oeWKFQkTVY11"
      }
    },
    {
      "cell_type": "code",
      "source": [
        "schema = StructType([StructField('click',StringType(),True),\n",
        "                     StructField('C1',StringType(),True),\n",
        "                     StructField('banner_pos',StringType(),True),\n",
        "                     StructField('site_id',StringType(),True),\n",
        "                     StructField('site_domain',StringType(),True),\n",
        "                     StructField('site_category',StringType(),True),\n",
        "                     StructField('app_id',StringType(),True),\n",
        "                     StructField('app_domain',StringType(),True),\n",
        "                     StructField('app_category',StringType(),True),\n",
        "                     StructField('device_id',StringType(),True),\n",
        "                     StructField('device_ip',StringType(),True),\n",
        "                     StructField('device_model',StringType(),True),\n",
        "                     StructField('device_type',StringType(),True),\n",
        "                     StructField('device_conn_type',StringType(),True),\n",
        "                     StructField('C14',StringType(),True),\n",
        "                     StructField('C15',StringType(),True),\n",
        "                     StructField('C16',StringType(),True),\n",
        "                     StructField('C17',StringType(),True),\n",
        "                     StructField('C18',StringType(),True),\n",
        "                     StructField('C19',StringType(),True),\n",
        "                     StructField('C20',StringType(),True),\n",
        "                     StructField('C21',StringType(),True),\n",
        "                     StructField('hour_of_day',StringType(),True),\n",
        "                     StructField('day_of_week',StringType(),True)])\n",
        "\n",
        "\n",
        "sdf = spark.createDataFrame(df, schema=schema) "
      ],
      "metadata": {
        "id": "_oVrPF17PHo6"
      },
      "execution_count": 187,
      "outputs": []
    },
    {
      "cell_type": "code",
      "source": [
        "indexer = StringIndexer(inputCol='click', outputCol='label')\n",
        "indexed = indexer.fit(sdf).transform(sdf)"
      ],
      "metadata": {
        "id": "RiWE-k19RGt7"
      },
      "execution_count": 188,
      "outputs": []
    },
    {
      "cell_type": "code",
      "source": [
        "string_columns = sdf.columns[1:]\n",
        "string_col_replacements = [fld + \"_ix\" for fld in string_columns]\n",
        "string_column_map=list(zip(string_columns, string_col_replacements))\n",
        "predictors = [fld.name for fld in train_sdf.schema.fields if not isinstance(fld.dataType, StringType)] + string_col_replacements\n",
        "\n",
        "# StringIndexer\n",
        "si = [StringIndexer(inputCol=fld[0], outputCol=fld[1]) for fld in string_column_map]\n",
        "pipeline = Pipeline(stages=[*si])\n",
        "sied = pipeline.fit(indexed).transform(indexed)"
      ],
      "metadata": {
        "id": "VPtHb62ZImQj"
      },
      "execution_count": 189,
      "outputs": []
    },
    {
      "cell_type": "code",
      "source": [
        "# VectorAssembler\n",
        "va = VectorAssembler(inputCols=predictors, outputCol=\"features\")\n",
        "pipeline = Pipeline(stages=[va])\n",
        "encoded = pipeline.fit(sied).transform(sied)"
      ],
      "metadata": {
        "id": "C7hDIeBSPsGQ"
      },
      "execution_count": 190,
      "outputs": []
    },
    {
      "cell_type": "code",
      "source": [
        "output = encoded.select('features','label')"
      ],
      "metadata": {
        "id": "_zRWOGAqObmn"
      },
      "execution_count": 191,
      "outputs": []
    },
    {
      "cell_type": "markdown",
      "source": [
        "Normalization of Input Features"
      ],
      "metadata": {
        "id": "LZUBsP9GUxyB"
      }
    },
    {
      "cell_type": "code",
      "source": [
        "from pyspark.ml.feature import Normalizer\n",
        "\n",
        "normalizer = Normalizer(inputCol=\"features\", outputCol=\"features_norm\", p=1.0)\n",
        "l1NormData = normalizer.transform(output)\n",
        "l1NormData.show()"
      ],
      "metadata": {
        "colab": {
          "base_uri": "https://localhost:8080/"
        },
        "id": "a1hrd_SbUzaN",
        "outputId": "0d5ef865-041f-408d-81d2-07c61e3a8b4e"
      },
      "execution_count": 194,
      "outputs": [
        {
          "output_type": "stream",
          "name": "stdout",
          "text": [
            "+--------------------+-----+--------------------+\n",
            "|            features|label|       features_norm|\n",
            "+--------------------+-----+--------------------+\n",
            "|(23,[4,5,6,7,8,9,...|  1.0|(23,[4,5,6,7,8,9,...|\n",
            "|(23,[0,2,4,7,8,9,...|  1.0|(23,[0,2,4,7,8,9,...|\n",
            "|(23,[4,11,12,16,1...|  0.0|(23,[4,11,12,16,1...|\n",
            "|(23,[4,7,10,11,12...|  0.0|(23,[4,7,10,11,12...|\n",
            "|(23,[7,8,9,11,12,...|  1.0|(23,[7,8,9,11,12,...|\n",
            "|(23,[4,7,8,9,12,1...|  0.0|(23,[4,7,8,9,12,1...|\n",
            "|(23,[1,4,7,9,10,1...|  0.0|(23,[1,4,7,9,10,1...|\n",
            "|(23,[1,4,7,8,9,12...|  0.0|(23,[1,4,7,8,9,12...|\n",
            "|(23,[4,7,11,12,16...|  0.0|(23,[4,7,11,12,16...|\n",
            "|(23,[4,7,10,11,12...|  0.0|(23,[4,7,10,11,12...|\n",
            "|(23,[1,4,7,8,9,10...|  0.0|(23,[1,4,7,8,9,10...|\n",
            "|(23,[1,4,7,8,9,10...|  1.0|(23,[1,4,7,8,9,10...|\n",
            "|(23,[1,4,7,8,9,10...|  0.0|(23,[1,4,7,8,9,10...|\n",
            "|(23,[4,7,8,9,11,1...|  0.0|(23,[4,7,8,9,11,1...|\n",
            "|(23,[0,1,2,4,7,8,...|  0.0|(23,[0,1,2,4,7,8,...|\n",
            "|(23,[3,4,7,8,11,1...|  0.0|(23,[3,4,7,8,11,1...|\n",
            "|(23,[4,7,8,9,10,1...|  0.0|(23,[4,7,8,9,10,1...|\n",
            "|(23,[4,7,8,12,13,...|  0.0|(23,[4,7,8,12,13,...|\n",
            "|(23,[1,4,7,8,9,10...|  0.0|(23,[1,4,7,8,9,10...|\n",
            "|(23,[4,7,8,11,12,...|  0.0|(23,[4,7,8,11,12,...|\n",
            "+--------------------+-----+--------------------+\n",
            "only showing top 20 rows\n",
            "\n"
          ]
        }
      ]
    },
    {
      "cell_type": "markdown",
      "source": [
        "Spliting Data"
      ],
      "metadata": {
        "id": "qdS8bhuPUM-H"
      }
    },
    {
      "cell_type": "code",
      "source": [
        "#Split the dataset into training and testing dataset\n",
        "\n",
        "splits = l1NormData.randomSplit([0.8, 0.2])\n",
        "df_train = splits[0]\n",
        "df_test = splits[1]"
      ],
      "metadata": {
        "id": "nQBVLf_mUQWF"
      },
      "execution_count": 195,
      "outputs": []
    },
    {
      "cell_type": "code",
      "source": [
        "from pyspark.ml.classification import GBTClassifier\n",
        "\n",
        "gbt = GBTClassifier(labelCol=\"label\", featuresCol=\"features_norm\", maxIter=10)"
      ],
      "metadata": {
        "id": "7UFBhQgtFvBw"
      },
      "execution_count": 196,
      "outputs": []
    },
    {
      "cell_type": "markdown",
      "source": [
        " Built a pipeline on the classifier"
      ],
      "metadata": {
        "id": "6960afvnVQyg"
      }
    },
    {
      "cell_type": "code",
      "source": [
        "from pyspark.ml import Pipeline\n",
        "pipeline = Pipeline(stages=[gbt])\n",
        "  \n",
        "model = pipeline.fit(df_train)\n",
        "prediction = model.transform(df_train)\n",
        "prediction.printSchema()"
      ],
      "metadata": {
        "colab": {
          "base_uri": "https://localhost:8080/"
        },
        "id": "qtFk9ULWVSVI",
        "outputId": "7816bdc5-f2c3-44b2-bbf2-37b354820c0c"
      },
      "execution_count": 197,
      "outputs": [
        {
          "output_type": "stream",
          "name": "stdout",
          "text": [
            "root\n",
            " |-- features: vector (nullable = true)\n",
            " |-- label: double (nullable = false)\n",
            " |-- features_norm: vector (nullable = true)\n",
            " |-- rawPrediction: vector (nullable = true)\n",
            " |-- probability: vector (nullable = true)\n",
            " |-- prediction: double (nullable = false)\n",
            "\n"
          ]
        }
      ]
    },
    {
      "cell_type": "code",
      "source": [
        "#test on testing data\n",
        "prediction = model.transform(df_test)\n",
        "from pyspark.ml.evaluation import MulticlassClassificationEvaluator\n",
        "binEval = MulticlassClassificationEvaluator().setMetricName(\"accuracy\") .setPredictionCol(\"prediction\").setLabelCol(\"label\")\n",
        "    \n",
        "binEval.evaluate(prediction)"
      ],
      "metadata": {
        "colab": {
          "base_uri": "https://localhost:8080/"
        },
        "id": "896Z2tkhV33l",
        "outputId": "5dde6579-8664-46d2-b63f-5e8d37844095"
      },
      "execution_count": 198,
      "outputs": [
        {
          "output_type": "execute_result",
          "data": {
            "text/plain": [
              "0.8378257186986199"
            ]
          },
          "metadata": {},
          "execution_count": 198
        }
      ]
    }
  ],
  "metadata": {
    "colab": {
      "collapsed_sections": [
        "_FRazodB67Xq",
        "-TVb-BWX67Xq",
        "UwuqPsBi67Xr",
        "6LrI7T2D67Xr",
        "baASpJ6v67Xs",
        "TCzmTxKZ67Xt",
        "2Hjnn80O67Xu",
        "_N6cHLIt67Xv",
        "MG9d4Zcp67Xw",
        "4j2Q-0SY67Xx"
      ],
      "name": "Click-Through Rate Prediction.ipynb",
      "toc_visible": true,
      "provenance": []
    },
    "kernelspec": {
      "display_name": "Python 3",
      "language": "python",
      "name": "python3"
    },
    "language_info": {
      "codemirror_mode": {
        "name": "ipython",
        "version": 3
      },
      "file_extension": ".py",
      "mimetype": "text/x-python",
      "name": "python",
      "nbconvert_exporter": "python",
      "pygments_lexer": "ipython3",
      "version": "3.6.4"
    }
  },
  "nbformat": 4,
  "nbformat_minor": 0
}